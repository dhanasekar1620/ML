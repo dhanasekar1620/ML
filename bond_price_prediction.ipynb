{
  "cells": [
    {
      "cell_type": "markdown",
      "metadata": {
        "id": "utHrGeQSHEfG"
      },
      "source": [
        "# bond-prediction\n",
        "\n",
        "Use the \"Run\" button to execute the code."
      ]
    },
    {
      "cell_type": "markdown",
      "metadata": {
        "id": "aGhDGOPJGv-k"
      },
      "source": [
        "##Aim of the Project\n",
        "\n",
        "The aim is predict the next price that a US corporate bond might trade at."
      ]
    },
    {
      "cell_type": "code",
      "execution_count": null,
      "metadata": {
        "colab": {
          "base_uri": "https://localhost:8080/"
        },
        "id": "yFIxz1QCHEfI",
        "outputId": "6cefa51b-e9c1-4301-8e15-0f411cd4bd59"
      },
      "outputs": [
        {
          "name": "stdout",
          "output_type": "stream",
          "text": [
            "\u001b[?25l\r",
            "\u001b[K     |████▊                           | 10 kB 18.4 MB/s eta 0:00:01\r",
            "\u001b[K     |█████████▌                      | 20 kB 21.5 MB/s eta 0:00:01\r",
            "\u001b[K     |██████████████▎                 | 30 kB 27.6 MB/s eta 0:00:01\r",
            "\u001b[K     |███████████████████             | 40 kB 32.3 MB/s eta 0:00:01\r",
            "\u001b[K     |███████████████████████▉        | 51 kB 36.2 MB/s eta 0:00:01\r",
            "\u001b[K     |████████████████████████████▋   | 61 kB 40.4 MB/s eta 0:00:01\r",
            "\u001b[K     |████████████████████████████████| 68 kB 4.7 MB/s \n",
            "\u001b[?25h  Building wheel for uuid (setup.py) ... \u001b[?25l\u001b[?25hdone\n"
          ]
        }
      ],
      "source": [
        "!pip install jovian --upgrade --quiet"
      ]
    },
    {
      "cell_type": "code",
      "execution_count": null,
      "metadata": {
        "id": "zC8wpj38HEfI"
      },
      "outputs": [],
      "source": [
        "import jovian"
      ]
    },
    {
      "cell_type": "code",
      "execution_count": null,
      "metadata": {
        "colab": {
          "base_uri": "https://localhost:8080/",
          "height": 128
        },
        "id": "gPO0GCwfHEfJ",
        "outputId": "e163c1bc-73cf-4758-e9cf-9cf10449f050"
      },
      "outputs": [
        {
          "name": "stdout",
          "output_type": "stream",
          "text": [
            "[jovian] Detected Colab notebook...\u001b[0m\n",
            "[jovian] Please enter your API key ( from https://jovian.ai/ ):\u001b[0m\n",
            "API KEY: ··········\n",
            "[jovian] Uploading colab notebook to Jovian...\u001b[0m\n",
            "Committed successfully! https://jovian.ai/dhanasekar1620/bond-prediction\n"
          ]
        },
        {
          "data": {
            "application/vnd.google.colaboratory.intrinsic+json": {
              "type": "string"
            },
            "text/plain": [
              "'https://jovian.ai/dhanasekar1620/bond-prediction'"
            ]
          },
          "execution_count": 4,
          "metadata": {},
          "output_type": "execute_result"
        }
      ],
      "source": [
        "# Execute this to save new versions of the notebook\n",
        "jovian.commit(project=\"bond-prediction\")"
      ]
    },
    {
      "cell_type": "markdown",
      "metadata": {
        "id": "cojSPNvWHMz8"
      },
      "source": [
        "##Downloading dataset"
      ]
    },
    {
      "cell_type": "code",
      "execution_count": null,
      "metadata": {
        "id": "6tr_Y04IQSU1"
      },
      "outputs": [],
      "source": [
        "!pip install jovian scikit-learn --upgrade --quiet"
      ]
    },
    {
      "cell_type": "code",
      "execution_count": null,
      "metadata": {
        "id": "Phwr51-1QbLG"
      },
      "outputs": [],
      "source": [
        "!pip install numpy pandas matplotlib seaborn plotly opendatasets jovian --quiet"
      ]
    },
    {
      "cell_type": "code",
      "execution_count": null,
      "metadata": {
        "id": "tBNL48sFHLzV"
      },
      "outputs": [],
      "source": [
        "# data process\n",
        "import opendatasets as od\n",
        "import numpy as np \n",
        "import pandas as pd\n",
        "\n",
        "# visualization\n",
        "import seaborn as sns\n",
        "import matplotlib.pyplot as plt\n",
        "import graphviz \n",
        "%matplotlib inline"
      ]
    },
    {
      "cell_type": "code",
      "execution_count": null,
      "metadata": {
        "id": "PWo-shzbHEfK"
      },
      "outputs": [],
      "source": [
        "# system\n",
        "import os\n",
        "import sys\n",
        "\n",
        "# ignore warnings\n",
        "import warnings\n",
        "warnings.filterwarnings('ignore')"
      ]
    },
    {
      "cell_type": "code",
      "execution_count": null,
      "metadata": {
        "colab": {
          "base_uri": "https://localhost:8080/"
        },
        "id": "lxmgopMXQij8",
        "outputId": "880bc4f6-9943-459d-b204-7b71ce2b39c4"
      },
      "outputs": [
        {
          "name": "stdout",
          "output_type": "stream",
          "text": [
            "Please provide your Kaggle credentials to download this dataset. Learn more: http://bit.ly/kaggle-creds\n",
            "Your Kaggle username: dhanasekar1620\n",
            "Your Kaggle Key: ··········\n",
            "Downloading benchmark-bond-trade-price-challenge.zip to ./benchmark-bond-trade-price-challenge\n"
          ]
        },
        {
          "name": "stderr",
          "output_type": "stream",
          "text": [
            "100%|██████████| 563M/563M [00:07<00:00, 82.9MB/s]\n"
          ]
        },
        {
          "name": "stdout",
          "output_type": "stream",
          "text": [
            "\n",
            "Extracting archive ./benchmark-bond-trade-price-challenge/benchmark-bond-trade-price-challenge.zip to ./benchmark-bond-trade-price-challenge\n"
          ]
        }
      ],
      "source": [
        "od.download('https://www.kaggle.com/competitions/benchmark-bond-trade-price-challenge/data')"
      ]
    },
    {
      "cell_type": "code",
      "execution_count": null,
      "metadata": {
        "colab": {
          "base_uri": "https://localhost:8080/"
        },
        "id": "mHaLYlktQxKU",
        "outputId": "04aad2a2-2ee3-4ba6-8578-4b87d0406c92"
      },
      "outputs": [
        {
          "data": {
            "text/plain": [
              "['test.mat',\n",
              " 'train.mat',\n",
              " 'test.7z',\n",
              " 'random_forest_sample_submission.csv',\n",
              " 'random_forest_benchmark.r',\n",
              " 'test.csv',\n",
              " 'train.csv',\n",
              " 'old_data.zip',\n",
              " 'train.7z',\n",
              " 'train.zip',\n",
              " 'test.zip']"
            ]
          },
          "execution_count": 10,
          "metadata": {},
          "output_type": "execute_result"
        }
      ],
      "source": [
        "os.listdir('benchmark-bond-trade-price-challenge')"
      ]
    },
    {
      "cell_type": "code",
      "execution_count": null,
      "metadata": {
        "id": "-9dC3TDfRhUU"
      },
      "outputs": [],
      "source": [
        "df=pd.read_csv('benchmark-bond-trade-price-challenge/train.csv')"
      ]
    },
    {
      "cell_type": "code",
      "execution_count": null,
      "metadata": {
        "colab": {
          "base_uri": "https://localhost:8080/",
          "height": 299
        },
        "id": "N-oA2IKWR4Ro",
        "outputId": "d43e0659-3e9a-4288-eeb0-b770fefa1079"
      },
      "outputs": [
        {
          "data": {
            "text/html": [
              "\n",
              "  <div id=\"df-7ce71abe-29c6-45bc-8dec-53fd929da7bb\">\n",
              "    <div class=\"colab-df-container\">\n",
              "      <div>\n",
              "<style scoped>\n",
              "    .dataframe tbody tr th:only-of-type {\n",
              "        vertical-align: middle;\n",
              "    }\n",
              "\n",
              "    .dataframe tbody tr th {\n",
              "        vertical-align: top;\n",
              "    }\n",
              "\n",
              "    .dataframe thead th {\n",
              "        text-align: right;\n",
              "    }\n",
              "</style>\n",
              "<table border=\"1\" class=\"dataframe\">\n",
              "  <thead>\n",
              "    <tr style=\"text-align: right;\">\n",
              "      <th></th>\n",
              "      <th>id</th>\n",
              "      <th>bond_id</th>\n",
              "      <th>trade_price</th>\n",
              "      <th>weight</th>\n",
              "      <th>current_coupon</th>\n",
              "      <th>time_to_maturity</th>\n",
              "      <th>is_callable</th>\n",
              "      <th>reporting_delay</th>\n",
              "      <th>trade_size</th>\n",
              "      <th>trade_type</th>\n",
              "      <th>...</th>\n",
              "      <th>received_time_diff_last9</th>\n",
              "      <th>trade_price_last9</th>\n",
              "      <th>trade_size_last9</th>\n",
              "      <th>trade_type_last9</th>\n",
              "      <th>curve_based_price_last9</th>\n",
              "      <th>received_time_diff_last10</th>\n",
              "      <th>trade_price_last10</th>\n",
              "      <th>trade_size_last10</th>\n",
              "      <th>trade_type_last10</th>\n",
              "      <th>curve_based_price_last10</th>\n",
              "    </tr>\n",
              "  </thead>\n",
              "  <tbody>\n",
              "    <tr>\n",
              "      <th>0</th>\n",
              "      <td>1</td>\n",
              "      <td>1</td>\n",
              "      <td>128.596</td>\n",
              "      <td>11.316404</td>\n",
              "      <td>5.95</td>\n",
              "      <td>26.031126</td>\n",
              "      <td>0</td>\n",
              "      <td>1.731</td>\n",
              "      <td>120000</td>\n",
              "      <td>2</td>\n",
              "      <td>...</td>\n",
              "      <td>NaN</td>\n",
              "      <td>NaN</td>\n",
              "      <td>NaN</td>\n",
              "      <td>NaN</td>\n",
              "      <td>NaN</td>\n",
              "      <td>NaN</td>\n",
              "      <td>NaN</td>\n",
              "      <td>NaN</td>\n",
              "      <td>NaN</td>\n",
              "      <td>NaN</td>\n",
              "    </tr>\n",
              "    <tr>\n",
              "      <th>1</th>\n",
              "      <td>2</td>\n",
              "      <td>1</td>\n",
              "      <td>126.673</td>\n",
              "      <td>8.763446</td>\n",
              "      <td>5.95</td>\n",
              "      <td>26.016697</td>\n",
              "      <td>0</td>\n",
              "      <td>30.518</td>\n",
              "      <td>85000</td>\n",
              "      <td>4</td>\n",
              "      <td>...</td>\n",
              "      <td>NaN</td>\n",
              "      <td>NaN</td>\n",
              "      <td>NaN</td>\n",
              "      <td>NaN</td>\n",
              "      <td>NaN</td>\n",
              "      <td>NaN</td>\n",
              "      <td>NaN</td>\n",
              "      <td>NaN</td>\n",
              "      <td>NaN</td>\n",
              "      <td>NaN</td>\n",
              "    </tr>\n",
              "    <tr>\n",
              "      <th>2</th>\n",
              "      <td>3</td>\n",
              "      <td>1</td>\n",
              "      <td>126.880</td>\n",
              "      <td>6.499730</td>\n",
              "      <td>5.95</td>\n",
              "      <td>26.008760</td>\n",
              "      <td>0</td>\n",
              "      <td>4.424</td>\n",
              "      <td>4200000</td>\n",
              "      <td>3</td>\n",
              "      <td>...</td>\n",
              "      <td>NaN</td>\n",
              "      <td>NaN</td>\n",
              "      <td>NaN</td>\n",
              "      <td>NaN</td>\n",
              "      <td>NaN</td>\n",
              "      <td>NaN</td>\n",
              "      <td>NaN</td>\n",
              "      <td>NaN</td>\n",
              "      <td>NaN</td>\n",
              "      <td>NaN</td>\n",
              "    </tr>\n",
              "    <tr>\n",
              "      <th>3</th>\n",
              "      <td>4</td>\n",
              "      <td>1</td>\n",
              "      <td>126.362</td>\n",
              "      <td>0.865854</td>\n",
              "      <td>5.95</td>\n",
              "      <td>26.008619</td>\n",
              "      <td>0</td>\n",
              "      <td>43.059</td>\n",
              "      <td>5000001</td>\n",
              "      <td>2</td>\n",
              "      <td>...</td>\n",
              "      <td>NaN</td>\n",
              "      <td>NaN</td>\n",
              "      <td>NaN</td>\n",
              "      <td>NaN</td>\n",
              "      <td>NaN</td>\n",
              "      <td>NaN</td>\n",
              "      <td>NaN</td>\n",
              "      <td>NaN</td>\n",
              "      <td>NaN</td>\n",
              "      <td>NaN</td>\n",
              "    </tr>\n",
              "    <tr>\n",
              "      <th>4</th>\n",
              "      <td>5</td>\n",
              "      <td>1</td>\n",
              "      <td>124.918</td>\n",
              "      <td>11.938543</td>\n",
              "      <td>5.95</td>\n",
              "      <td>25.981840</td>\n",
              "      <td>0</td>\n",
              "      <td>6.332</td>\n",
              "      <td>10000</td>\n",
              "      <td>2</td>\n",
              "      <td>...</td>\n",
              "      <td>NaN</td>\n",
              "      <td>NaN</td>\n",
              "      <td>NaN</td>\n",
              "      <td>NaN</td>\n",
              "      <td>NaN</td>\n",
              "      <td>NaN</td>\n",
              "      <td>NaN</td>\n",
              "      <td>NaN</td>\n",
              "      <td>NaN</td>\n",
              "      <td>NaN</td>\n",
              "    </tr>\n",
              "  </tbody>\n",
              "</table>\n",
              "<p>5 rows × 61 columns</p>\n",
              "</div>\n",
              "      <button class=\"colab-df-convert\" onclick=\"convertToInteractive('df-7ce71abe-29c6-45bc-8dec-53fd929da7bb')\"\n",
              "              title=\"Convert this dataframe to an interactive table.\"\n",
              "              style=\"display:none;\">\n",
              "        \n",
              "  <svg xmlns=\"http://www.w3.org/2000/svg\" height=\"24px\"viewBox=\"0 0 24 24\"\n",
              "       width=\"24px\">\n",
              "    <path d=\"M0 0h24v24H0V0z\" fill=\"none\"/>\n",
              "    <path d=\"M18.56 5.44l.94 2.06.94-2.06 2.06-.94-2.06-.94-.94-2.06-.94 2.06-2.06.94zm-11 1L8.5 8.5l.94-2.06 2.06-.94-2.06-.94L8.5 2.5l-.94 2.06-2.06.94zm10 10l.94 2.06.94-2.06 2.06-.94-2.06-.94-.94-2.06-.94 2.06-2.06.94z\"/><path d=\"M17.41 7.96l-1.37-1.37c-.4-.4-.92-.59-1.43-.59-.52 0-1.04.2-1.43.59L10.3 9.45l-7.72 7.72c-.78.78-.78 2.05 0 2.83L4 21.41c.39.39.9.59 1.41.59.51 0 1.02-.2 1.41-.59l7.78-7.78 2.81-2.81c.8-.78.8-2.07 0-2.86zM5.41 20L4 18.59l7.72-7.72 1.47 1.35L5.41 20z\"/>\n",
              "  </svg>\n",
              "      </button>\n",
              "      \n",
              "  <style>\n",
              "    .colab-df-container {\n",
              "      display:flex;\n",
              "      flex-wrap:wrap;\n",
              "      gap: 12px;\n",
              "    }\n",
              "\n",
              "    .colab-df-convert {\n",
              "      background-color: #E8F0FE;\n",
              "      border: none;\n",
              "      border-radius: 50%;\n",
              "      cursor: pointer;\n",
              "      display: none;\n",
              "      fill: #1967D2;\n",
              "      height: 32px;\n",
              "      padding: 0 0 0 0;\n",
              "      width: 32px;\n",
              "    }\n",
              "\n",
              "    .colab-df-convert:hover {\n",
              "      background-color: #E2EBFA;\n",
              "      box-shadow: 0px 1px 2px rgba(60, 64, 67, 0.3), 0px 1px 3px 1px rgba(60, 64, 67, 0.15);\n",
              "      fill: #174EA6;\n",
              "    }\n",
              "\n",
              "    [theme=dark] .colab-df-convert {\n",
              "      background-color: #3B4455;\n",
              "      fill: #D2E3FC;\n",
              "    }\n",
              "\n",
              "    [theme=dark] .colab-df-convert:hover {\n",
              "      background-color: #434B5C;\n",
              "      box-shadow: 0px 1px 3px 1px rgba(0, 0, 0, 0.15);\n",
              "      filter: drop-shadow(0px 1px 2px rgba(0, 0, 0, 0.3));\n",
              "      fill: #FFFFFF;\n",
              "    }\n",
              "  </style>\n",
              "\n",
              "      <script>\n",
              "        const buttonEl =\n",
              "          document.querySelector('#df-7ce71abe-29c6-45bc-8dec-53fd929da7bb button.colab-df-convert');\n",
              "        buttonEl.style.display =\n",
              "          google.colab.kernel.accessAllowed ? 'block' : 'none';\n",
              "\n",
              "        async function convertToInteractive(key) {\n",
              "          const element = document.querySelector('#df-7ce71abe-29c6-45bc-8dec-53fd929da7bb');\n",
              "          const dataTable =\n",
              "            await google.colab.kernel.invokeFunction('convertToInteractive',\n",
              "                                                     [key], {});\n",
              "          if (!dataTable) return;\n",
              "\n",
              "          const docLinkHtml = 'Like what you see? Visit the ' +\n",
              "            '<a target=\"_blank\" href=https://colab.research.google.com/notebooks/data_table.ipynb>data table notebook</a>'\n",
              "            + ' to learn more about interactive tables.';\n",
              "          element.innerHTML = '';\n",
              "          dataTable['output_type'] = 'display_data';\n",
              "          await google.colab.output.renderOutput(dataTable, element);\n",
              "          const docLink = document.createElement('div');\n",
              "          docLink.innerHTML = docLinkHtml;\n",
              "          element.appendChild(docLink);\n",
              "        }\n",
              "      </script>\n",
              "    </div>\n",
              "  </div>\n",
              "  "
            ],
            "text/plain": [
              "   id  bond_id  trade_price     weight  current_coupon  time_to_maturity  \\\n",
              "0   1        1      128.596  11.316404            5.95         26.031126   \n",
              "1   2        1      126.673   8.763446            5.95         26.016697   \n",
              "2   3        1      126.880   6.499730            5.95         26.008760   \n",
              "3   4        1      126.362   0.865854            5.95         26.008619   \n",
              "4   5        1      124.918  11.938543            5.95         25.981840   \n",
              "\n",
              "   is_callable  reporting_delay  trade_size  trade_type  ...  \\\n",
              "0            0            1.731      120000           2  ...   \n",
              "1            0           30.518       85000           4  ...   \n",
              "2            0            4.424     4200000           3  ...   \n",
              "3            0           43.059     5000001           2  ...   \n",
              "4            0            6.332       10000           2  ...   \n",
              "\n",
              "   received_time_diff_last9  trade_price_last9  trade_size_last9  \\\n",
              "0                       NaN                NaN               NaN   \n",
              "1                       NaN                NaN               NaN   \n",
              "2                       NaN                NaN               NaN   \n",
              "3                       NaN                NaN               NaN   \n",
              "4                       NaN                NaN               NaN   \n",
              "\n",
              "   trade_type_last9  curve_based_price_last9  received_time_diff_last10  \\\n",
              "0               NaN                      NaN                        NaN   \n",
              "1               NaN                      NaN                        NaN   \n",
              "2               NaN                      NaN                        NaN   \n",
              "3               NaN                      NaN                        NaN   \n",
              "4               NaN                      NaN                        NaN   \n",
              "\n",
              "   trade_price_last10  trade_size_last10  trade_type_last10  \\\n",
              "0                 NaN                NaN                NaN   \n",
              "1                 NaN                NaN                NaN   \n",
              "2                 NaN                NaN                NaN   \n",
              "3                 NaN                NaN                NaN   \n",
              "4                 NaN                NaN                NaN   \n",
              "\n",
              "   curve_based_price_last10  \n",
              "0                       NaN  \n",
              "1                       NaN  \n",
              "2                       NaN  \n",
              "3                       NaN  \n",
              "4                       NaN  \n",
              "\n",
              "[5 rows x 61 columns]"
            ]
          },
          "execution_count": 12,
          "metadata": {},
          "output_type": "execute_result"
        }
      ],
      "source": [
        "df.head()"
      ]
    },
    {
      "cell_type": "markdown",
      "metadata": {
        "id": "5-K-8XvzWzjN"
      },
      "source": [
        "###Inputs and Target\n",
        "Selecting the features which have high impact on the trade price"
      ]
    },
    {
      "cell_type": "code",
      "execution_count": null,
      "metadata": {
        "id": "poAl5LiNY3bg"
      },
      "outputs": [],
      "source": [
        "Target=df.trade_price.copy()"
      ]
    },
    {
      "cell_type": "code",
      "execution_count": null,
      "metadata": {
        "id": "CjCMO4GyAmLF"
      },
      "outputs": [],
      "source": [
        "# Identify the input columns (a list of column names)\n",
        "input_cols = list(df.columns)[3:]"
      ]
    },
    {
      "cell_type": "code",
      "execution_count": null,
      "metadata": {
        "id": "cqO37SH7BJqO"
      },
      "outputs": [],
      "source": [
        "inputs_df = df[input_cols].copy()"
      ]
    },
    {
      "cell_type": "code",
      "execution_count": null,
      "metadata": {
        "colab": {
          "base_uri": "https://localhost:8080/",
          "height": 299
        },
        "id": "gajVZ0x5Fr-3",
        "outputId": "9fe2d87e-a02b-4d05-d4e3-a58a126e9417"
      },
      "outputs": [
        {
          "data": {
            "text/html": [
              "\n",
              "  <div id=\"df-55c9217c-2805-48b8-bf37-6ccb6bd94033\">\n",
              "    <div class=\"colab-df-container\">\n",
              "      <div>\n",
              "<style scoped>\n",
              "    .dataframe tbody tr th:only-of-type {\n",
              "        vertical-align: middle;\n",
              "    }\n",
              "\n",
              "    .dataframe tbody tr th {\n",
              "        vertical-align: top;\n",
              "    }\n",
              "\n",
              "    .dataframe thead th {\n",
              "        text-align: right;\n",
              "    }\n",
              "</style>\n",
              "<table border=\"1\" class=\"dataframe\">\n",
              "  <thead>\n",
              "    <tr style=\"text-align: right;\">\n",
              "      <th></th>\n",
              "      <th>weight</th>\n",
              "      <th>current_coupon</th>\n",
              "      <th>time_to_maturity</th>\n",
              "      <th>is_callable</th>\n",
              "      <th>reporting_delay</th>\n",
              "      <th>trade_size</th>\n",
              "      <th>trade_type</th>\n",
              "      <th>curve_based_price</th>\n",
              "      <th>received_time_diff_last1</th>\n",
              "      <th>trade_price_last1</th>\n",
              "      <th>...</th>\n",
              "      <th>received_time_diff_last9</th>\n",
              "      <th>trade_price_last9</th>\n",
              "      <th>trade_size_last9</th>\n",
              "      <th>trade_type_last9</th>\n",
              "      <th>curve_based_price_last9</th>\n",
              "      <th>received_time_diff_last10</th>\n",
              "      <th>trade_price_last10</th>\n",
              "      <th>trade_size_last10</th>\n",
              "      <th>trade_type_last10</th>\n",
              "      <th>curve_based_price_last10</th>\n",
              "    </tr>\n",
              "  </thead>\n",
              "  <tbody>\n",
              "    <tr>\n",
              "      <th>0</th>\n",
              "      <td>11.316404</td>\n",
              "      <td>5.95</td>\n",
              "      <td>26.031126</td>\n",
              "      <td>0</td>\n",
              "      <td>1.731</td>\n",
              "      <td>120000</td>\n",
              "      <td>2</td>\n",
              "      <td>127.561201</td>\n",
              "      <td>758762</td>\n",
              "      <td>129.089</td>\n",
              "      <td>...</td>\n",
              "      <td>NaN</td>\n",
              "      <td>NaN</td>\n",
              "      <td>NaN</td>\n",
              "      <td>NaN</td>\n",
              "      <td>NaN</td>\n",
              "      <td>NaN</td>\n",
              "      <td>NaN</td>\n",
              "      <td>NaN</td>\n",
              "      <td>NaN</td>\n",
              "      <td>NaN</td>\n",
              "    </tr>\n",
              "    <tr>\n",
              "      <th>1</th>\n",
              "      <td>8.763446</td>\n",
              "      <td>5.95</td>\n",
              "      <td>26.016697</td>\n",
              "      <td>0</td>\n",
              "      <td>30.518</td>\n",
              "      <td>85000</td>\n",
              "      <td>4</td>\n",
              "      <td>126.323528</td>\n",
              "      <td>455028</td>\n",
              "      <td>128.596</td>\n",
              "      <td>...</td>\n",
              "      <td>NaN</td>\n",
              "      <td>NaN</td>\n",
              "      <td>NaN</td>\n",
              "      <td>NaN</td>\n",
              "      <td>NaN</td>\n",
              "      <td>NaN</td>\n",
              "      <td>NaN</td>\n",
              "      <td>NaN</td>\n",
              "      <td>NaN</td>\n",
              "      <td>NaN</td>\n",
              "    </tr>\n",
              "    <tr>\n",
              "      <th>2</th>\n",
              "      <td>6.499730</td>\n",
              "      <td>5.95</td>\n",
              "      <td>26.008760</td>\n",
              "      <td>0</td>\n",
              "      <td>4.424</td>\n",
              "      <td>4200000</td>\n",
              "      <td>3</td>\n",
              "      <td>126.761433</td>\n",
              "      <td>250310</td>\n",
              "      <td>126.673</td>\n",
              "      <td>...</td>\n",
              "      <td>NaN</td>\n",
              "      <td>NaN</td>\n",
              "      <td>NaN</td>\n",
              "      <td>NaN</td>\n",
              "      <td>NaN</td>\n",
              "      <td>NaN</td>\n",
              "      <td>NaN</td>\n",
              "      <td>NaN</td>\n",
              "      <td>NaN</td>\n",
              "      <td>NaN</td>\n",
              "    </tr>\n",
              "    <tr>\n",
              "      <th>3</th>\n",
              "      <td>0.865854</td>\n",
              "      <td>5.95</td>\n",
              "      <td>26.008619</td>\n",
              "      <td>0</td>\n",
              "      <td>43.059</td>\n",
              "      <td>5000001</td>\n",
              "      <td>2</td>\n",
              "      <td>127.025765</td>\n",
              "      <td>4441</td>\n",
              "      <td>126.880</td>\n",
              "      <td>...</td>\n",
              "      <td>NaN</td>\n",
              "      <td>NaN</td>\n",
              "      <td>NaN</td>\n",
              "      <td>NaN</td>\n",
              "      <td>NaN</td>\n",
              "      <td>NaN</td>\n",
              "      <td>NaN</td>\n",
              "      <td>NaN</td>\n",
              "      <td>NaN</td>\n",
              "      <td>NaN</td>\n",
              "    </tr>\n",
              "    <tr>\n",
              "      <th>4</th>\n",
              "      <td>11.938543</td>\n",
              "      <td>5.95</td>\n",
              "      <td>25.981840</td>\n",
              "      <td>0</td>\n",
              "      <td>6.332</td>\n",
              "      <td>10000</td>\n",
              "      <td>2</td>\n",
              "      <td>125.736081</td>\n",
              "      <td>844484</td>\n",
              "      <td>126.362</td>\n",
              "      <td>...</td>\n",
              "      <td>NaN</td>\n",
              "      <td>NaN</td>\n",
              "      <td>NaN</td>\n",
              "      <td>NaN</td>\n",
              "      <td>NaN</td>\n",
              "      <td>NaN</td>\n",
              "      <td>NaN</td>\n",
              "      <td>NaN</td>\n",
              "      <td>NaN</td>\n",
              "      <td>NaN</td>\n",
              "    </tr>\n",
              "  </tbody>\n",
              "</table>\n",
              "<p>5 rows × 58 columns</p>\n",
              "</div>\n",
              "      <button class=\"colab-df-convert\" onclick=\"convertToInteractive('df-55c9217c-2805-48b8-bf37-6ccb6bd94033')\"\n",
              "              title=\"Convert this dataframe to an interactive table.\"\n",
              "              style=\"display:none;\">\n",
              "        \n",
              "  <svg xmlns=\"http://www.w3.org/2000/svg\" height=\"24px\"viewBox=\"0 0 24 24\"\n",
              "       width=\"24px\">\n",
              "    <path d=\"M0 0h24v24H0V0z\" fill=\"none\"/>\n",
              "    <path d=\"M18.56 5.44l.94 2.06.94-2.06 2.06-.94-2.06-.94-.94-2.06-.94 2.06-2.06.94zm-11 1L8.5 8.5l.94-2.06 2.06-.94-2.06-.94L8.5 2.5l-.94 2.06-2.06.94zm10 10l.94 2.06.94-2.06 2.06-.94-2.06-.94-.94-2.06-.94 2.06-2.06.94z\"/><path d=\"M17.41 7.96l-1.37-1.37c-.4-.4-.92-.59-1.43-.59-.52 0-1.04.2-1.43.59L10.3 9.45l-7.72 7.72c-.78.78-.78 2.05 0 2.83L4 21.41c.39.39.9.59 1.41.59.51 0 1.02-.2 1.41-.59l7.78-7.78 2.81-2.81c.8-.78.8-2.07 0-2.86zM5.41 20L4 18.59l7.72-7.72 1.47 1.35L5.41 20z\"/>\n",
              "  </svg>\n",
              "      </button>\n",
              "      \n",
              "  <style>\n",
              "    .colab-df-container {\n",
              "      display:flex;\n",
              "      flex-wrap:wrap;\n",
              "      gap: 12px;\n",
              "    }\n",
              "\n",
              "    .colab-df-convert {\n",
              "      background-color: #E8F0FE;\n",
              "      border: none;\n",
              "      border-radius: 50%;\n",
              "      cursor: pointer;\n",
              "      display: none;\n",
              "      fill: #1967D2;\n",
              "      height: 32px;\n",
              "      padding: 0 0 0 0;\n",
              "      width: 32px;\n",
              "    }\n",
              "\n",
              "    .colab-df-convert:hover {\n",
              "      background-color: #E2EBFA;\n",
              "      box-shadow: 0px 1px 2px rgba(60, 64, 67, 0.3), 0px 1px 3px 1px rgba(60, 64, 67, 0.15);\n",
              "      fill: #174EA6;\n",
              "    }\n",
              "\n",
              "    [theme=dark] .colab-df-convert {\n",
              "      background-color: #3B4455;\n",
              "      fill: #D2E3FC;\n",
              "    }\n",
              "\n",
              "    [theme=dark] .colab-df-convert:hover {\n",
              "      background-color: #434B5C;\n",
              "      box-shadow: 0px 1px 3px 1px rgba(0, 0, 0, 0.15);\n",
              "      filter: drop-shadow(0px 1px 2px rgba(0, 0, 0, 0.3));\n",
              "      fill: #FFFFFF;\n",
              "    }\n",
              "  </style>\n",
              "\n",
              "      <script>\n",
              "        const buttonEl =\n",
              "          document.querySelector('#df-55c9217c-2805-48b8-bf37-6ccb6bd94033 button.colab-df-convert');\n",
              "        buttonEl.style.display =\n",
              "          google.colab.kernel.accessAllowed ? 'block' : 'none';\n",
              "\n",
              "        async function convertToInteractive(key) {\n",
              "          const element = document.querySelector('#df-55c9217c-2805-48b8-bf37-6ccb6bd94033');\n",
              "          const dataTable =\n",
              "            await google.colab.kernel.invokeFunction('convertToInteractive',\n",
              "                                                     [key], {});\n",
              "          if (!dataTable) return;\n",
              "\n",
              "          const docLinkHtml = 'Like what you see? Visit the ' +\n",
              "            '<a target=\"_blank\" href=https://colab.research.google.com/notebooks/data_table.ipynb>data table notebook</a>'\n",
              "            + ' to learn more about interactive tables.';\n",
              "          element.innerHTML = '';\n",
              "          dataTable['output_type'] = 'display_data';\n",
              "          await google.colab.output.renderOutput(dataTable, element);\n",
              "          const docLink = document.createElement('div');\n",
              "          docLink.innerHTML = docLinkHtml;\n",
              "          element.appendChild(docLink);\n",
              "        }\n",
              "      </script>\n",
              "    </div>\n",
              "  </div>\n",
              "  "
            ],
            "text/plain": [
              "      weight  current_coupon  time_to_maturity  is_callable  reporting_delay  \\\n",
              "0  11.316404            5.95         26.031126            0            1.731   \n",
              "1   8.763446            5.95         26.016697            0           30.518   \n",
              "2   6.499730            5.95         26.008760            0            4.424   \n",
              "3   0.865854            5.95         26.008619            0           43.059   \n",
              "4  11.938543            5.95         25.981840            0            6.332   \n",
              "\n",
              "   trade_size  trade_type  curve_based_price  received_time_diff_last1  \\\n",
              "0      120000           2         127.561201                    758762   \n",
              "1       85000           4         126.323528                    455028   \n",
              "2     4200000           3         126.761433                    250310   \n",
              "3     5000001           2         127.025765                      4441   \n",
              "4       10000           2         125.736081                    844484   \n",
              "\n",
              "   trade_price_last1  ...  received_time_diff_last9  trade_price_last9  \\\n",
              "0            129.089  ...                       NaN                NaN   \n",
              "1            128.596  ...                       NaN                NaN   \n",
              "2            126.673  ...                       NaN                NaN   \n",
              "3            126.880  ...                       NaN                NaN   \n",
              "4            126.362  ...                       NaN                NaN   \n",
              "\n",
              "   trade_size_last9  trade_type_last9  curve_based_price_last9  \\\n",
              "0               NaN               NaN                      NaN   \n",
              "1               NaN               NaN                      NaN   \n",
              "2               NaN               NaN                      NaN   \n",
              "3               NaN               NaN                      NaN   \n",
              "4               NaN               NaN                      NaN   \n",
              "\n",
              "   received_time_diff_last10  trade_price_last10  trade_size_last10  \\\n",
              "0                        NaN                 NaN                NaN   \n",
              "1                        NaN                 NaN                NaN   \n",
              "2                        NaN                 NaN                NaN   \n",
              "3                        NaN                 NaN                NaN   \n",
              "4                        NaN                 NaN                NaN   \n",
              "\n",
              "   trade_type_last10  curve_based_price_last10  \n",
              "0                NaN                       NaN  \n",
              "1                NaN                       NaN  \n",
              "2                NaN                       NaN  \n",
              "3                NaN                       NaN  \n",
              "4                NaN                       NaN  \n",
              "\n",
              "[5 rows x 58 columns]"
            ]
          },
          "execution_count": 16,
          "metadata": {},
          "output_type": "execute_result"
        }
      ],
      "source": [
        "inputs_df.head()"
      ]
    },
    {
      "cell_type": "code",
      "execution_count": null,
      "metadata": {
        "id": "mJl_-0CkS5j4"
      },
      "outputs": [],
      "source": [
        "new=inputs_df.corrwith(df[\"trade_price\"])"
      ]
    },
    {
      "cell_type": "markdown",
      "metadata": {
        "id": "Se6bwUbyCn_2"
      },
      "source": [
        "##Finding the top correlated features"
      ]
    },
    {
      "cell_type": "code",
      "execution_count": null,
      "metadata": {
        "id": "jsEdqvipS4Z3"
      },
      "outputs": [],
      "source": [
        "correlations=new.sort_values(axis=0, ascending=False, inplace=False, kind='quicksort', na_position='last', ignore_index=False, key=None)"
      ]
    },
    {
      "cell_type": "code",
      "execution_count": null,
      "metadata": {
        "id": "RrzY2XwrObI_"
      },
      "outputs": [],
      "source": [
        "correlations = pd.DataFrame(correlations).reset_index() # Convert to dataframe\n"
      ]
    },
    {
      "cell_type": "code",
      "execution_count": null,
      "metadata": {
        "id": "shQcdAmA-rg1"
      },
      "outputs": [],
      "source": [
        "correlations.rename(columns = {'index':'feature', 0 :'Corr'}, inplace = True)"
      ]
    },
    {
      "cell_type": "code",
      "execution_count": null,
      "metadata": {
        "colab": {
          "base_uri": "https://localhost:8080/",
          "height": 206
        },
        "id": "ax59RD1adKmY",
        "outputId": "e8ee09a0-84f3-474d-e83f-028ca348ddd9"
      },
      "outputs": [
        {
          "data": {
            "text/html": [
              "\n",
              "  <div id=\"df-27b4ac1f-f7d7-490c-a838-e87753c2552f\">\n",
              "    <div class=\"colab-df-container\">\n",
              "      <div>\n",
              "<style scoped>\n",
              "    .dataframe tbody tr th:only-of-type {\n",
              "        vertical-align: middle;\n",
              "    }\n",
              "\n",
              "    .dataframe tbody tr th {\n",
              "        vertical-align: top;\n",
              "    }\n",
              "\n",
              "    .dataframe thead th {\n",
              "        text-align: right;\n",
              "    }\n",
              "</style>\n",
              "<table border=\"1\" class=\"dataframe\">\n",
              "  <thead>\n",
              "    <tr style=\"text-align: right;\">\n",
              "      <th></th>\n",
              "      <th>feature</th>\n",
              "      <th>Corr</th>\n",
              "    </tr>\n",
              "  </thead>\n",
              "  <tbody>\n",
              "    <tr>\n",
              "      <th>0</th>\n",
              "      <td>trade_price_last1</td>\n",
              "      <td>0.992494</td>\n",
              "    </tr>\n",
              "    <tr>\n",
              "      <th>1</th>\n",
              "      <td>curve_based_price</td>\n",
              "      <td>0.990686</td>\n",
              "    </tr>\n",
              "    <tr>\n",
              "      <th>2</th>\n",
              "      <td>trade_price_last2</td>\n",
              "      <td>0.990462</td>\n",
              "    </tr>\n",
              "    <tr>\n",
              "      <th>3</th>\n",
              "      <td>curve_based_price_last1</td>\n",
              "      <td>0.990437</td>\n",
              "    </tr>\n",
              "    <tr>\n",
              "      <th>4</th>\n",
              "      <td>curve_based_price_last2</td>\n",
              "      <td>0.990237</td>\n",
              "    </tr>\n",
              "  </tbody>\n",
              "</table>\n",
              "</div>\n",
              "      <button class=\"colab-df-convert\" onclick=\"convertToInteractive('df-27b4ac1f-f7d7-490c-a838-e87753c2552f')\"\n",
              "              title=\"Convert this dataframe to an interactive table.\"\n",
              "              style=\"display:none;\">\n",
              "        \n",
              "  <svg xmlns=\"http://www.w3.org/2000/svg\" height=\"24px\"viewBox=\"0 0 24 24\"\n",
              "       width=\"24px\">\n",
              "    <path d=\"M0 0h24v24H0V0z\" fill=\"none\"/>\n",
              "    <path d=\"M18.56 5.44l.94 2.06.94-2.06 2.06-.94-2.06-.94-.94-2.06-.94 2.06-2.06.94zm-11 1L8.5 8.5l.94-2.06 2.06-.94-2.06-.94L8.5 2.5l-.94 2.06-2.06.94zm10 10l.94 2.06.94-2.06 2.06-.94-2.06-.94-.94-2.06-.94 2.06-2.06.94z\"/><path d=\"M17.41 7.96l-1.37-1.37c-.4-.4-.92-.59-1.43-.59-.52 0-1.04.2-1.43.59L10.3 9.45l-7.72 7.72c-.78.78-.78 2.05 0 2.83L4 21.41c.39.39.9.59 1.41.59.51 0 1.02-.2 1.41-.59l7.78-7.78 2.81-2.81c.8-.78.8-2.07 0-2.86zM5.41 20L4 18.59l7.72-7.72 1.47 1.35L5.41 20z\"/>\n",
              "  </svg>\n",
              "      </button>\n",
              "      \n",
              "  <style>\n",
              "    .colab-df-container {\n",
              "      display:flex;\n",
              "      flex-wrap:wrap;\n",
              "      gap: 12px;\n",
              "    }\n",
              "\n",
              "    .colab-df-convert {\n",
              "      background-color: #E8F0FE;\n",
              "      border: none;\n",
              "      border-radius: 50%;\n",
              "      cursor: pointer;\n",
              "      display: none;\n",
              "      fill: #1967D2;\n",
              "      height: 32px;\n",
              "      padding: 0 0 0 0;\n",
              "      width: 32px;\n",
              "    }\n",
              "\n",
              "    .colab-df-convert:hover {\n",
              "      background-color: #E2EBFA;\n",
              "      box-shadow: 0px 1px 2px rgba(60, 64, 67, 0.3), 0px 1px 3px 1px rgba(60, 64, 67, 0.15);\n",
              "      fill: #174EA6;\n",
              "    }\n",
              "\n",
              "    [theme=dark] .colab-df-convert {\n",
              "      background-color: #3B4455;\n",
              "      fill: #D2E3FC;\n",
              "    }\n",
              "\n",
              "    [theme=dark] .colab-df-convert:hover {\n",
              "      background-color: #434B5C;\n",
              "      box-shadow: 0px 1px 3px 1px rgba(0, 0, 0, 0.15);\n",
              "      filter: drop-shadow(0px 1px 2px rgba(0, 0, 0, 0.3));\n",
              "      fill: #FFFFFF;\n",
              "    }\n",
              "  </style>\n",
              "\n",
              "      <script>\n",
              "        const buttonEl =\n",
              "          document.querySelector('#df-27b4ac1f-f7d7-490c-a838-e87753c2552f button.colab-df-convert');\n",
              "        buttonEl.style.display =\n",
              "          google.colab.kernel.accessAllowed ? 'block' : 'none';\n",
              "\n",
              "        async function convertToInteractive(key) {\n",
              "          const element = document.querySelector('#df-27b4ac1f-f7d7-490c-a838-e87753c2552f');\n",
              "          const dataTable =\n",
              "            await google.colab.kernel.invokeFunction('convertToInteractive',\n",
              "                                                     [key], {});\n",
              "          if (!dataTable) return;\n",
              "\n",
              "          const docLinkHtml = 'Like what you see? Visit the ' +\n",
              "            '<a target=\"_blank\" href=https://colab.research.google.com/notebooks/data_table.ipynb>data table notebook</a>'\n",
              "            + ' to learn more about interactive tables.';\n",
              "          element.innerHTML = '';\n",
              "          dataTable['output_type'] = 'display_data';\n",
              "          await google.colab.output.renderOutput(dataTable, element);\n",
              "          const docLink = document.createElement('div');\n",
              "          docLink.innerHTML = docLinkHtml;\n",
              "          element.appendChild(docLink);\n",
              "        }\n",
              "      </script>\n",
              "    </div>\n",
              "  </div>\n",
              "  "
            ],
            "text/plain": [
              "                   feature      Corr\n",
              "0        trade_price_last1  0.992494\n",
              "1        curve_based_price  0.990686\n",
              "2        trade_price_last2  0.990462\n",
              "3  curve_based_price_last1  0.990437\n",
              "4  curve_based_price_last2  0.990237"
            ]
          },
          "execution_count": 21,
          "metadata": {},
          "output_type": "execute_result"
        }
      ],
      "source": [
        "correlations.head()"
      ]
    },
    {
      "cell_type": "code",
      "execution_count": null,
      "metadata": {
        "id": "vqF-FAu2ObHF"
      },
      "outputs": [],
      "source": [
        "top20=correlations.head(20).copy()"
      ]
    },
    {
      "cell_type": "code",
      "execution_count": null,
      "metadata": {
        "colab": {
          "base_uri": "https://localhost:8080/"
        },
        "id": "uZWa7-17_rbG",
        "outputId": "af27b046-db7a-4c91-970f-4913a4c74eab"
      },
      "outputs": [
        {
          "data": {
            "text/plain": [
              "['trade_price_last1',\n",
              " 'curve_based_price',\n",
              " 'trade_price_last2',\n",
              " 'curve_based_price_last1',\n",
              " 'curve_based_price_last2',\n",
              " 'curve_based_price_last3',\n",
              " 'curve_based_price_last4',\n",
              " 'curve_based_price_last5',\n",
              " 'trade_price_last3',\n",
              " 'curve_based_price_last6',\n",
              " 'curve_based_price_last7',\n",
              " 'trade_price_last4',\n",
              " 'curve_based_price_last8',\n",
              " 'curve_based_price_last9',\n",
              " 'trade_price_last5',\n",
              " 'curve_based_price_last10',\n",
              " 'trade_price_last6',\n",
              " 'trade_price_last7',\n",
              " 'trade_price_last8',\n",
              " 'trade_price_last9']"
            ]
          },
          "execution_count": 23,
          "metadata": {},
          "output_type": "execute_result"
        }
      ],
      "source": [
        "top20.feature.to_list()"
      ]
    },
    {
      "cell_type": "code",
      "execution_count": null,
      "metadata": {
        "id": "GeJ5XDswObFH"
      },
      "outputs": [],
      "source": [
        "top_list1=top20.feature.to_list()"
      ]
    },
    {
      "cell_type": "code",
      "execution_count": null,
      "metadata": {
        "colab": {
          "base_uri": "https://localhost:8080/",
          "height": 621
        },
        "id": "0mjOksoSZ-WD",
        "outputId": "8bc4fa99-f570-44f7-ccac-44030fbfa54c"
      },
      "outputs": [
        {
          "data": {
            "image/png": "[encoded data removed]",
            "text/plain": [
              "<Figure size 1440x720 with 1 Axes>"
            ]
          },
          "metadata": {
            "needs_background": "light"
          },
          "output_type": "display_data"
        }
      ],
      "source": [
        "fig = plt.figure(figsize = (20, 10))\n",
        " \n",
        "# creating the bar plot\n",
        "plt.barh(top20['feature'],top20['Corr'], color ='maroon')\n",
        " \n",
        "plt.xlabel(\"Features\")\n",
        "plt.ylabel(\"correlations\")\n",
        "plt.title(\"Top 20 correlations with target\")\n",
        "plt.show()"
      ]
    },
    {
      "cell_type": "code",
      "execution_count": null,
      "metadata": {
        "id": "oyG2VPDaObC1"
      },
      "outputs": [],
      "source": [
        "last15=correlations.tail(15).copy()"
      ]
    },
    {
      "cell_type": "code",
      "execution_count": null,
      "metadata": {
        "id": "5ou7x4ubUTGC"
      },
      "outputs": [],
      "source": [
        "bottom_list1=last15.feature.to_list()"
      ]
    },
    {
      "cell_type": "code",
      "execution_count": null,
      "metadata": {
        "colab": {
          "base_uri": "https://localhost:8080/",
          "height": 621
        },
        "id": "r-Vy__A6beKU",
        "outputId": "a47aa345-69bf-4e99-e9a2-a8ebfad38da8"
      },
      "outputs": [
        {
          "data": {
            "image/png": "[encoded data removed]",
            "text/plain": [
              "<Figure size 1440x720 with 1 Axes>"
            ]
          },
          "metadata": {
            "needs_background": "light"
          },
          "output_type": "display_data"
        }
      ],
      "source": [
        "fig = plt.figure(figsize = (20, 10))\n",
        " \n",
        "# creating the bar plot\n",
        "plt.barh(last15['feature'],last15['Corr'], color ='maroon')\n",
        " \n",
        "plt.xlabel(\"Features\")\n",
        "plt.ylabel(\"correlations\")\n",
        "plt.title(\"Bottom 15 correlations with target\")\n",
        "plt.show()"
      ]
    },
    {
      "cell_type": "code",
      "execution_count": null,
      "metadata": {
        "colab": {
          "base_uri": "https://localhost:8080/",
          "height": 299
        },
        "id": "Nvh1QOVNchxR",
        "outputId": "f836700a-b7c7-4639-c5d2-6224515c41d7"
      },
      "outputs": [
        {
          "data": {
            "text/html": [
              "\n",
              "  <div id=\"df-e9d29c09-d0c9-48fd-9cc0-5bfb249e40c1\">\n",
              "    <div class=\"colab-df-container\">\n",
              "      <div>\n",
              "<style scoped>\n",
              "    .dataframe tbody tr th:only-of-type {\n",
              "        vertical-align: middle;\n",
              "    }\n",
              "\n",
              "    .dataframe tbody tr th {\n",
              "        vertical-align: top;\n",
              "    }\n",
              "\n",
              "    .dataframe thead th {\n",
              "        text-align: right;\n",
              "    }\n",
              "</style>\n",
              "<table border=\"1\" class=\"dataframe\">\n",
              "  <thead>\n",
              "    <tr style=\"text-align: right;\">\n",
              "      <th></th>\n",
              "      <th>weight</th>\n",
              "      <th>current_coupon</th>\n",
              "      <th>time_to_maturity</th>\n",
              "      <th>is_callable</th>\n",
              "      <th>reporting_delay</th>\n",
              "      <th>trade_size</th>\n",
              "      <th>trade_type</th>\n",
              "      <th>curve_based_price</th>\n",
              "      <th>received_time_diff_last1</th>\n",
              "      <th>trade_price_last1</th>\n",
              "      <th>...</th>\n",
              "      <th>received_time_diff_last9</th>\n",
              "      <th>trade_price_last9</th>\n",
              "      <th>trade_size_last9</th>\n",
              "      <th>trade_type_last9</th>\n",
              "      <th>curve_based_price_last9</th>\n",
              "      <th>received_time_diff_last10</th>\n",
              "      <th>trade_price_last10</th>\n",
              "      <th>trade_size_last10</th>\n",
              "      <th>trade_type_last10</th>\n",
              "      <th>curve_based_price_last10</th>\n",
              "    </tr>\n",
              "  </thead>\n",
              "  <tbody>\n",
              "    <tr>\n",
              "      <th>0</th>\n",
              "      <td>11.316404</td>\n",
              "      <td>5.95</td>\n",
              "      <td>26.031126</td>\n",
              "      <td>0</td>\n",
              "      <td>1.731</td>\n",
              "      <td>120000</td>\n",
              "      <td>2</td>\n",
              "      <td>127.561201</td>\n",
              "      <td>758762</td>\n",
              "      <td>129.089</td>\n",
              "      <td>...</td>\n",
              "      <td>NaN</td>\n",
              "      <td>NaN</td>\n",
              "      <td>NaN</td>\n",
              "      <td>NaN</td>\n",
              "      <td>NaN</td>\n",
              "      <td>NaN</td>\n",
              "      <td>NaN</td>\n",
              "      <td>NaN</td>\n",
              "      <td>NaN</td>\n",
              "      <td>NaN</td>\n",
              "    </tr>\n",
              "    <tr>\n",
              "      <th>1</th>\n",
              "      <td>8.763446</td>\n",
              "      <td>5.95</td>\n",
              "      <td>26.016697</td>\n",
              "      <td>0</td>\n",
              "      <td>30.518</td>\n",
              "      <td>85000</td>\n",
              "      <td>4</td>\n",
              "      <td>126.323528</td>\n",
              "      <td>455028</td>\n",
              "      <td>128.596</td>\n",
              "      <td>...</td>\n",
              "      <td>NaN</td>\n",
              "      <td>NaN</td>\n",
              "      <td>NaN</td>\n",
              "      <td>NaN</td>\n",
              "      <td>NaN</td>\n",
              "      <td>NaN</td>\n",
              "      <td>NaN</td>\n",
              "      <td>NaN</td>\n",
              "      <td>NaN</td>\n",
              "      <td>NaN</td>\n",
              "    </tr>\n",
              "    <tr>\n",
              "      <th>2</th>\n",
              "      <td>6.499730</td>\n",
              "      <td>5.95</td>\n",
              "      <td>26.008760</td>\n",
              "      <td>0</td>\n",
              "      <td>4.424</td>\n",
              "      <td>4200000</td>\n",
              "      <td>3</td>\n",
              "      <td>126.761433</td>\n",
              "      <td>250310</td>\n",
              "      <td>126.673</td>\n",
              "      <td>...</td>\n",
              "      <td>NaN</td>\n",
              "      <td>NaN</td>\n",
              "      <td>NaN</td>\n",
              "      <td>NaN</td>\n",
              "      <td>NaN</td>\n",
              "      <td>NaN</td>\n",
              "      <td>NaN</td>\n",
              "      <td>NaN</td>\n",
              "      <td>NaN</td>\n",
              "      <td>NaN</td>\n",
              "    </tr>\n",
              "    <tr>\n",
              "      <th>3</th>\n",
              "      <td>0.865854</td>\n",
              "      <td>5.95</td>\n",
              "      <td>26.008619</td>\n",
              "      <td>0</td>\n",
              "      <td>43.059</td>\n",
              "      <td>5000001</td>\n",
              "      <td>2</td>\n",
              "      <td>127.025765</td>\n",
              "      <td>4441</td>\n",
              "      <td>126.880</td>\n",
              "      <td>...</td>\n",
              "      <td>NaN</td>\n",
              "      <td>NaN</td>\n",
              "      <td>NaN</td>\n",
              "      <td>NaN</td>\n",
              "      <td>NaN</td>\n",
              "      <td>NaN</td>\n",
              "      <td>NaN</td>\n",
              "      <td>NaN</td>\n",
              "      <td>NaN</td>\n",
              "      <td>NaN</td>\n",
              "    </tr>\n",
              "    <tr>\n",
              "      <th>4</th>\n",
              "      <td>11.938543</td>\n",
              "      <td>5.95</td>\n",
              "      <td>25.981840</td>\n",
              "      <td>0</td>\n",
              "      <td>6.332</td>\n",
              "      <td>10000</td>\n",
              "      <td>2</td>\n",
              "      <td>125.736081</td>\n",
              "      <td>844484</td>\n",
              "      <td>126.362</td>\n",
              "      <td>...</td>\n",
              "      <td>NaN</td>\n",
              "      <td>NaN</td>\n",
              "      <td>NaN</td>\n",
              "      <td>NaN</td>\n",
              "      <td>NaN</td>\n",
              "      <td>NaN</td>\n",
              "      <td>NaN</td>\n",
              "      <td>NaN</td>\n",
              "      <td>NaN</td>\n",
              "      <td>NaN</td>\n",
              "    </tr>\n",
              "  </tbody>\n",
              "</table>\n",
              "<p>5 rows × 58 columns</p>\n",
              "</div>\n",
              "      <button class=\"colab-df-convert\" onclick=\"convertToInteractive('df-e9d29c09-d0c9-48fd-9cc0-5bfb249e40c1')\"\n",
              "              title=\"Convert this dataframe to an interactive table.\"\n",
              "              style=\"display:none;\">\n",
              "        \n",
              "  <svg xmlns=\"http://www.w3.org/2000/svg\" height=\"24px\"viewBox=\"0 0 24 24\"\n",
              "       width=\"24px\">\n",
              "    <path d=\"M0 0h24v24H0V0z\" fill=\"none\"/>\n",
              "    <path d=\"M18.56 5.44l.94 2.06.94-2.06 2.06-.94-2.06-.94-.94-2.06-.94 2.06-2.06.94zm-11 1L8.5 8.5l.94-2.06 2.06-.94-2.06-.94L8.5 2.5l-.94 2.06-2.06.94zm10 10l.94 2.06.94-2.06 2.06-.94-2.06-.94-.94-2.06-.94 2.06-2.06.94z\"/><path d=\"M17.41 7.96l-1.37-1.37c-.4-.4-.92-.59-1.43-.59-.52 0-1.04.2-1.43.59L10.3 9.45l-7.72 7.72c-.78.78-.78 2.05 0 2.83L4 21.41c.39.39.9.59 1.41.59.51 0 1.02-.2 1.41-.59l7.78-7.78 2.81-2.81c.8-.78.8-2.07 0-2.86zM5.41 20L4 18.59l7.72-7.72 1.47 1.35L5.41 20z\"/>\n",
              "  </svg>\n",
              "      </button>\n",
              "      \n",
              "  <style>\n",
              "    .colab-df-container {\n",
              "      display:flex;\n",
              "      flex-wrap:wrap;\n",
              "      gap: 12px;\n",
              "    }\n",
              "\n",
              "    .colab-df-convert {\n",
              "      background-color: #E8F0FE;\n",
              "      border: none;\n",
              "      border-radius: 50%;\n",
              "      cursor: pointer;\n",
              "      display: none;\n",
              "      fill: #1967D2;\n",
              "      height: 32px;\n",
              "      padding: 0 0 0 0;\n",
              "      width: 32px;\n",
              "    }\n",
              "\n",
              "    .colab-df-convert:hover {\n",
              "      background-color: #E2EBFA;\n",
              "      box-shadow: 0px 1px 2px rgba(60, 64, 67, 0.3), 0px 1px 3px 1px rgba(60, 64, 67, 0.15);\n",
              "      fill: #174EA6;\n",
              "    }\n",
              "\n",
              "    [theme=dark] .colab-df-convert {\n",
              "      background-color: #3B4455;\n",
              "      fill: #D2E3FC;\n",
              "    }\n",
              "\n",
              "    [theme=dark] .colab-df-convert:hover {\n",
              "      background-color: #434B5C;\n",
              "      box-shadow: 0px 1px 3px 1px rgba(0, 0, 0, 0.15);\n",
              "      filter: drop-shadow(0px 1px 2px rgba(0, 0, 0, 0.3));\n",
              "      fill: #FFFFFF;\n",
              "    }\n",
              "  </style>\n",
              "\n",
              "      <script>\n",
              "        const buttonEl =\n",
              "          document.querySelector('#df-e9d29c09-d0c9-48fd-9cc0-5bfb249e40c1 button.colab-df-convert');\n",
              "        buttonEl.style.display =\n",
              "          google.colab.kernel.accessAllowed ? 'block' : 'none';\n",
              "\n",
              "        async function convertToInteractive(key) {\n",
              "          const element = document.querySelector('#df-e9d29c09-d0c9-48fd-9cc0-5bfb249e40c1');\n",
              "          const dataTable =\n",
              "            await google.colab.kernel.invokeFunction('convertToInteractive',\n",
              "                                                     [key], {});\n",
              "          if (!dataTable) return;\n",
              "\n",
              "          const docLinkHtml = 'Like what you see? Visit the ' +\n",
              "            '<a target=\"_blank\" href=https://colab.research.google.com/notebooks/data_table.ipynb>data table notebook</a>'\n",
              "            + ' to learn more about interactive tables.';\n",
              "          element.innerHTML = '';\n",
              "          dataTable['output_type'] = 'display_data';\n",
              "          await google.colab.output.renderOutput(dataTable, element);\n",
              "          const docLink = document.createElement('div');\n",
              "          docLink.innerHTML = docLinkHtml;\n",
              "          element.appendChild(docLink);\n",
              "        }\n",
              "      </script>\n",
              "    </div>\n",
              "  </div>\n",
              "  "
            ],
            "text/plain": [
              "      weight  current_coupon  time_to_maturity  is_callable  reporting_delay  \\\n",
              "0  11.316404            5.95         26.031126            0            1.731   \n",
              "1   8.763446            5.95         26.016697            0           30.518   \n",
              "2   6.499730            5.95         26.008760            0            4.424   \n",
              "3   0.865854            5.95         26.008619            0           43.059   \n",
              "4  11.938543            5.95         25.981840            0            6.332   \n",
              "\n",
              "   trade_size  trade_type  curve_based_price  received_time_diff_last1  \\\n",
              "0      120000           2         127.561201                    758762   \n",
              "1       85000           4         126.323528                    455028   \n",
              "2     4200000           3         126.761433                    250310   \n",
              "3     5000001           2         127.025765                      4441   \n",
              "4       10000           2         125.736081                    844484   \n",
              "\n",
              "   trade_price_last1  ...  received_time_diff_last9  trade_price_last9  \\\n",
              "0            129.089  ...                       NaN                NaN   \n",
              "1            128.596  ...                       NaN                NaN   \n",
              "2            126.673  ...                       NaN                NaN   \n",
              "3            126.880  ...                       NaN                NaN   \n",
              "4            126.362  ...                       NaN                NaN   \n",
              "\n",
              "   trade_size_last9  trade_type_last9  curve_based_price_last9  \\\n",
              "0               NaN               NaN                      NaN   \n",
              "1               NaN               NaN                      NaN   \n",
              "2               NaN               NaN                      NaN   \n",
              "3               NaN               NaN                      NaN   \n",
              "4               NaN               NaN                      NaN   \n",
              "\n",
              "   received_time_diff_last10  trade_price_last10  trade_size_last10  \\\n",
              "0                        NaN                 NaN                NaN   \n",
              "1                        NaN                 NaN                NaN   \n",
              "2                        NaN                 NaN                NaN   \n",
              "3                        NaN                 NaN                NaN   \n",
              "4                        NaN                 NaN                NaN   \n",
              "\n",
              "   trade_type_last10  curve_based_price_last10  \n",
              "0                NaN                       NaN  \n",
              "1                NaN                       NaN  \n",
              "2                NaN                       NaN  \n",
              "3                NaN                       NaN  \n",
              "4                NaN                       NaN  \n",
              "\n",
              "[5 rows x 58 columns]"
            ]
          },
          "execution_count": 29,
          "metadata": {},
          "output_type": "execute_result"
        }
      ],
      "source": [
        "inputs_df.head()"
      ]
    },
    {
      "cell_type": "code",
      "execution_count": null,
      "metadata": {
        "id": "2LNe3kqnchsQ"
      },
      "outputs": [],
      "source": []
    },
    {
      "cell_type": "code",
      "execution_count": null,
      "metadata": {
        "id": "e3FCpJSNchpg"
      },
      "outputs": [],
      "source": []
    },
    {
      "cell_type": "code",
      "execution_count": null,
      "metadata": {
        "id": "1dcwqJ8Achmo"
      },
      "outputs": [],
      "source": []
    },
    {
      "cell_type": "markdown",
      "metadata": {
        "id": "sH4XCixlYJlP"
      },
      "source": [
        "##Imputer"
      ]
    },
    {
      "cell_type": "code",
      "execution_count": null,
      "metadata": {
        "id": "2h82ZicpZDD3"
      },
      "outputs": [],
      "source": [
        "numerical_cols=inputs_df.select_dtypes(include=np.number).columns.tolist()"
      ]
    },
    {
      "cell_type": "code",
      "execution_count": null,
      "metadata": {
        "id": "MpMnThVdVyrF"
      },
      "outputs": [],
      "source": [
        "from sklearn.impute import SimpleImputer\n",
        "imputer=SimpleImputer(strategy='mean');\n",
        "imputer.fit(inputs_df[numerical_cols]);\n",
        "inputs_df[numerical_cols]=imputer.transform(inputs_df[numerical_cols]);\n"
      ]
    },
    {
      "cell_type": "code",
      "execution_count": null,
      "metadata": {
        "colab": {
          "base_uri": "https://localhost:8080/",
          "height": 299
        },
        "id": "sGb_9ChPdaUv",
        "outputId": "a4d6296d-9535-4c0c-c75a-0b6cdb833a13"
      },
      "outputs": [
        {
          "data": {
            "text/html": [
              "\n",
              "  <div id=\"df-0d531c8b-301b-4fc4-88f4-794abf3dfba3\">\n",
              "    <div class=\"colab-df-container\">\n",
              "      <div>\n",
              "<style scoped>\n",
              "    .dataframe tbody tr th:only-of-type {\n",
              "        vertical-align: middle;\n",
              "    }\n",
              "\n",
              "    .dataframe tbody tr th {\n",
              "        vertical-align: top;\n",
              "    }\n",
              "\n",
              "    .dataframe thead th {\n",
              "        text-align: right;\n",
              "    }\n",
              "</style>\n",
              "<table border=\"1\" class=\"dataframe\">\n",
              "  <thead>\n",
              "    <tr style=\"text-align: right;\">\n",
              "      <th></th>\n",
              "      <th>weight</th>\n",
              "      <th>current_coupon</th>\n",
              "      <th>time_to_maturity</th>\n",
              "      <th>is_callable</th>\n",
              "      <th>reporting_delay</th>\n",
              "      <th>trade_size</th>\n",
              "      <th>trade_type</th>\n",
              "      <th>curve_based_price</th>\n",
              "      <th>received_time_diff_last1</th>\n",
              "      <th>trade_price_last1</th>\n",
              "      <th>...</th>\n",
              "      <th>received_time_diff_last9</th>\n",
              "      <th>trade_price_last9</th>\n",
              "      <th>trade_size_last9</th>\n",
              "      <th>trade_type_last9</th>\n",
              "      <th>curve_based_price_last9</th>\n",
              "      <th>received_time_diff_last10</th>\n",
              "      <th>trade_price_last10</th>\n",
              "      <th>trade_size_last10</th>\n",
              "      <th>trade_type_last10</th>\n",
              "      <th>curve_based_price_last10</th>\n",
              "    </tr>\n",
              "  </thead>\n",
              "  <tbody>\n",
              "    <tr>\n",
              "      <th>0</th>\n",
              "      <td>11.316404</td>\n",
              "      <td>5.95</td>\n",
              "      <td>26.031126</td>\n",
              "      <td>0.0</td>\n",
              "      <td>1.731</td>\n",
              "      <td>120000.0</td>\n",
              "      <td>2.0</td>\n",
              "      <td>127.561201</td>\n",
              "      <td>758762.0</td>\n",
              "      <td>129.089</td>\n",
              "      <td>...</td>\n",
              "      <td>260970.127952</td>\n",
              "      <td>103.359529</td>\n",
              "      <td>265035.845041</td>\n",
              "      <td>3.233956</td>\n",
              "      <td>103.138812</td>\n",
              "      <td>285453.903409</td>\n",
              "      <td>103.350815</td>\n",
              "      <td>264793.002748</td>\n",
              "      <td>3.234187</td>\n",
              "      <td>103.12988</td>\n",
              "    </tr>\n",
              "    <tr>\n",
              "      <th>1</th>\n",
              "      <td>8.763446</td>\n",
              "      <td>5.95</td>\n",
              "      <td>26.016697</td>\n",
              "      <td>0.0</td>\n",
              "      <td>30.518</td>\n",
              "      <td>85000.0</td>\n",
              "      <td>4.0</td>\n",
              "      <td>126.323528</td>\n",
              "      <td>455028.0</td>\n",
              "      <td>128.596</td>\n",
              "      <td>...</td>\n",
              "      <td>260970.127952</td>\n",
              "      <td>103.359529</td>\n",
              "      <td>265035.845041</td>\n",
              "      <td>3.233956</td>\n",
              "      <td>103.138812</td>\n",
              "      <td>285453.903409</td>\n",
              "      <td>103.350815</td>\n",
              "      <td>264793.002748</td>\n",
              "      <td>3.234187</td>\n",
              "      <td>103.12988</td>\n",
              "    </tr>\n",
              "    <tr>\n",
              "      <th>2</th>\n",
              "      <td>6.499730</td>\n",
              "      <td>5.95</td>\n",
              "      <td>26.008760</td>\n",
              "      <td>0.0</td>\n",
              "      <td>4.424</td>\n",
              "      <td>4200000.0</td>\n",
              "      <td>3.0</td>\n",
              "      <td>126.761433</td>\n",
              "      <td>250310.0</td>\n",
              "      <td>126.673</td>\n",
              "      <td>...</td>\n",
              "      <td>260970.127952</td>\n",
              "      <td>103.359529</td>\n",
              "      <td>265035.845041</td>\n",
              "      <td>3.233956</td>\n",
              "      <td>103.138812</td>\n",
              "      <td>285453.903409</td>\n",
              "      <td>103.350815</td>\n",
              "      <td>264793.002748</td>\n",
              "      <td>3.234187</td>\n",
              "      <td>103.12988</td>\n",
              "    </tr>\n",
              "    <tr>\n",
              "      <th>3</th>\n",
              "      <td>0.865854</td>\n",
              "      <td>5.95</td>\n",
              "      <td>26.008619</td>\n",
              "      <td>0.0</td>\n",
              "      <td>43.059</td>\n",
              "      <td>5000001.0</td>\n",
              "      <td>2.0</td>\n",
              "      <td>127.025765</td>\n",
              "      <td>4441.0</td>\n",
              "      <td>126.880</td>\n",
              "      <td>...</td>\n",
              "      <td>260970.127952</td>\n",
              "      <td>103.359529</td>\n",
              "      <td>265035.845041</td>\n",
              "      <td>3.233956</td>\n",
              "      <td>103.138812</td>\n",
              "      <td>285453.903409</td>\n",
              "      <td>103.350815</td>\n",
              "      <td>264793.002748</td>\n",
              "      <td>3.234187</td>\n",
              "      <td>103.12988</td>\n",
              "    </tr>\n",
              "    <tr>\n",
              "      <th>4</th>\n",
              "      <td>11.938543</td>\n",
              "      <td>5.95</td>\n",
              "      <td>25.981840</td>\n",
              "      <td>0.0</td>\n",
              "      <td>6.332</td>\n",
              "      <td>10000.0</td>\n",
              "      <td>2.0</td>\n",
              "      <td>125.736081</td>\n",
              "      <td>844484.0</td>\n",
              "      <td>126.362</td>\n",
              "      <td>...</td>\n",
              "      <td>260970.127952</td>\n",
              "      <td>103.359529</td>\n",
              "      <td>265035.845041</td>\n",
              "      <td>3.233956</td>\n",
              "      <td>103.138812</td>\n",
              "      <td>285453.903409</td>\n",
              "      <td>103.350815</td>\n",
              "      <td>264793.002748</td>\n",
              "      <td>3.234187</td>\n",
              "      <td>103.12988</td>\n",
              "    </tr>\n",
              "  </tbody>\n",
              "</table>\n",
              "<p>5 rows × 58 columns</p>\n",
              "</div>\n",
              "      <button class=\"colab-df-convert\" onclick=\"convertToInteractive('df-0d531c8b-301b-4fc4-88f4-794abf3dfba3')\"\n",
              "              title=\"Convert this dataframe to an interactive table.\"\n",
              "              style=\"display:none;\">\n",
              "        \n",
              "  <svg xmlns=\"http://www.w3.org/2000/svg\" height=\"24px\"viewBox=\"0 0 24 24\"\n",
              "       width=\"24px\">\n",
              "    <path d=\"M0 0h24v24H0V0z\" fill=\"none\"/>\n",
              "    <path d=\"M18.56 5.44l.94 2.06.94-2.06 2.06-.94-2.06-.94-.94-2.06-.94 2.06-2.06.94zm-11 1L8.5 8.5l.94-2.06 2.06-.94-2.06-.94L8.5 2.5l-.94 2.06-2.06.94zm10 10l.94 2.06.94-2.06 2.06-.94-2.06-.94-.94-2.06-.94 2.06-2.06.94z\"/><path d=\"M17.41 7.96l-1.37-1.37c-.4-.4-.92-.59-1.43-.59-.52 0-1.04.2-1.43.59L10.3 9.45l-7.72 7.72c-.78.78-.78 2.05 0 2.83L4 21.41c.39.39.9.59 1.41.59.51 0 1.02-.2 1.41-.59l7.78-7.78 2.81-2.81c.8-.78.8-2.07 0-2.86zM5.41 20L4 18.59l7.72-7.72 1.47 1.35L5.41 20z\"/>\n",
              "  </svg>\n",
              "      </button>\n",
              "      \n",
              "  <style>\n",
              "    .colab-df-container {\n",
              "      display:flex;\n",
              "      flex-wrap:wrap;\n",
              "      gap: 12px;\n",
              "    }\n",
              "\n",
              "    .colab-df-convert {\n",
              "      background-color: #E8F0FE;\n",
              "      border: none;\n",
              "      border-radius: 50%;\n",
              "      cursor: pointer;\n",
              "      display: none;\n",
              "      fill: #1967D2;\n",
              "      height: 32px;\n",
              "      padding: 0 0 0 0;\n",
              "      width: 32px;\n",
              "    }\n",
              "\n",
              "    .colab-df-convert:hover {\n",
              "      background-color: #E2EBFA;\n",
              "      box-shadow: 0px 1px 2px rgba(60, 64, 67, 0.3), 0px 1px 3px 1px rgba(60, 64, 67, 0.15);\n",
              "      fill: #174EA6;\n",
              "    }\n",
              "\n",
              "    [theme=dark] .colab-df-convert {\n",
              "      background-color: #3B4455;\n",
              "      fill: #D2E3FC;\n",
              "    }\n",
              "\n",
              "    [theme=dark] .colab-df-convert:hover {\n",
              "      background-color: #434B5C;\n",
              "      box-shadow: 0px 1px 3px 1px rgba(0, 0, 0, 0.15);\n",
              "      filter: drop-shadow(0px 1px 2px rgba(0, 0, 0, 0.3));\n",
              "      fill: #FFFFFF;\n",
              "    }\n",
              "  </style>\n",
              "\n",
              "      <script>\n",
              "        const buttonEl =\n",
              "          document.querySelector('#df-0d531c8b-301b-4fc4-88f4-794abf3dfba3 button.colab-df-convert');\n",
              "        buttonEl.style.display =\n",
              "          google.colab.kernel.accessAllowed ? 'block' : 'none';\n",
              "\n",
              "        async function convertToInteractive(key) {\n",
              "          const element = document.querySelector('#df-0d531c8b-301b-4fc4-88f4-794abf3dfba3');\n",
              "          const dataTable =\n",
              "            await google.colab.kernel.invokeFunction('convertToInteractive',\n",
              "                                                     [key], {});\n",
              "          if (!dataTable) return;\n",
              "\n",
              "          const docLinkHtml = 'Like what you see? Visit the ' +\n",
              "            '<a target=\"_blank\" href=https://colab.research.google.com/notebooks/data_table.ipynb>data table notebook</a>'\n",
              "            + ' to learn more about interactive tables.';\n",
              "          element.innerHTML = '';\n",
              "          dataTable['output_type'] = 'display_data';\n",
              "          await google.colab.output.renderOutput(dataTable, element);\n",
              "          const docLink = document.createElement('div');\n",
              "          docLink.innerHTML = docLinkHtml;\n",
              "          element.appendChild(docLink);\n",
              "        }\n",
              "      </script>\n",
              "    </div>\n",
              "  </div>\n",
              "  "
            ],
            "text/plain": [
              "      weight  current_coupon  time_to_maturity  is_callable  reporting_delay  \\\n",
              "0  11.316404            5.95         26.031126          0.0            1.731   \n",
              "1   8.763446            5.95         26.016697          0.0           30.518   \n",
              "2   6.499730            5.95         26.008760          0.0            4.424   \n",
              "3   0.865854            5.95         26.008619          0.0           43.059   \n",
              "4  11.938543            5.95         25.981840          0.0            6.332   \n",
              "\n",
              "   trade_size  trade_type  curve_based_price  received_time_diff_last1  \\\n",
              "0    120000.0         2.0         127.561201                  758762.0   \n",
              "1     85000.0         4.0         126.323528                  455028.0   \n",
              "2   4200000.0         3.0         126.761433                  250310.0   \n",
              "3   5000001.0         2.0         127.025765                    4441.0   \n",
              "4     10000.0         2.0         125.736081                  844484.0   \n",
              "\n",
              "   trade_price_last1  ...  received_time_diff_last9  trade_price_last9  \\\n",
              "0            129.089  ...             260970.127952         103.359529   \n",
              "1            128.596  ...             260970.127952         103.359529   \n",
              "2            126.673  ...             260970.127952         103.359529   \n",
              "3            126.880  ...             260970.127952         103.359529   \n",
              "4            126.362  ...             260970.127952         103.359529   \n",
              "\n",
              "   trade_size_last9  trade_type_last9  curve_based_price_last9  \\\n",
              "0     265035.845041          3.233956               103.138812   \n",
              "1     265035.845041          3.233956               103.138812   \n",
              "2     265035.845041          3.233956               103.138812   \n",
              "3     265035.845041          3.233956               103.138812   \n",
              "4     265035.845041          3.233956               103.138812   \n",
              "\n",
              "   received_time_diff_last10  trade_price_last10  trade_size_last10  \\\n",
              "0              285453.903409          103.350815      264793.002748   \n",
              "1              285453.903409          103.350815      264793.002748   \n",
              "2              285453.903409          103.350815      264793.002748   \n",
              "3              285453.903409          103.350815      264793.002748   \n",
              "4              285453.903409          103.350815      264793.002748   \n",
              "\n",
              "   trade_type_last10  curve_based_price_last10  \n",
              "0           3.234187                 103.12988  \n",
              "1           3.234187                 103.12988  \n",
              "2           3.234187                 103.12988  \n",
              "3           3.234187                 103.12988  \n",
              "4           3.234187                 103.12988  \n",
              "\n",
              "[5 rows x 58 columns]"
            ]
          },
          "execution_count": 32,
          "metadata": {},
          "output_type": "execute_result"
        }
      ],
      "source": [
        "inputs_df.head()"
      ]
    },
    {
      "cell_type": "code",
      "execution_count": null,
      "metadata": {
        "colab": {
          "base_uri": "https://localhost:8080/"
        },
        "id": "9ieMGztOVyoF",
        "outputId": "52d34187-06cc-4a9d-9c72-a81a39b57599"
      },
      "outputs": [
        {
          "name": "stdout",
          "output_type": "stream",
          "text": [
            "<class 'pandas.core.frame.DataFrame'>\n",
            "RangeIndex: 762678 entries, 0 to 762677\n",
            "Data columns (total 58 columns):\n",
            " #   Column                     Non-Null Count   Dtype  \n",
            "---  ------                     --------------   -----  \n",
            " 0   weight                     762678 non-null  float64\n",
            " 1   current_coupon             762678 non-null  float64\n",
            " 2   time_to_maturity           762678 non-null  float64\n",
            " 3   is_callable                762678 non-null  float64\n",
            " 4   reporting_delay            762678 non-null  float64\n",
            " 5   trade_size                 762678 non-null  float64\n",
            " 6   trade_type                 762678 non-null  float64\n",
            " 7   curve_based_price          762678 non-null  float64\n",
            " 8   received_time_diff_last1   762678 non-null  float64\n",
            " 9   trade_price_last1          762678 non-null  float64\n",
            " 10  trade_size_last1           762678 non-null  float64\n",
            " 11  trade_type_last1           762678 non-null  float64\n",
            " 12  curve_based_price_last1    762678 non-null  float64\n",
            " 13  received_time_diff_last2   762678 non-null  float64\n",
            " 14  trade_price_last2          762678 non-null  float64\n",
            " 15  trade_size_last2           762678 non-null  float64\n",
            " 16  trade_type_last2           762678 non-null  float64\n",
            " 17  curve_based_price_last2    762678 non-null  float64\n",
            " 18  received_time_diff_last3   762678 non-null  float64\n",
            " 19  trade_price_last3          762678 non-null  float64\n",
            " 20  trade_size_last3           762678 non-null  float64\n",
            " 21  trade_type_last3           762678 non-null  float64\n",
            " 22  curve_based_price_last3    762678 non-null  float64\n",
            " 23  received_time_diff_last4   762678 non-null  float64\n",
            " 24  trade_price_last4          762678 non-null  float64\n",
            " 25  trade_size_last4           762678 non-null  float64\n",
            " 26  trade_type_last4           762678 non-null  float64\n",
            " 27  curve_based_price_last4    762678 non-null  float64\n",
            " 28  received_time_diff_last5   762678 non-null  float64\n",
            " 29  trade_price_last5          762678 non-null  float64\n",
            " 30  trade_size_last5           762678 non-null  float64\n",
            " 31  trade_type_last5           762678 non-null  float64\n",
            " 32  curve_based_price_last5    762678 non-null  float64\n",
            " 33  received_time_diff_last6   762678 non-null  float64\n",
            " 34  trade_price_last6          762678 non-null  float64\n",
            " 35  trade_size_last6           762678 non-null  float64\n",
            " 36  trade_type_last6           762678 non-null  float64\n",
            " 37  curve_based_price_last6    762678 non-null  float64\n",
            " 38  received_time_diff_last7   762678 non-null  float64\n",
            " 39  trade_price_last7          762678 non-null  float64\n",
            " 40  trade_size_last7           762678 non-null  float64\n",
            " 41  trade_type_last7           762678 non-null  float64\n",
            " 42  curve_based_price_last7    762678 non-null  float64\n",
            " 43  received_time_diff_last8   762678 non-null  float64\n",
            " 44  trade_price_last8          762678 non-null  float64\n",
            " 45  trade_size_last8           762678 non-null  float64\n",
            " 46  trade_type_last8           762678 non-null  float64\n",
            " 47  curve_based_price_last8    762678 non-null  float64\n",
            " 48  received_time_diff_last9   762678 non-null  float64\n",
            " 49  trade_price_last9          762678 non-null  float64\n",
            " 50  trade_size_last9           762678 non-null  float64\n",
            " 51  trade_type_last9           762678 non-null  float64\n",
            " 52  curve_based_price_last9    762678 non-null  float64\n",
            " 53  received_time_diff_last10  762678 non-null  float64\n",
            " 54  trade_price_last10         762678 non-null  float64\n",
            " 55  trade_size_last10          762678 non-null  float64\n",
            " 56  trade_type_last10          762678 non-null  float64\n",
            " 57  curve_based_price_last10   762678 non-null  float64\n",
            "dtypes: float64(58)\n",
            "memory usage: 337.5 MB\n"
          ]
        }
      ],
      "source": [
        "inputs_df.info()"
      ]
    },
    {
      "cell_type": "markdown",
      "metadata": {
        "id": "EImDnuM3Zfxf"
      },
      "source": [
        "##Scalar"
      ]
    },
    {
      "cell_type": "code",
      "execution_count": null,
      "metadata": {
        "id": "Azi5BtRiZfPT"
      },
      "outputs": [],
      "source": [
        "from sklearn.preprocessing import MinMaxScaler\n",
        "scaler=MinMaxScaler()\n",
        "scaler.fit(inputs_df[numerical_cols]);\n",
        "inputs_df[numerical_cols]=scaler.transform(inputs_df[numerical_cols])"
      ]
    },
    {
      "cell_type": "code",
      "execution_count": null,
      "metadata": {
        "colab": {
          "base_uri": "https://localhost:8080/",
          "height": 487
        },
        "id": "7UAky-rEDUQ1",
        "outputId": "b792e129-37b2-42fe-88bc-dca5af58bf19"
      },
      "outputs": [
        {
          "data": {
            "text/html": [
              "\n",
              "  <div id=\"df-d03eae52-9653-47d0-ac67-3e216b93eb90\">\n",
              "    <div class=\"colab-df-container\">\n",
              "      <div>\n",
              "<style scoped>\n",
              "    .dataframe tbody tr th:only-of-type {\n",
              "        vertical-align: middle;\n",
              "    }\n",
              "\n",
              "    .dataframe tbody tr th {\n",
              "        vertical-align: top;\n",
              "    }\n",
              "\n",
              "    .dataframe thead th {\n",
              "        text-align: right;\n",
              "    }\n",
              "</style>\n",
              "<table border=\"1\" class=\"dataframe\">\n",
              "  <thead>\n",
              "    <tr style=\"text-align: right;\">\n",
              "      <th></th>\n",
              "      <th>weight</th>\n",
              "      <th>current_coupon</th>\n",
              "      <th>time_to_maturity</th>\n",
              "      <th>is_callable</th>\n",
              "      <th>reporting_delay</th>\n",
              "      <th>trade_size</th>\n",
              "      <th>trade_type</th>\n",
              "      <th>curve_based_price</th>\n",
              "      <th>received_time_diff_last1</th>\n",
              "      <th>trade_price_last1</th>\n",
              "      <th>...</th>\n",
              "      <th>received_time_diff_last9</th>\n",
              "      <th>trade_price_last9</th>\n",
              "      <th>trade_size_last9</th>\n",
              "      <th>trade_type_last9</th>\n",
              "      <th>curve_based_price_last9</th>\n",
              "      <th>received_time_diff_last10</th>\n",
              "      <th>trade_price_last10</th>\n",
              "      <th>trade_size_last10</th>\n",
              "      <th>trade_type_last10</th>\n",
              "      <th>curve_based_price_last10</th>\n",
              "    </tr>\n",
              "  </thead>\n",
              "  <tbody>\n",
              "    <tr>\n",
              "      <th>0</th>\n",
              "      <td>0.263586</td>\n",
              "      <td>0.440741</td>\n",
              "      <td>0.308630</td>\n",
              "      <td>0.0</td>\n",
              "      <td>6.038494e-07</td>\n",
              "      <td>0.024</td>\n",
              "      <td>0.0</td>\n",
              "      <td>0.734858</td>\n",
              "      <td>0.069595</td>\n",
              "      <td>0.766308</td>\n",
              "      <td>...</td>\n",
              "      <td>0.022869</td>\n",
              "      <td>0.612368</td>\n",
              "      <td>0.053007</td>\n",
              "      <td>0.616978</td>\n",
              "      <td>0.569906</td>\n",
              "      <td>0.024850</td>\n",
              "      <td>0.612316</td>\n",
              "      <td>0.052958</td>\n",
              "      <td>0.617093</td>\n",
              "      <td>0.569856</td>\n",
              "    </tr>\n",
              "    <tr>\n",
              "      <th>1</th>\n",
              "      <td>0.204053</td>\n",
              "      <td>0.440741</td>\n",
              "      <td>0.308458</td>\n",
              "      <td>0.0</td>\n",
              "      <td>8.920676e-07</td>\n",
              "      <td>0.017</td>\n",
              "      <td>1.0</td>\n",
              "      <td>0.727629</td>\n",
              "      <td>0.041736</td>\n",
              "      <td>0.763359</td>\n",
              "      <td>...</td>\n",
              "      <td>0.022869</td>\n",
              "      <td>0.612368</td>\n",
              "      <td>0.053007</td>\n",
              "      <td>0.616978</td>\n",
              "      <td>0.569906</td>\n",
              "      <td>0.024850</td>\n",
              "      <td>0.612316</td>\n",
              "      <td>0.052958</td>\n",
              "      <td>0.617093</td>\n",
              "      <td>0.569856</td>\n",
              "    </tr>\n",
              "    <tr>\n",
              "      <th>2</th>\n",
              "      <td>0.151265</td>\n",
              "      <td>0.440741</td>\n",
              "      <td>0.308364</td>\n",
              "      <td>0.0</td>\n",
              "      <td>6.308120e-07</td>\n",
              "      <td>0.840</td>\n",
              "      <td>0.5</td>\n",
              "      <td>0.730187</td>\n",
              "      <td>0.022959</td>\n",
              "      <td>0.751853</td>\n",
              "      <td>...</td>\n",
              "      <td>0.022869</td>\n",
              "      <td>0.612368</td>\n",
              "      <td>0.053007</td>\n",
              "      <td>0.616978</td>\n",
              "      <td>0.569906</td>\n",
              "      <td>0.024850</td>\n",
              "      <td>0.612316</td>\n",
              "      <td>0.052958</td>\n",
              "      <td>0.617093</td>\n",
              "      <td>0.569856</td>\n",
              "    </tr>\n",
              "    <tr>\n",
              "      <th>3</th>\n",
              "      <td>0.019888</td>\n",
              "      <td>0.440741</td>\n",
              "      <td>0.308362</td>\n",
              "      <td>0.0</td>\n",
              "      <td>1.017629e-06</td>\n",
              "      <td>1.000</td>\n",
              "      <td>0.0</td>\n",
              "      <td>0.731731</td>\n",
              "      <td>0.000407</td>\n",
              "      <td>0.753092</td>\n",
              "      <td>...</td>\n",
              "      <td>0.022869</td>\n",
              "      <td>0.612368</td>\n",
              "      <td>0.053007</td>\n",
              "      <td>0.616978</td>\n",
              "      <td>0.569906</td>\n",
              "      <td>0.024850</td>\n",
              "      <td>0.612316</td>\n",
              "      <td>0.052958</td>\n",
              "      <td>0.617093</td>\n",
              "      <td>0.569856</td>\n",
              "    </tr>\n",
              "    <tr>\n",
              "      <th>4</th>\n",
              "      <td>0.278094</td>\n",
              "      <td>0.440741</td>\n",
              "      <td>0.308043</td>\n",
              "      <td>0.0</td>\n",
              "      <td>6.499151e-07</td>\n",
              "      <td>0.002</td>\n",
              "      <td>0.0</td>\n",
              "      <td>0.724198</td>\n",
              "      <td>0.077458</td>\n",
              "      <td>0.749993</td>\n",
              "      <td>...</td>\n",
              "      <td>0.022869</td>\n",
              "      <td>0.612368</td>\n",
              "      <td>0.053007</td>\n",
              "      <td>0.616978</td>\n",
              "      <td>0.569906</td>\n",
              "      <td>0.024850</td>\n",
              "      <td>0.612316</td>\n",
              "      <td>0.052958</td>\n",
              "      <td>0.617093</td>\n",
              "      <td>0.569856</td>\n",
              "    </tr>\n",
              "    <tr>\n",
              "      <th>...</th>\n",
              "      <td>...</td>\n",
              "      <td>...</td>\n",
              "      <td>...</td>\n",
              "      <td>...</td>\n",
              "      <td>...</td>\n",
              "      <td>...</td>\n",
              "      <td>...</td>\n",
              "      <td>...</td>\n",
              "      <td>...</td>\n",
              "      <td>...</td>\n",
              "      <td>...</td>\n",
              "      <td>...</td>\n",
              "      <td>...</td>\n",
              "      <td>...</td>\n",
              "      <td>...</td>\n",
              "      <td>...</td>\n",
              "      <td>...</td>\n",
              "      <td>...</td>\n",
              "      <td>...</td>\n",
              "      <td>...</td>\n",
              "      <td>...</td>\n",
              "    </tr>\n",
              "    <tr>\n",
              "      <th>762673</th>\n",
              "      <td>0.012625</td>\n",
              "      <td>0.425926</td>\n",
              "      <td>0.118026</td>\n",
              "      <td>0.0</td>\n",
              "      <td>6.101771e-07</td>\n",
              "      <td>0.010</td>\n",
              "      <td>0.5</td>\n",
              "      <td>0.582529</td>\n",
              "      <td>0.000167</td>\n",
              "      <td>0.599788</td>\n",
              "      <td>...</td>\n",
              "      <td>0.000308</td>\n",
              "      <td>0.600590</td>\n",
              "      <td>0.010000</td>\n",
              "      <td>1.000000</td>\n",
              "      <td>0.559384</td>\n",
              "      <td>0.000309</td>\n",
              "      <td>0.598604</td>\n",
              "      <td>0.100000</td>\n",
              "      <td>0.000000</td>\n",
              "      <td>0.559384</td>\n",
              "    </tr>\n",
              "    <tr>\n",
              "      <th>762674</th>\n",
              "      <td>0.005801</td>\n",
              "      <td>0.425926</td>\n",
              "      <td>0.118026</td>\n",
              "      <td>0.0</td>\n",
              "      <td>2.132336e-06</td>\n",
              "      <td>0.100</td>\n",
              "      <td>0.0</td>\n",
              "      <td>0.582569</td>\n",
              "      <td>0.000037</td>\n",
              "      <td>0.600249</td>\n",
              "      <td>...</td>\n",
              "      <td>0.000343</td>\n",
              "      <td>0.600590</td>\n",
              "      <td>0.010000</td>\n",
              "      <td>1.000000</td>\n",
              "      <td>0.559384</td>\n",
              "      <td>0.000342</td>\n",
              "      <td>0.600590</td>\n",
              "      <td>0.010000</td>\n",
              "      <td>1.000000</td>\n",
              "      <td>0.559384</td>\n",
              "    </tr>\n",
              "    <tr>\n",
              "      <th>762675</th>\n",
              "      <td>0.007192</td>\n",
              "      <td>0.425926</td>\n",
              "      <td>0.118026</td>\n",
              "      <td>0.0</td>\n",
              "      <td>1.076490e-06</td>\n",
              "      <td>0.740</td>\n",
              "      <td>1.0</td>\n",
              "      <td>0.582327</td>\n",
              "      <td>0.000056</td>\n",
              "      <td>0.600063</td>\n",
              "      <td>...</td>\n",
              "      <td>0.000396</td>\n",
              "      <td>0.600590</td>\n",
              "      <td>0.010000</td>\n",
              "      <td>0.500000</td>\n",
              "      <td>0.559384</td>\n",
              "      <td>0.000394</td>\n",
              "      <td>0.600590</td>\n",
              "      <td>0.010000</td>\n",
              "      <td>1.000000</td>\n",
              "      <td>0.559384</td>\n",
              "    </tr>\n",
              "    <tr>\n",
              "      <th>762676</th>\n",
              "      <td>0.007888</td>\n",
              "      <td>0.425926</td>\n",
              "      <td>0.118026</td>\n",
              "      <td>0.0</td>\n",
              "      <td>6.817435e-07</td>\n",
              "      <td>0.400</td>\n",
              "      <td>1.0</td>\n",
              "      <td>0.582228</td>\n",
              "      <td>0.000067</td>\n",
              "      <td>0.601260</td>\n",
              "      <td>...</td>\n",
              "      <td>0.000448</td>\n",
              "      <td>0.600213</td>\n",
              "      <td>0.036000</td>\n",
              "      <td>1.000000</td>\n",
              "      <td>0.559384</td>\n",
              "      <td>0.000457</td>\n",
              "      <td>0.600590</td>\n",
              "      <td>0.010000</td>\n",
              "      <td>0.500000</td>\n",
              "      <td>0.559384</td>\n",
              "    </tr>\n",
              "    <tr>\n",
              "      <th>762677</th>\n",
              "      <td>0.003282</td>\n",
              "      <td>0.425926</td>\n",
              "      <td>0.118026</td>\n",
              "      <td>0.0</td>\n",
              "      <td>6.097966e-07</td>\n",
              "      <td>0.740</td>\n",
              "      <td>1.0</td>\n",
              "      <td>0.581795</td>\n",
              "      <td>0.000013</td>\n",
              "      <td>0.601116</td>\n",
              "      <td>...</td>\n",
              "      <td>0.000426</td>\n",
              "      <td>0.599800</td>\n",
              "      <td>0.003000</td>\n",
              "      <td>1.000000</td>\n",
              "      <td>0.559706</td>\n",
              "      <td>0.000457</td>\n",
              "      <td>0.600213</td>\n",
              "      <td>0.036000</td>\n",
              "      <td>1.000000</td>\n",
              "      <td>0.559384</td>\n",
              "    </tr>\n",
              "  </tbody>\n",
              "</table>\n",
              "<p>762678 rows × 58 columns</p>\n",
              "</div>\n",
              "      <button class=\"colab-df-convert\" onclick=\"convertToInteractive('df-d03eae52-9653-47d0-ac67-3e216b93eb90')\"\n",
              "              title=\"Convert this dataframe to an interactive table.\"\n",
              "              style=\"display:none;\">\n",
              "        \n",
              "  <svg xmlns=\"http://www.w3.org/2000/svg\" height=\"24px\"viewBox=\"0 0 24 24\"\n",
              "       width=\"24px\">\n",
              "    <path d=\"M0 0h24v24H0V0z\" fill=\"none\"/>\n",
              "    <path d=\"M18.56 5.44l.94 2.06.94-2.06 2.06-.94-2.06-.94-.94-2.06-.94 2.06-2.06.94zm-11 1L8.5 8.5l.94-2.06 2.06-.94-2.06-.94L8.5 2.5l-.94 2.06-2.06.94zm10 10l.94 2.06.94-2.06 2.06-.94-2.06-.94-.94-2.06-.94 2.06-2.06.94z\"/><path d=\"M17.41 7.96l-1.37-1.37c-.4-.4-.92-.59-1.43-.59-.52 0-1.04.2-1.43.59L10.3 9.45l-7.72 7.72c-.78.78-.78 2.05 0 2.83L4 21.41c.39.39.9.59 1.41.59.51 0 1.02-.2 1.41-.59l7.78-7.78 2.81-2.81c.8-.78.8-2.07 0-2.86zM5.41 20L4 18.59l7.72-7.72 1.47 1.35L5.41 20z\"/>\n",
              "  </svg>\n",
              "      </button>\n",
              "      \n",
              "  <style>\n",
              "    .colab-df-container {\n",
              "      display:flex;\n",
              "      flex-wrap:wrap;\n",
              "      gap: 12px;\n",
              "    }\n",
              "\n",
              "    .colab-df-convert {\n",
              "      background-color: #E8F0FE;\n",
              "      border: none;\n",
              "      border-radius: 50%;\n",
              "      cursor: pointer;\n",
              "      display: none;\n",
              "      fill: #1967D2;\n",
              "      height: 32px;\n",
              "      padding: 0 0 0 0;\n",
              "      width: 32px;\n",
              "    }\n",
              "\n",
              "    .colab-df-convert:hover {\n",
              "      background-color: #E2EBFA;\n",
              "      box-shadow: 0px 1px 2px rgba(60, 64, 67, 0.3), 0px 1px 3px 1px rgba(60, 64, 67, 0.15);\n",
              "      fill: #174EA6;\n",
              "    }\n",
              "\n",
              "    [theme=dark] .colab-df-convert {\n",
              "      background-color: #3B4455;\n",
              "      fill: #D2E3FC;\n",
              "    }\n",
              "\n",
              "    [theme=dark] .colab-df-convert:hover {\n",
              "      background-color: #434B5C;\n",
              "      box-shadow: 0px 1px 3px 1px rgba(0, 0, 0, 0.15);\n",
              "      filter: drop-shadow(0px 1px 2px rgba(0, 0, 0, 0.3));\n",
              "      fill: #FFFFFF;\n",
              "    }\n",
              "  </style>\n",
              "\n",
              "      <script>\n",
              "        const buttonEl =\n",
              "          document.querySelector('#df-d03eae52-9653-47d0-ac67-3e216b93eb90 button.colab-df-convert');\n",
              "        buttonEl.style.display =\n",
              "          google.colab.kernel.accessAllowed ? 'block' : 'none';\n",
              "\n",
              "        async function convertToInteractive(key) {\n",
              "          const element = document.querySelector('#df-d03eae52-9653-47d0-ac67-3e216b93eb90');\n",
              "          const dataTable =\n",
              "            await google.colab.kernel.invokeFunction('convertToInteractive',\n",
              "                                                     [key], {});\n",
              "          if (!dataTable) return;\n",
              "\n",
              "          const docLinkHtml = 'Like what you see? Visit the ' +\n",
              "            '<a target=\"_blank\" href=https://colab.research.google.com/notebooks/data_table.ipynb>data table notebook</a>'\n",
              "            + ' to learn more about interactive tables.';\n",
              "          element.innerHTML = '';\n",
              "          dataTable['output_type'] = 'display_data';\n",
              "          await google.colab.output.renderOutput(dataTable, element);\n",
              "          const docLink = document.createElement('div');\n",
              "          docLink.innerHTML = docLinkHtml;\n",
              "          element.appendChild(docLink);\n",
              "        }\n",
              "      </script>\n",
              "    </div>\n",
              "  </div>\n",
              "  "
            ],
            "text/plain": [
              "          weight  current_coupon  time_to_maturity  is_callable  \\\n",
              "0       0.263586        0.440741          0.308630          0.0   \n",
              "1       0.204053        0.440741          0.308458          0.0   \n",
              "2       0.151265        0.440741          0.308364          0.0   \n",
              "3       0.019888        0.440741          0.308362          0.0   \n",
              "4       0.278094        0.440741          0.308043          0.0   \n",
              "...          ...             ...               ...          ...   \n",
              "762673  0.012625        0.425926          0.118026          0.0   \n",
              "762674  0.005801        0.425926          0.118026          0.0   \n",
              "762675  0.007192        0.425926          0.118026          0.0   \n",
              "762676  0.007888        0.425926          0.118026          0.0   \n",
              "762677  0.003282        0.425926          0.118026          0.0   \n",
              "\n",
              "        reporting_delay  trade_size  trade_type  curve_based_price  \\\n",
              "0          6.038494e-07       0.024         0.0           0.734858   \n",
              "1          8.920676e-07       0.017         1.0           0.727629   \n",
              "2          6.308120e-07       0.840         0.5           0.730187   \n",
              "3          1.017629e-06       1.000         0.0           0.731731   \n",
              "4          6.499151e-07       0.002         0.0           0.724198   \n",
              "...                 ...         ...         ...                ...   \n",
              "762673     6.101771e-07       0.010         0.5           0.582529   \n",
              "762674     2.132336e-06       0.100         0.0           0.582569   \n",
              "762675     1.076490e-06       0.740         1.0           0.582327   \n",
              "762676     6.817435e-07       0.400         1.0           0.582228   \n",
              "762677     6.097966e-07       0.740         1.0           0.581795   \n",
              "\n",
              "        received_time_diff_last1  trade_price_last1  ...  \\\n",
              "0                       0.069595           0.766308  ...   \n",
              "1                       0.041736           0.763359  ...   \n",
              "2                       0.022959           0.751853  ...   \n",
              "3                       0.000407           0.753092  ...   \n",
              "4                       0.077458           0.749993  ...   \n",
              "...                          ...                ...  ...   \n",
              "762673                  0.000167           0.599788  ...   \n",
              "762674                  0.000037           0.600249  ...   \n",
              "762675                  0.000056           0.600063  ...   \n",
              "762676                  0.000067           0.601260  ...   \n",
              "762677                  0.000013           0.601116  ...   \n",
              "\n",
              "        received_time_diff_last9  trade_price_last9  trade_size_last9  \\\n",
              "0                       0.022869           0.612368          0.053007   \n",
              "1                       0.022869           0.612368          0.053007   \n",
              "2                       0.022869           0.612368          0.053007   \n",
              "3                       0.022869           0.612368          0.053007   \n",
              "4                       0.022869           0.612368          0.053007   \n",
              "...                          ...                ...               ...   \n",
              "762673                  0.000308           0.600590          0.010000   \n",
              "762674                  0.000343           0.600590          0.010000   \n",
              "762675                  0.000396           0.600590          0.010000   \n",
              "762676                  0.000448           0.600213          0.036000   \n",
              "762677                  0.000426           0.599800          0.003000   \n",
              "\n",
              "        trade_type_last9  curve_based_price_last9  received_time_diff_last10  \\\n",
              "0               0.616978                 0.569906                   0.024850   \n",
              "1               0.616978                 0.569906                   0.024850   \n",
              "2               0.616978                 0.569906                   0.024850   \n",
              "3               0.616978                 0.569906                   0.024850   \n",
              "4               0.616978                 0.569906                   0.024850   \n",
              "...                  ...                      ...                        ...   \n",
              "762673          1.000000                 0.559384                   0.000309   \n",
              "762674          1.000000                 0.559384                   0.000342   \n",
              "762675          0.500000                 0.559384                   0.000394   \n",
              "762676          1.000000                 0.559384                   0.000457   \n",
              "762677          1.000000                 0.559706                   0.000457   \n",
              "\n",
              "        trade_price_last10  trade_size_last10  trade_type_last10  \\\n",
              "0                 0.612316           0.052958           0.617093   \n",
              "1                 0.612316           0.052958           0.617093   \n",
              "2                 0.612316           0.052958           0.617093   \n",
              "3                 0.612316           0.052958           0.617093   \n",
              "4                 0.612316           0.052958           0.617093   \n",
              "...                    ...                ...                ...   \n",
              "762673            0.598604           0.100000           0.000000   \n",
              "762674            0.600590           0.010000           1.000000   \n",
              "762675            0.600590           0.010000           1.000000   \n",
              "762676            0.600590           0.010000           0.500000   \n",
              "762677            0.600213           0.036000           1.000000   \n",
              "\n",
              "        curve_based_price_last10  \n",
              "0                       0.569856  \n",
              "1                       0.569856  \n",
              "2                       0.569856  \n",
              "3                       0.569856  \n",
              "4                       0.569856  \n",
              "...                          ...  \n",
              "762673                  0.559384  \n",
              "762674                  0.559384  \n",
              "762675                  0.559384  \n",
              "762676                  0.559384  \n",
              "762677                  0.559384  \n",
              "\n",
              "[762678 rows x 58 columns]"
            ]
          },
          "execution_count": 35,
          "metadata": {},
          "output_type": "execute_result"
        }
      ],
      "source": [
        "inputs_df"
      ]
    },
    {
      "cell_type": "code",
      "execution_count": null,
      "metadata": {
        "colab": {
          "base_uri": "https://localhost:8080/",
          "height": 205
        },
        "id": "Pubj2G4xDcUi",
        "outputId": "ebff7a02-acf4-49b2-81c6-a93f2ed8ae4b"
      },
      "outputs": [
        {
          "data": {
            "text/html": [
              "\n",
              "  <div id=\"df-aac9f8c5-13ea-42a7-97b4-e3786eafa623\">\n",
              "    <div class=\"colab-df-container\">\n",
              "      <div>\n",
              "<style scoped>\n",
              "    .dataframe tbody tr th:only-of-type {\n",
              "        vertical-align: middle;\n",
              "    }\n",
              "\n",
              "    .dataframe tbody tr th {\n",
              "        vertical-align: top;\n",
              "    }\n",
              "\n",
              "    .dataframe thead th {\n",
              "        text-align: right;\n",
              "    }\n",
              "</style>\n",
              "<table border=\"1\" class=\"dataframe\">\n",
              "  <thead>\n",
              "    <tr style=\"text-align: right;\">\n",
              "      <th></th>\n",
              "      <th>weight</th>\n",
              "      <th>current_coupon</th>\n",
              "      <th>time_to_maturity</th>\n",
              "      <th>is_callable</th>\n",
              "      <th>reporting_delay</th>\n",
              "      <th>trade_size</th>\n",
              "      <th>trade_type</th>\n",
              "      <th>curve_based_price</th>\n",
              "      <th>received_time_diff_last1</th>\n",
              "      <th>trade_price_last1</th>\n",
              "      <th>...</th>\n",
              "      <th>received_time_diff_last9</th>\n",
              "      <th>trade_price_last9</th>\n",
              "      <th>trade_size_last9</th>\n",
              "      <th>trade_type_last9</th>\n",
              "      <th>curve_based_price_last9</th>\n",
              "      <th>received_time_diff_last10</th>\n",
              "      <th>trade_price_last10</th>\n",
              "      <th>trade_size_last10</th>\n",
              "      <th>trade_type_last10</th>\n",
              "      <th>curve_based_price_last10</th>\n",
              "    </tr>\n",
              "  </thead>\n",
              "  <tbody>\n",
              "    <tr>\n",
              "      <th>min</th>\n",
              "      <td>0.0</td>\n",
              "      <td>0.0</td>\n",
              "      <td>0.0</td>\n",
              "      <td>0.0</td>\n",
              "      <td>0.0</td>\n",
              "      <td>0.0</td>\n",
              "      <td>0.0</td>\n",
              "      <td>0.0</td>\n",
              "      <td>0.0</td>\n",
              "      <td>0.0</td>\n",
              "      <td>...</td>\n",
              "      <td>0.0</td>\n",
              "      <td>0.0</td>\n",
              "      <td>0.0</td>\n",
              "      <td>0.0</td>\n",
              "      <td>0.0</td>\n",
              "      <td>0.0</td>\n",
              "      <td>0.0</td>\n",
              "      <td>0.0</td>\n",
              "      <td>0.0</td>\n",
              "      <td>0.0</td>\n",
              "    </tr>\n",
              "    <tr>\n",
              "      <th>max</th>\n",
              "      <td>1.0</td>\n",
              "      <td>1.0</td>\n",
              "      <td>1.0</td>\n",
              "      <td>1.0</td>\n",
              "      <td>1.0</td>\n",
              "      <td>1.0</td>\n",
              "      <td>1.0</td>\n",
              "      <td>1.0</td>\n",
              "      <td>1.0</td>\n",
              "      <td>1.0</td>\n",
              "      <td>...</td>\n",
              "      <td>1.0</td>\n",
              "      <td>1.0</td>\n",
              "      <td>1.0</td>\n",
              "      <td>1.0</td>\n",
              "      <td>1.0</td>\n",
              "      <td>1.0</td>\n",
              "      <td>1.0</td>\n",
              "      <td>1.0</td>\n",
              "      <td>1.0</td>\n",
              "      <td>1.0</td>\n",
              "    </tr>\n",
              "  </tbody>\n",
              "</table>\n",
              "<p>2 rows × 58 columns</p>\n",
              "</div>\n",
              "      <button class=\"colab-df-convert\" onclick=\"convertToInteractive('df-aac9f8c5-13ea-42a7-97b4-e3786eafa623')\"\n",
              "              title=\"Convert this dataframe to an interactive table.\"\n",
              "              style=\"display:none;\">\n",
              "        \n",
              "  <svg xmlns=\"http://www.w3.org/2000/svg\" height=\"24px\"viewBox=\"0 0 24 24\"\n",
              "       width=\"24px\">\n",
              "    <path d=\"M0 0h24v24H0V0z\" fill=\"none\"/>\n",
              "    <path d=\"M18.56 5.44l.94 2.06.94-2.06 2.06-.94-2.06-.94-.94-2.06-.94 2.06-2.06.94zm-11 1L8.5 8.5l.94-2.06 2.06-.94-2.06-.94L8.5 2.5l-.94 2.06-2.06.94zm10 10l.94 2.06.94-2.06 2.06-.94-2.06-.94-.94-2.06-.94 2.06-2.06.94z\"/><path d=\"M17.41 7.96l-1.37-1.37c-.4-.4-.92-.59-1.43-.59-.52 0-1.04.2-1.43.59L10.3 9.45l-7.72 7.72c-.78.78-.78 2.05 0 2.83L4 21.41c.39.39.9.59 1.41.59.51 0 1.02-.2 1.41-.59l7.78-7.78 2.81-2.81c.8-.78.8-2.07 0-2.86zM5.41 20L4 18.59l7.72-7.72 1.47 1.35L5.41 20z\"/>\n",
              "  </svg>\n",
              "      </button>\n",
              "      \n",
              "  <style>\n",
              "    .colab-df-container {\n",
              "      display:flex;\n",
              "      flex-wrap:wrap;\n",
              "      gap: 12px;\n",
              "    }\n",
              "\n",
              "    .colab-df-convert {\n",
              "      background-color: #E8F0FE;\n",
              "      border: none;\n",
              "      border-radius: 50%;\n",
              "      cursor: pointer;\n",
              "      display: none;\n",
              "      fill: #1967D2;\n",
              "      height: 32px;\n",
              "      padding: 0 0 0 0;\n",
              "      width: 32px;\n",
              "    }\n",
              "\n",
              "    .colab-df-convert:hover {\n",
              "      background-color: #E2EBFA;\n",
              "      box-shadow: 0px 1px 2px rgba(60, 64, 67, 0.3), 0px 1px 3px 1px rgba(60, 64, 67, 0.15);\n",
              "      fill: #174EA6;\n",
              "    }\n",
              "\n",
              "    [theme=dark] .colab-df-convert {\n",
              "      background-color: #3B4455;\n",
              "      fill: #D2E3FC;\n",
              "    }\n",
              "\n",
              "    [theme=dark] .colab-df-convert:hover {\n",
              "      background-color: #434B5C;\n",
              "      box-shadow: 0px 1px 3px 1px rgba(0, 0, 0, 0.15);\n",
              "      filter: drop-shadow(0px 1px 2px rgba(0, 0, 0, 0.3));\n",
              "      fill: #FFFFFF;\n",
              "    }\n",
              "  </style>\n",
              "\n",
              "      <script>\n",
              "        const buttonEl =\n",
              "          document.querySelector('#df-aac9f8c5-13ea-42a7-97b4-e3786eafa623 button.colab-df-convert');\n",
              "        buttonEl.style.display =\n",
              "          google.colab.kernel.accessAllowed ? 'block' : 'none';\n",
              "\n",
              "        async function convertToInteractive(key) {\n",
              "          const element = document.querySelector('#df-aac9f8c5-13ea-42a7-97b4-e3786eafa623');\n",
              "          const dataTable =\n",
              "            await google.colab.kernel.invokeFunction('convertToInteractive',\n",
              "                                                     [key], {});\n",
              "          if (!dataTable) return;\n",
              "\n",
              "          const docLinkHtml = 'Like what you see? Visit the ' +\n",
              "            '<a target=\"_blank\" href=https://colab.research.google.com/notebooks/data_table.ipynb>data table notebook</a>'\n",
              "            + ' to learn more about interactive tables.';\n",
              "          element.innerHTML = '';\n",
              "          dataTable['output_type'] = 'display_data';\n",
              "          await google.colab.output.renderOutput(dataTable, element);\n",
              "          const docLink = document.createElement('div');\n",
              "          docLink.innerHTML = docLinkHtml;\n",
              "          element.appendChild(docLink);\n",
              "        }\n",
              "      </script>\n",
              "    </div>\n",
              "  </div>\n",
              "  "
            ],
            "text/plain": [
              "     weight  current_coupon  time_to_maturity  is_callable  reporting_delay  \\\n",
              "min     0.0             0.0               0.0          0.0              0.0   \n",
              "max     1.0             1.0               1.0          1.0              1.0   \n",
              "\n",
              "     trade_size  trade_type  curve_based_price  received_time_diff_last1  \\\n",
              "min         0.0         0.0                0.0                       0.0   \n",
              "max         1.0         1.0                1.0                       1.0   \n",
              "\n",
              "     trade_price_last1  ...  received_time_diff_last9  trade_price_last9  \\\n",
              "min                0.0  ...                       0.0                0.0   \n",
              "max                1.0  ...                       1.0                1.0   \n",
              "\n",
              "     trade_size_last9  trade_type_last9  curve_based_price_last9  \\\n",
              "min               0.0               0.0                      0.0   \n",
              "max               1.0               1.0                      1.0   \n",
              "\n",
              "     received_time_diff_last10  trade_price_last10  trade_size_last10  \\\n",
              "min                        0.0                 0.0                0.0   \n",
              "max                        1.0                 1.0                1.0   \n",
              "\n",
              "     trade_type_last10  curve_based_price_last10  \n",
              "min                0.0                       0.0  \n",
              "max                1.0                       1.0  \n",
              "\n",
              "[2 rows x 58 columns]"
            ]
          },
          "execution_count": 36,
          "metadata": {},
          "output_type": "execute_result"
        }
      ],
      "source": [
        "inputs_df[numerical_cols].describe().loc[['min', 'max']]"
      ]
    },
    {
      "cell_type": "markdown",
      "metadata": {
        "id": "RHPBJPc4aLpm"
      },
      "source": [
        "## Split the Data for training and testing"
      ]
    },
    {
      "cell_type": "code",
      "execution_count": null,
      "metadata": {
        "id": "a-qw-LoWZfJ3"
      },
      "outputs": [],
      "source": [
        "from sklearn.model_selection import train_test_split"
      ]
    },
    {
      "cell_type": "code",
      "execution_count": null,
      "metadata": {
        "id": "xHw4fmT1ZfHP"
      },
      "outputs": [],
      "source": [
        "train_inputs, val_inputs, train_targets, val_targets = train_test_split(inputs_df[numerical_cols],Target,test_size=0.25,random_state=42)"
      ]
    },
    {
      "cell_type": "code",
      "execution_count": null,
      "metadata": {
        "colab": {
          "base_uri": "https://localhost:8080/",
          "height": 299
        },
        "id": "i_w3-wByaliK",
        "outputId": "16f9664a-133b-459b-9ae9-efdc8b344351"
      },
      "outputs": [
        {
          "data": {
            "text/html": [
              "\n",
              "  <div id=\"df-bc3b2adf-8869-4d02-ae0c-84ec4b59caa0\">\n",
              "    <div class=\"colab-df-container\">\n",
              "      <div>\n",
              "<style scoped>\n",
              "    .dataframe tbody tr th:only-of-type {\n",
              "        vertical-align: middle;\n",
              "    }\n",
              "\n",
              "    .dataframe tbody tr th {\n",
              "        vertical-align: top;\n",
              "    }\n",
              "\n",
              "    .dataframe thead th {\n",
              "        text-align: right;\n",
              "    }\n",
              "</style>\n",
              "<table border=\"1\" class=\"dataframe\">\n",
              "  <thead>\n",
              "    <tr style=\"text-align: right;\">\n",
              "      <th></th>\n",
              "      <th>weight</th>\n",
              "      <th>current_coupon</th>\n",
              "      <th>time_to_maturity</th>\n",
              "      <th>is_callable</th>\n",
              "      <th>reporting_delay</th>\n",
              "      <th>trade_size</th>\n",
              "      <th>trade_type</th>\n",
              "      <th>curve_based_price</th>\n",
              "      <th>received_time_diff_last1</th>\n",
              "      <th>trade_price_last1</th>\n",
              "      <th>...</th>\n",
              "      <th>received_time_diff_last9</th>\n",
              "      <th>trade_price_last9</th>\n",
              "      <th>trade_size_last9</th>\n",
              "      <th>trade_type_last9</th>\n",
              "      <th>curve_based_price_last9</th>\n",
              "      <th>received_time_diff_last10</th>\n",
              "      <th>trade_price_last10</th>\n",
              "      <th>trade_size_last10</th>\n",
              "      <th>trade_type_last10</th>\n",
              "      <th>curve_based_price_last10</th>\n",
              "    </tr>\n",
              "  </thead>\n",
              "  <tbody>\n",
              "    <tr>\n",
              "      <th>29080</th>\n",
              "      <td>0.001052</td>\n",
              "      <td>0.162963</td>\n",
              "      <td>0.009781</td>\n",
              "      <td>0.0</td>\n",
              "      <td>6.047806e-07</td>\n",
              "      <td>0.0030</td>\n",
              "      <td>0.5</td>\n",
              "      <td>0.584495</td>\n",
              "      <td>1.742715e-06</td>\n",
              "      <td>0.602888</td>\n",
              "      <td>...</td>\n",
              "      <td>0.021816</td>\n",
              "      <td>0.601613</td>\n",
              "      <td>0.0002</td>\n",
              "      <td>0.0</td>\n",
              "      <td>0.562377</td>\n",
              "      <td>0.021673</td>\n",
              "      <td>0.601613</td>\n",
              "      <td>0.0002</td>\n",
              "      <td>1.0</td>\n",
              "      <td>0.562377</td>\n",
              "    </tr>\n",
              "    <tr>\n",
              "      <th>174379</th>\n",
              "      <td>0.000374</td>\n",
              "      <td>0.555556</td>\n",
              "      <td>0.046698</td>\n",
              "      <td>0.0</td>\n",
              "      <td>6.522579e-07</td>\n",
              "      <td>0.0020</td>\n",
              "      <td>1.0</td>\n",
              "      <td>0.584931</td>\n",
              "      <td>3.668873e-07</td>\n",
              "      <td>0.632653</td>\n",
              "      <td>...</td>\n",
              "      <td>0.046198</td>\n",
              "      <td>0.627418</td>\n",
              "      <td>0.0328</td>\n",
              "      <td>1.0</td>\n",
              "      <td>0.557462</td>\n",
              "      <td>0.045895</td>\n",
              "      <td>0.627418</td>\n",
              "      <td>0.0328</td>\n",
              "      <td>0.0</td>\n",
              "      <td>0.557462</td>\n",
              "    </tr>\n",
              "    <tr>\n",
              "      <th>387800</th>\n",
              "      <td>0.010988</td>\n",
              "      <td>0.592593</td>\n",
              "      <td>0.068697</td>\n",
              "      <td>0.0</td>\n",
              "      <td>2.926485e-06</td>\n",
              "      <td>0.0014</td>\n",
              "      <td>0.0</td>\n",
              "      <td>0.626325</td>\n",
              "      <td>1.273099e-04</td>\n",
              "      <td>0.645217</td>\n",
              "      <td>...</td>\n",
              "      <td>0.006948</td>\n",
              "      <td>0.649106</td>\n",
              "      <td>0.2000</td>\n",
              "      <td>1.0</td>\n",
              "      <td>0.604969</td>\n",
              "      <td>0.006988</td>\n",
              "      <td>0.649480</td>\n",
              "      <td>0.2000</td>\n",
              "      <td>1.0</td>\n",
              "      <td>0.604783</td>\n",
              "    </tr>\n",
              "    <tr>\n",
              "      <th>493542</th>\n",
              "      <td>0.029329</td>\n",
              "      <td>0.555556</td>\n",
              "      <td>0.016004</td>\n",
              "      <td>0.0</td>\n",
              "      <td>9.390243e-07</td>\n",
              "      <td>0.2730</td>\n",
              "      <td>1.0</td>\n",
              "      <td>0.631047</td>\n",
              "      <td>8.774109e-04</td>\n",
              "      <td>0.650279</td>\n",
              "      <td>...</td>\n",
              "      <td>0.006623</td>\n",
              "      <td>0.649866</td>\n",
              "      <td>0.0050</td>\n",
              "      <td>0.0</td>\n",
              "      <td>0.607252</td>\n",
              "      <td>0.007582</td>\n",
              "      <td>0.647072</td>\n",
              "      <td>0.0100</td>\n",
              "      <td>0.0</td>\n",
              "      <td>0.607002</td>\n",
              "    </tr>\n",
              "    <tr>\n",
              "      <th>722975</th>\n",
              "      <td>0.127240</td>\n",
              "      <td>0.157407</td>\n",
              "      <td>0.028554</td>\n",
              "      <td>0.0</td>\n",
              "      <td>7.366799e-07</td>\n",
              "      <td>0.0020</td>\n",
              "      <td>0.0</td>\n",
              "      <td>0.572237</td>\n",
              "      <td>1.625714e-02</td>\n",
              "      <td>0.593793</td>\n",
              "      <td>...</td>\n",
              "      <td>0.059553</td>\n",
              "      <td>0.591962</td>\n",
              "      <td>0.0500</td>\n",
              "      <td>0.5</td>\n",
              "      <td>0.551912</td>\n",
              "      <td>0.060182</td>\n",
              "      <td>0.590646</td>\n",
              "      <td>0.2184</td>\n",
              "      <td>1.0</td>\n",
              "      <td>0.551814</td>\n",
              "    </tr>\n",
              "  </tbody>\n",
              "</table>\n",
              "<p>5 rows × 58 columns</p>\n",
              "</div>\n",
              "      <button class=\"colab-df-convert\" onclick=\"convertToInteractive('df-bc3b2adf-8869-4d02-ae0c-84ec4b59caa0')\"\n",
              "              title=\"Convert this dataframe to an interactive table.\"\n",
              "              style=\"display:none;\">\n",
              "        \n",
              "  <svg xmlns=\"http://www.w3.org/2000/svg\" height=\"24px\"viewBox=\"0 0 24 24\"\n",
              "       width=\"24px\">\n",
              "    <path d=\"M0 0h24v24H0V0z\" fill=\"none\"/>\n",
              "    <path d=\"M18.56 5.44l.94 2.06.94-2.06 2.06-.94-2.06-.94-.94-2.06-.94 2.06-2.06.94zm-11 1L8.5 8.5l.94-2.06 2.06-.94-2.06-.94L8.5 2.5l-.94 2.06-2.06.94zm10 10l.94 2.06.94-2.06 2.06-.94-2.06-.94-.94-2.06-.94 2.06-2.06.94z\"/><path d=\"M17.41 7.96l-1.37-1.37c-.4-.4-.92-.59-1.43-.59-.52 0-1.04.2-1.43.59L10.3 9.45l-7.72 7.72c-.78.78-.78 2.05 0 2.83L4 21.41c.39.39.9.59 1.41.59.51 0 1.02-.2 1.41-.59l7.78-7.78 2.81-2.81c.8-.78.8-2.07 0-2.86zM5.41 20L4 18.59l7.72-7.72 1.47 1.35L5.41 20z\"/>\n",
              "  </svg>\n",
              "      </button>\n",
              "      \n",
              "  <style>\n",
              "    .colab-df-container {\n",
              "      display:flex;\n",
              "      flex-wrap:wrap;\n",
              "      gap: 12px;\n",
              "    }\n",
              "\n",
              "    .colab-df-convert {\n",
              "      background-color: #E8F0FE;\n",
              "      border: none;\n",
              "      border-radius: 50%;\n",
              "      cursor: pointer;\n",
              "      display: none;\n",
              "      fill: #1967D2;\n",
              "      height: 32px;\n",
              "      padding: 0 0 0 0;\n",
              "      width: 32px;\n",
              "    }\n",
              "\n",
              "    .colab-df-convert:hover {\n",
              "      background-color: #E2EBFA;\n",
              "      box-shadow: 0px 1px 2px rgba(60, 64, 67, 0.3), 0px 1px 3px 1px rgba(60, 64, 67, 0.15);\n",
              "      fill: #174EA6;\n",
              "    }\n",
              "\n",
              "    [theme=dark] .colab-df-convert {\n",
              "      background-color: #3B4455;\n",
              "      fill: #D2E3FC;\n",
              "    }\n",
              "\n",
              "    [theme=dark] .colab-df-convert:hover {\n",
              "      background-color: #434B5C;\n",
              "      box-shadow: 0px 1px 3px 1px rgba(0, 0, 0, 0.15);\n",
              "      filter: drop-shadow(0px 1px 2px rgba(0, 0, 0, 0.3));\n",
              "      fill: #FFFFFF;\n",
              "    }\n",
              "  </style>\n",
              "\n",
              "      <script>\n",
              "        const buttonEl =\n",
              "          document.querySelector('#df-bc3b2adf-8869-4d02-ae0c-84ec4b59caa0 button.colab-df-convert');\n",
              "        buttonEl.style.display =\n",
              "          google.colab.kernel.accessAllowed ? 'block' : 'none';\n",
              "\n",
              "        async function convertToInteractive(key) {\n",
              "          const element = document.querySelector('#df-bc3b2adf-8869-4d02-ae0c-84ec4b59caa0');\n",
              "          const dataTable =\n",
              "            await google.colab.kernel.invokeFunction('convertToInteractive',\n",
              "                                                     [key], {});\n",
              "          if (!dataTable) return;\n",
              "\n",
              "          const docLinkHtml = 'Like what you see? Visit the ' +\n",
              "            '<a target=\"_blank\" href=https://colab.research.google.com/notebooks/data_table.ipynb>data table notebook</a>'\n",
              "            + ' to learn more about interactive tables.';\n",
              "          element.innerHTML = '';\n",
              "          dataTable['output_type'] = 'display_data';\n",
              "          await google.colab.output.renderOutput(dataTable, element);\n",
              "          const docLink = document.createElement('div');\n",
              "          docLink.innerHTML = docLinkHtml;\n",
              "          element.appendChild(docLink);\n",
              "        }\n",
              "      </script>\n",
              "    </div>\n",
              "  </div>\n",
              "  "
            ],
            "text/plain": [
              "          weight  current_coupon  time_to_maturity  is_callable  \\\n",
              "29080   0.001052        0.162963          0.009781          0.0   \n",
              "174379  0.000374        0.555556          0.046698          0.0   \n",
              "387800  0.010988        0.592593          0.068697          0.0   \n",
              "493542  0.029329        0.555556          0.016004          0.0   \n",
              "722975  0.127240        0.157407          0.028554          0.0   \n",
              "\n",
              "        reporting_delay  trade_size  trade_type  curve_based_price  \\\n",
              "29080      6.047806e-07      0.0030         0.5           0.584495   \n",
              "174379     6.522579e-07      0.0020         1.0           0.584931   \n",
              "387800     2.926485e-06      0.0014         0.0           0.626325   \n",
              "493542     9.390243e-07      0.2730         1.0           0.631047   \n",
              "722975     7.366799e-07      0.0020         0.0           0.572237   \n",
              "\n",
              "        received_time_diff_last1  trade_price_last1  ...  \\\n",
              "29080               1.742715e-06           0.602888  ...   \n",
              "174379              3.668873e-07           0.632653  ...   \n",
              "387800              1.273099e-04           0.645217  ...   \n",
              "493542              8.774109e-04           0.650279  ...   \n",
              "722975              1.625714e-02           0.593793  ...   \n",
              "\n",
              "        received_time_diff_last9  trade_price_last9  trade_size_last9  \\\n",
              "29080                   0.021816           0.601613            0.0002   \n",
              "174379                  0.046198           0.627418            0.0328   \n",
              "387800                  0.006948           0.649106            0.2000   \n",
              "493542                  0.006623           0.649866            0.0050   \n",
              "722975                  0.059553           0.591962            0.0500   \n",
              "\n",
              "        trade_type_last9  curve_based_price_last9  received_time_diff_last10  \\\n",
              "29080                0.0                 0.562377                   0.021673   \n",
              "174379               1.0                 0.557462                   0.045895   \n",
              "387800               1.0                 0.604969                   0.006988   \n",
              "493542               0.0                 0.607252                   0.007582   \n",
              "722975               0.5                 0.551912                   0.060182   \n",
              "\n",
              "        trade_price_last10  trade_size_last10  trade_type_last10  \\\n",
              "29080             0.601613             0.0002                1.0   \n",
              "174379            0.627418             0.0328                0.0   \n",
              "387800            0.649480             0.2000                1.0   \n",
              "493542            0.647072             0.0100                0.0   \n",
              "722975            0.590646             0.2184                1.0   \n",
              "\n",
              "        curve_based_price_last10  \n",
              "29080                   0.562377  \n",
              "174379                  0.557462  \n",
              "387800                  0.604783  \n",
              "493542                  0.607002  \n",
              "722975                  0.551814  \n",
              "\n",
              "[5 rows x 58 columns]"
            ]
          },
          "execution_count": 39,
          "metadata": {},
          "output_type": "execute_result"
        }
      ],
      "source": [
        "train_inputs.head()"
      ]
    },
    {
      "cell_type": "code",
      "execution_count": null,
      "metadata": {
        "colab": {
          "base_uri": "https://localhost:8080/",
          "height": 299
        },
        "id": "k7hDhkf4alfx",
        "outputId": "e57c2eef-951f-4c89-c8eb-7ece985eae31"
      },
      "outputs": [
        {
          "data": {
            "text/html": [
              "\n",
              "  <div id=\"df-79e55f5a-3c8b-4645-a210-3ce270ad218d\">\n",
              "    <div class=\"colab-df-container\">\n",
              "      <div>\n",
              "<style scoped>\n",
              "    .dataframe tbody tr th:only-of-type {\n",
              "        vertical-align: middle;\n",
              "    }\n",
              "\n",
              "    .dataframe tbody tr th {\n",
              "        vertical-align: top;\n",
              "    }\n",
              "\n",
              "    .dataframe thead th {\n",
              "        text-align: right;\n",
              "    }\n",
              "</style>\n",
              "<table border=\"1\" class=\"dataframe\">\n",
              "  <thead>\n",
              "    <tr style=\"text-align: right;\">\n",
              "      <th></th>\n",
              "      <th>weight</th>\n",
              "      <th>current_coupon</th>\n",
              "      <th>time_to_maturity</th>\n",
              "      <th>is_callable</th>\n",
              "      <th>reporting_delay</th>\n",
              "      <th>trade_size</th>\n",
              "      <th>trade_type</th>\n",
              "      <th>curve_based_price</th>\n",
              "      <th>received_time_diff_last1</th>\n",
              "      <th>trade_price_last1</th>\n",
              "      <th>...</th>\n",
              "      <th>received_time_diff_last9</th>\n",
              "      <th>trade_price_last9</th>\n",
              "      <th>trade_size_last9</th>\n",
              "      <th>trade_type_last9</th>\n",
              "      <th>curve_based_price_last9</th>\n",
              "      <th>received_time_diff_last10</th>\n",
              "      <th>trade_price_last10</th>\n",
              "      <th>trade_size_last10</th>\n",
              "      <th>trade_type_last10</th>\n",
              "      <th>curve_based_price_last10</th>\n",
              "    </tr>\n",
              "  </thead>\n",
              "  <tbody>\n",
              "    <tr>\n",
              "      <th>369154</th>\n",
              "      <td>0.000000</td>\n",
              "      <td>0.485185</td>\n",
              "      <td>0.308888</td>\n",
              "      <td>0.0</td>\n",
              "      <td>9.296630e-07</td>\n",
              "      <td>0.002</td>\n",
              "      <td>1.0</td>\n",
              "      <td>0.611327</td>\n",
              "      <td>0.000000e+00</td>\n",
              "      <td>0.634448</td>\n",
              "      <td>...</td>\n",
              "      <td>0.022869</td>\n",
              "      <td>0.612368</td>\n",
              "      <td>0.053007</td>\n",
              "      <td>0.616978</td>\n",
              "      <td>0.569906</td>\n",
              "      <td>0.024850</td>\n",
              "      <td>0.612316</td>\n",
              "      <td>0.052958</td>\n",
              "      <td>0.617093</td>\n",
              "      <td>0.569856</td>\n",
              "    </tr>\n",
              "    <tr>\n",
              "      <th>69012</th>\n",
              "      <td>0.000125</td>\n",
              "      <td>0.592593</td>\n",
              "      <td>0.027047</td>\n",
              "      <td>0.0</td>\n",
              "      <td>6.118291e-07</td>\n",
              "      <td>0.002</td>\n",
              "      <td>1.0</td>\n",
              "      <td>0.576504</td>\n",
              "      <td>9.172182e-08</td>\n",
              "      <td>0.604234</td>\n",
              "      <td>...</td>\n",
              "      <td>0.106832</td>\n",
              "      <td>0.599148</td>\n",
              "      <td>0.007000</td>\n",
              "      <td>0.500000</td>\n",
              "      <td>0.552181</td>\n",
              "      <td>0.106131</td>\n",
              "      <td>0.598550</td>\n",
              "      <td>0.007000</td>\n",
              "      <td>1.000000</td>\n",
              "      <td>0.552181</td>\n",
              "    </tr>\n",
              "    <tr>\n",
              "      <th>565061</th>\n",
              "      <td>0.070152</td>\n",
              "      <td>0.277778</td>\n",
              "      <td>0.043874</td>\n",
              "      <td>0.0</td>\n",
              "      <td>2.383162e-05</td>\n",
              "      <td>0.014</td>\n",
              "      <td>0.5</td>\n",
              "      <td>0.567482</td>\n",
              "      <td>4.960866e-03</td>\n",
              "      <td>0.598251</td>\n",
              "      <td>...</td>\n",
              "      <td>0.005815</td>\n",
              "      <td>0.596635</td>\n",
              "      <td>0.002000</td>\n",
              "      <td>0.500000</td>\n",
              "      <td>0.545345</td>\n",
              "      <td>0.005778</td>\n",
              "      <td>0.591256</td>\n",
              "      <td>0.002000</td>\n",
              "      <td>1.000000</td>\n",
              "      <td>0.545345</td>\n",
              "    </tr>\n",
              "    <tr>\n",
              "      <th>329245</th>\n",
              "      <td>0.007379</td>\n",
              "      <td>0.453704</td>\n",
              "      <td>0.065602</td>\n",
              "      <td>0.0</td>\n",
              "      <td>6.425962e-07</td>\n",
              "      <td>0.005</td>\n",
              "      <td>0.5</td>\n",
              "      <td>0.622764</td>\n",
              "      <td>5.888541e-05</td>\n",
              "      <td>0.634023</td>\n",
              "      <td>...</td>\n",
              "      <td>0.000338</td>\n",
              "      <td>0.645313</td>\n",
              "      <td>0.004000</td>\n",
              "      <td>1.000000</td>\n",
              "      <td>0.599494</td>\n",
              "      <td>0.000336</td>\n",
              "      <td>0.651296</td>\n",
              "      <td>0.004000</td>\n",
              "      <td>0.500000</td>\n",
              "      <td>0.599494</td>\n",
              "    </tr>\n",
              "    <tr>\n",
              "      <th>134977</th>\n",
              "      <td>0.075285</td>\n",
              "      <td>0.370370</td>\n",
              "      <td>0.021353</td>\n",
              "      <td>0.0</td>\n",
              "      <td>8.159159e-04</td>\n",
              "      <td>0.001</td>\n",
              "      <td>1.0</td>\n",
              "      <td>0.573552</td>\n",
              "      <td>5.710050e-03</td>\n",
              "      <td>0.599010</td>\n",
              "      <td>...</td>\n",
              "      <td>0.007134</td>\n",
              "      <td>0.590772</td>\n",
              "      <td>0.001000</td>\n",
              "      <td>1.000000</td>\n",
              "      <td>0.551640</td>\n",
              "      <td>0.036122</td>\n",
              "      <td>0.589226</td>\n",
              "      <td>0.006000</td>\n",
              "      <td>0.000000</td>\n",
              "      <td>0.553150</td>\n",
              "    </tr>\n",
              "  </tbody>\n",
              "</table>\n",
              "<p>5 rows × 58 columns</p>\n",
              "</div>\n",
              "      <button class=\"colab-df-convert\" onclick=\"convertToInteractive('df-79e55f5a-3c8b-4645-a210-3ce270ad218d')\"\n",
              "              title=\"Convert this dataframe to an interactive table.\"\n",
              "              style=\"display:none;\">\n",
              "        \n",
              "  <svg xmlns=\"http://www.w3.org/2000/svg\" height=\"24px\"viewBox=\"0 0 24 24\"\n",
              "       width=\"24px\">\n",
              "    <path d=\"M0 0h24v24H0V0z\" fill=\"none\"/>\n",
              "    <path d=\"M18.56 5.44l.94 2.06.94-2.06 2.06-.94-2.06-.94-.94-2.06-.94 2.06-2.06.94zm-11 1L8.5 8.5l.94-2.06 2.06-.94-2.06-.94L8.5 2.5l-.94 2.06-2.06.94zm10 10l.94 2.06.94-2.06 2.06-.94-2.06-.94-.94-2.06-.94 2.06-2.06.94z\"/><path d=\"M17.41 7.96l-1.37-1.37c-.4-.4-.92-.59-1.43-.59-.52 0-1.04.2-1.43.59L10.3 9.45l-7.72 7.72c-.78.78-.78 2.05 0 2.83L4 21.41c.39.39.9.59 1.41.59.51 0 1.02-.2 1.41-.59l7.78-7.78 2.81-2.81c.8-.78.8-2.07 0-2.86zM5.41 20L4 18.59l7.72-7.72 1.47 1.35L5.41 20z\"/>\n",
              "  </svg>\n",
              "      </button>\n",
              "      \n",
              "  <style>\n",
              "    .colab-df-container {\n",
              "      display:flex;\n",
              "      flex-wrap:wrap;\n",
              "      gap: 12px;\n",
              "    }\n",
              "\n",
              "    .colab-df-convert {\n",
              "      background-color: #E8F0FE;\n",
              "      border: none;\n",
              "      border-radius: 50%;\n",
              "      cursor: pointer;\n",
              "      display: none;\n",
              "      fill: #1967D2;\n",
              "      height: 32px;\n",
              "      padding: 0 0 0 0;\n",
              "      width: 32px;\n",
              "    }\n",
              "\n",
              "    .colab-df-convert:hover {\n",
              "      background-color: #E2EBFA;\n",
              "      box-shadow: 0px 1px 2px rgba(60, 64, 67, 0.3), 0px 1px 3px 1px rgba(60, 64, 67, 0.15);\n",
              "      fill: #174EA6;\n",
              "    }\n",
              "\n",
              "    [theme=dark] .colab-df-convert {\n",
              "      background-color: #3B4455;\n",
              "      fill: #D2E3FC;\n",
              "    }\n",
              "\n",
              "    [theme=dark] .colab-df-convert:hover {\n",
              "      background-color: #434B5C;\n",
              "      box-shadow: 0px 1px 3px 1px rgba(0, 0, 0, 0.15);\n",
              "      filter: drop-shadow(0px 1px 2px rgba(0, 0, 0, 0.3));\n",
              "      fill: #FFFFFF;\n",
              "    }\n",
              "  </style>\n",
              "\n",
              "      <script>\n",
              "        const buttonEl =\n",
              "          document.querySelector('#df-79e55f5a-3c8b-4645-a210-3ce270ad218d button.colab-df-convert');\n",
              "        buttonEl.style.display =\n",
              "          google.colab.kernel.accessAllowed ? 'block' : 'none';\n",
              "\n",
              "        async function convertToInteractive(key) {\n",
              "          const element = document.querySelector('#df-79e55f5a-3c8b-4645-a210-3ce270ad218d');\n",
              "          const dataTable =\n",
              "            await google.colab.kernel.invokeFunction('convertToInteractive',\n",
              "                                                     [key], {});\n",
              "          if (!dataTable) return;\n",
              "\n",
              "          const docLinkHtml = 'Like what you see? Visit the ' +\n",
              "            '<a target=\"_blank\" href=https://colab.research.google.com/notebooks/data_table.ipynb>data table notebook</a>'\n",
              "            + ' to learn more about interactive tables.';\n",
              "          element.innerHTML = '';\n",
              "          dataTable['output_type'] = 'display_data';\n",
              "          await google.colab.output.renderOutput(dataTable, element);\n",
              "          const docLink = document.createElement('div');\n",
              "          docLink.innerHTML = docLinkHtml;\n",
              "          element.appendChild(docLink);\n",
              "        }\n",
              "      </script>\n",
              "    </div>\n",
              "  </div>\n",
              "  "
            ],
            "text/plain": [
              "          weight  current_coupon  time_to_maturity  is_callable  \\\n",
              "369154  0.000000        0.485185          0.308888          0.0   \n",
              "69012   0.000125        0.592593          0.027047          0.0   \n",
              "565061  0.070152        0.277778          0.043874          0.0   \n",
              "329245  0.007379        0.453704          0.065602          0.0   \n",
              "134977  0.075285        0.370370          0.021353          0.0   \n",
              "\n",
              "        reporting_delay  trade_size  trade_type  curve_based_price  \\\n",
              "369154     9.296630e-07       0.002         1.0           0.611327   \n",
              "69012      6.118291e-07       0.002         1.0           0.576504   \n",
              "565061     2.383162e-05       0.014         0.5           0.567482   \n",
              "329245     6.425962e-07       0.005         0.5           0.622764   \n",
              "134977     8.159159e-04       0.001         1.0           0.573552   \n",
              "\n",
              "        received_time_diff_last1  trade_price_last1  ...  \\\n",
              "369154              0.000000e+00           0.634448  ...   \n",
              "69012               9.172182e-08           0.604234  ...   \n",
              "565061              4.960866e-03           0.598251  ...   \n",
              "329245              5.888541e-05           0.634023  ...   \n",
              "134977              5.710050e-03           0.599010  ...   \n",
              "\n",
              "        received_time_diff_last9  trade_price_last9  trade_size_last9  \\\n",
              "369154                  0.022869           0.612368          0.053007   \n",
              "69012                   0.106832           0.599148          0.007000   \n",
              "565061                  0.005815           0.596635          0.002000   \n",
              "329245                  0.000338           0.645313          0.004000   \n",
              "134977                  0.007134           0.590772          0.001000   \n",
              "\n",
              "        trade_type_last9  curve_based_price_last9  received_time_diff_last10  \\\n",
              "369154          0.616978                 0.569906                   0.024850   \n",
              "69012           0.500000                 0.552181                   0.106131   \n",
              "565061          0.500000                 0.545345                   0.005778   \n",
              "329245          1.000000                 0.599494                   0.000336   \n",
              "134977          1.000000                 0.551640                   0.036122   \n",
              "\n",
              "        trade_price_last10  trade_size_last10  trade_type_last10  \\\n",
              "369154            0.612316           0.052958           0.617093   \n",
              "69012             0.598550           0.007000           1.000000   \n",
              "565061            0.591256           0.002000           1.000000   \n",
              "329245            0.651296           0.004000           0.500000   \n",
              "134977            0.589226           0.006000           0.000000   \n",
              "\n",
              "        curve_based_price_last10  \n",
              "369154                  0.569856  \n",
              "69012                   0.552181  \n",
              "565061                  0.545345  \n",
              "329245                  0.599494  \n",
              "134977                  0.553150  \n",
              "\n",
              "[5 rows x 58 columns]"
            ]
          },
          "execution_count": 40,
          "metadata": {},
          "output_type": "execute_result"
        }
      ],
      "source": [
        "val_inputs.head()"
      ]
    },
    {
      "cell_type": "code",
      "execution_count": null,
      "metadata": {
        "colab": {
          "base_uri": "https://localhost:8080/"
        },
        "id": "gz3TEZQialer",
        "outputId": "7fa00455-88e7-4f52-ef16-aa957604232a"
      },
      "outputs": [
        {
          "data": {
            "text/plain": [
              "29080     101.7751\n",
              "174379    106.7500\n",
              "387800    109.0100\n",
              "493542    109.9680\n",
              "722975     99.8390\n",
              "            ...   \n",
              "259178    115.8890\n",
              "365838    103.1000\n",
              "131932    108.3400\n",
              "671155     84.5000\n",
              "121958    100.0320\n",
              "Name: trade_price, Length: 572008, dtype: float64"
            ]
          },
          "execution_count": 41,
          "metadata": {},
          "output_type": "execute_result"
        }
      ],
      "source": [
        "train_targets"
      ]
    },
    {
      "cell_type": "code",
      "execution_count": null,
      "metadata": {
        "colab": {
          "base_uri": "https://localhost:8080/"
        },
        "id": "64FC7Nbwalb5",
        "outputId": "46a12418-f28f-4924-ecf4-2f84549abd64"
      },
      "outputs": [
        {
          "data": {
            "text/plain": [
              "369154    109.446000\n",
              "69012     101.500000\n",
              "565061    100.364300\n",
              "329245    108.433000\n",
              "134977     99.750000\n",
              "             ...    \n",
              "22081     105.716000\n",
              "472734    107.844000\n",
              "91729     101.000000\n",
              "159916    123.384077\n",
              "244262     88.250000\n",
              "Name: trade_price, Length: 190670, dtype: float64"
            ]
          },
          "execution_count": 42,
          "metadata": {},
          "output_type": "execute_result"
        }
      ],
      "source": [
        "val_targets"
      ]
    },
    {
      "cell_type": "code",
      "execution_count": null,
      "metadata": {
        "colab": {
          "base_uri": "https://localhost:8080/",
          "height": 91
        },
        "id": "t-Rwm8a3SrEO",
        "outputId": "52e05eb3-70dd-4848-cd2e-b0c20a271e6d"
      },
      "outputs": [
        {
          "name": "stdout",
          "output_type": "stream",
          "text": [
            "[jovian] Detected Colab notebook...\u001b[0m\n",
            "[jovian] Uploading colab notebook to Jovian...\u001b[0m\n",
            "Committed successfully! https://jovian.ai/dhanasekar1620/bond-prediction\n"
          ]
        },
        {
          "data": {
            "application/vnd.google.colaboratory.intrinsic+json": {
              "type": "string"
            },
            "text/plain": [
              "'https://jovian.ai/dhanasekar1620/bond-prediction'"
            ]
          },
          "execution_count": 43,
          "metadata": {},
          "output_type": "execute_result"
        }
      ],
      "source": [
        "jovian.commit()"
      ]
    },
    {
      "cell_type": "markdown",
      "metadata": {
        "id": "ORUNcAajawHs"
      },
      "source": [
        "## Linear Regression"
      ]
    },
    {
      "cell_type": "code",
      "execution_count": null,
      "metadata": {
        "id": "h60Iq8AMZzCS"
      },
      "outputs": [],
      "source": [
        "from sklearn.linear_model import LinearRegression"
      ]
    },
    {
      "cell_type": "code",
      "execution_count": null,
      "metadata": {
        "colab": {
          "base_uri": "https://localhost:8080/"
        },
        "id": "VriRJoV-bJaV",
        "outputId": "6fe8ced3-7b13-4682-bd5c-489d13da97ac"
      },
      "outputs": [
        {
          "data": {
            "text/plain": [
              "LinearRegression()"
            ]
          },
          "execution_count": 45,
          "metadata": {},
          "output_type": "execute_result"
        }
      ],
      "source": [
        "model = LinearRegression()\n",
        "# Fit the model using inputs and targets\n",
        "model.fit(train_inputs,train_targets)"
      ]
    },
    {
      "cell_type": "markdown",
      "metadata": {
        "id": "c8OmAHyrbXkQ"
      },
      "source": [
        "### Testing the Model"
      ]
    },
    {
      "cell_type": "code",
      "execution_count": null,
      "metadata": {
        "id": "SwVfCCmebOdH"
      },
      "outputs": [],
      "source": [
        "from sklearn.metrics import mean_squared_error"
      ]
    },
    {
      "cell_type": "code",
      "execution_count": null,
      "metadata": {
        "id": "SHnqNV2ubeCv"
      },
      "outputs": [],
      "source": [
        "train_preds = model.predict(train_inputs)"
      ]
    },
    {
      "cell_type": "code",
      "execution_count": null,
      "metadata": {
        "colab": {
          "base_uri": "https://localhost:8080/"
        },
        "id": "BSO4odoBbfe5",
        "outputId": "fc1f9461-512c-491e-efc6-50908fd3a8b9"
      },
      "outputs": [
        {
          "name": "stdout",
          "output_type": "stream",
          "text": [
            "The RMSE loss for the training set is $ 1.0260159272299918.\n"
          ]
        }
      ],
      "source": [
        "train_rmse = mean_squared_error(train_targets,train_preds,squared=False)\n",
        "print('The RMSE loss for the training set is $ {}.'.format(train_rmse))"
      ]
    },
    {
      "cell_type": "code",
      "execution_count": null,
      "metadata": {
        "colab": {
          "base_uri": "https://localhost:8080/"
        },
        "id": "mF2BLsT8bhp3",
        "outputId": "675288de-9519-4266-cc08-8c2677726433"
      },
      "outputs": [
        {
          "name": "stdout",
          "output_type": "stream",
          "text": [
            "The RMSE loss for the validation set is $ 1.0040122996643555.\n"
          ]
        }
      ],
      "source": [
        "val_preds = model.predict(val_inputs)\n",
        "val_rmse = mean_squared_error(val_targets,val_preds,squared=False)\n",
        "print('The RMSE loss for the validation set is $ {}.'.format(val_rmse))"
      ]
    },
    {
      "cell_type": "markdown",
      "metadata": {
        "id": "vstLO8H1bxDY"
      },
      "source": [
        "####Feature Importance"
      ]
    },
    {
      "cell_type": "code",
      "execution_count": null,
      "metadata": {
        "colab": {
          "base_uri": "https://localhost:8080/"
        },
        "id": "1T53cRZobsIv",
        "outputId": "333fc960-fb30-4da9-ed43-15b9b031a29c"
      },
      "outputs": [
        {
          "data": {
            "text/plain": [
              "array([ 6.73207954e-02,  3.43424701e-02,  1.74103179e-01,  3.72956228e-03,\n",
              "       -1.43737904e+00, -2.80561719e-01,  1.89698049e-01,  7.48165093e+01,\n",
              "       -2.40574251e+00,  6.80518850e+01,  1.31327056e-01,  8.01696091e-02,\n",
              "        1.41546796e+01, -1.81827570e-01,  1.67630052e+01, -1.27628612e-02,\n",
              "       -4.31115285e-02, -1.21243992e+01, -4.76390500e-01,  1.12062127e+01,\n",
              "        1.15107546e-02, -3.88952342e-02, -9.64158669e+00,  1.16785111e-01,\n",
              "        9.02786905e+00,  7.52373249e-03, -1.88955024e-02, -8.02793456e+00,\n",
              "       -1.05527124e-01,  6.48212747e+00,  4.61198682e-03, -1.76620303e-02,\n",
              "       -5.66610799e+00,  9.99424069e-02,  6.06515055e+00,  5.20770988e-03,\n",
              "       -1.38637901e-02, -6.49688669e+00,  1.51320174e-01,  5.31118753e+00,\n",
              "        1.21808487e-02, -1.04454996e-03, -3.45245892e+00,  9.43808340e-02,\n",
              "        3.93322304e+00,  1.09705280e-03, -4.51541892e-03, -4.45879107e+00,\n",
              "        3.80343303e-02,  6.14721796e+00,  1.42260716e-02, -1.37859239e-02,\n",
              "       -6.37295223e+00,  2.28200393e-02,  5.31350858e+00,  1.28330474e-02,\n",
              "       -6.88118459e-03, -4.98033023e+00])"
            ]
          },
          "execution_count": 50,
          "metadata": {},
          "output_type": "execute_result"
        }
      ],
      "source": [
        "# w\n",
        "model.coef_"
      ]
    },
    {
      "cell_type": "code",
      "execution_count": null,
      "metadata": {
        "id": "tAl3sJ32b1ym"
      },
      "outputs": [],
      "source": [
        "weights_df = pd.DataFrame({\n",
        "    'columns': train_inputs.columns,\n",
        "    'weight': model.coef_\n",
        "}).sort_values('weight', ascending=False)"
      ]
    },
    {
      "cell_type": "code",
      "execution_count": null,
      "metadata": {
        "colab": {
          "base_uri": "https://localhost:8080/",
          "height": 206
        },
        "id": "MU4PJvbIgXzg",
        "outputId": "0a6366cd-54cd-4d21-c5ce-decd69bf98dc"
      },
      "outputs": [
        {
          "data": {
            "text/html": [
              "\n",
              "  <div id=\"df-d6abb8eb-2115-4f53-be96-08445398471f\">\n",
              "    <div class=\"colab-df-container\">\n",
              "      <div>\n",
              "<style scoped>\n",
              "    .dataframe tbody tr th:only-of-type {\n",
              "        vertical-align: middle;\n",
              "    }\n",
              "\n",
              "    .dataframe tbody tr th {\n",
              "        vertical-align: top;\n",
              "    }\n",
              "\n",
              "    .dataframe thead th {\n",
              "        text-align: right;\n",
              "    }\n",
              "</style>\n",
              "<table border=\"1\" class=\"dataframe\">\n",
              "  <thead>\n",
              "    <tr style=\"text-align: right;\">\n",
              "      <th></th>\n",
              "      <th>columns</th>\n",
              "      <th>weight</th>\n",
              "    </tr>\n",
              "  </thead>\n",
              "  <tbody>\n",
              "    <tr>\n",
              "      <th>7</th>\n",
              "      <td>curve_based_price</td>\n",
              "      <td>74.816509</td>\n",
              "    </tr>\n",
              "    <tr>\n",
              "      <th>9</th>\n",
              "      <td>trade_price_last1</td>\n",
              "      <td>68.051885</td>\n",
              "    </tr>\n",
              "    <tr>\n",
              "      <th>14</th>\n",
              "      <td>trade_price_last2</td>\n",
              "      <td>16.763005</td>\n",
              "    </tr>\n",
              "    <tr>\n",
              "      <th>12</th>\n",
              "      <td>curve_based_price_last1</td>\n",
              "      <td>14.154680</td>\n",
              "    </tr>\n",
              "    <tr>\n",
              "      <th>19</th>\n",
              "      <td>trade_price_last3</td>\n",
              "      <td>11.206213</td>\n",
              "    </tr>\n",
              "  </tbody>\n",
              "</table>\n",
              "</div>\n",
              "      <button class=\"colab-df-convert\" onclick=\"convertToInteractive('df-d6abb8eb-2115-4f53-be96-08445398471f')\"\n",
              "              title=\"Convert this dataframe to an interactive table.\"\n",
              "              style=\"display:none;\">\n",
              "        \n",
              "  <svg xmlns=\"http://www.w3.org/2000/svg\" height=\"24px\"viewBox=\"0 0 24 24\"\n",
              "       width=\"24px\">\n",
              "    <path d=\"M0 0h24v24H0V0z\" fill=\"none\"/>\n",
              "    <path d=\"M18.56 5.44l.94 2.06.94-2.06 2.06-.94-2.06-.94-.94-2.06-.94 2.06-2.06.94zm-11 1L8.5 8.5l.94-2.06 2.06-.94-2.06-.94L8.5 2.5l-.94 2.06-2.06.94zm10 10l.94 2.06.94-2.06 2.06-.94-2.06-.94-.94-2.06-.94 2.06-2.06.94z\"/><path d=\"M17.41 7.96l-1.37-1.37c-.4-.4-.92-.59-1.43-.59-.52 0-1.04.2-1.43.59L10.3 9.45l-7.72 7.72c-.78.78-.78 2.05 0 2.83L4 21.41c.39.39.9.59 1.41.59.51 0 1.02-.2 1.41-.59l7.78-7.78 2.81-2.81c.8-.78.8-2.07 0-2.86zM5.41 20L4 18.59l7.72-7.72 1.47 1.35L5.41 20z\"/>\n",
              "  </svg>\n",
              "      </button>\n",
              "      \n",
              "  <style>\n",
              "    .colab-df-container {\n",
              "      display:flex;\n",
              "      flex-wrap:wrap;\n",
              "      gap: 12px;\n",
              "    }\n",
              "\n",
              "    .colab-df-convert {\n",
              "      background-color: #E8F0FE;\n",
              "      border: none;\n",
              "      border-radius: 50%;\n",
              "      cursor: pointer;\n",
              "      display: none;\n",
              "      fill: #1967D2;\n",
              "      height: 32px;\n",
              "      padding: 0 0 0 0;\n",
              "      width: 32px;\n",
              "    }\n",
              "\n",
              "    .colab-df-convert:hover {\n",
              "      background-color: #E2EBFA;\n",
              "      box-shadow: 0px 1px 2px rgba(60, 64, 67, 0.3), 0px 1px 3px 1px rgba(60, 64, 67, 0.15);\n",
              "      fill: #174EA6;\n",
              "    }\n",
              "\n",
              "    [theme=dark] .colab-df-convert {\n",
              "      background-color: #3B4455;\n",
              "      fill: #D2E3FC;\n",
              "    }\n",
              "\n",
              "    [theme=dark] .colab-df-convert:hover {\n",
              "      background-color: #434B5C;\n",
              "      box-shadow: 0px 1px 3px 1px rgba(0, 0, 0, 0.15);\n",
              "      filter: drop-shadow(0px 1px 2px rgba(0, 0, 0, 0.3));\n",
              "      fill: #FFFFFF;\n",
              "    }\n",
              "  </style>\n",
              "\n",
              "      <script>\n",
              "        const buttonEl =\n",
              "          document.querySelector('#df-d6abb8eb-2115-4f53-be96-08445398471f button.colab-df-convert');\n",
              "        buttonEl.style.display =\n",
              "          google.colab.kernel.accessAllowed ? 'block' : 'none';\n",
              "\n",
              "        async function convertToInteractive(key) {\n",
              "          const element = document.querySelector('#df-d6abb8eb-2115-4f53-be96-08445398471f');\n",
              "          const dataTable =\n",
              "            await google.colab.kernel.invokeFunction('convertToInteractive',\n",
              "                                                     [key], {});\n",
              "          if (!dataTable) return;\n",
              "\n",
              "          const docLinkHtml = 'Like what you see? Visit the ' +\n",
              "            '<a target=\"_blank\" href=https://colab.research.google.com/notebooks/data_table.ipynb>data table notebook</a>'\n",
              "            + ' to learn more about interactive tables.';\n",
              "          element.innerHTML = '';\n",
              "          dataTable['output_type'] = 'display_data';\n",
              "          await google.colab.output.renderOutput(dataTable, element);\n",
              "          const docLink = document.createElement('div');\n",
              "          docLink.innerHTML = docLinkHtml;\n",
              "          element.appendChild(docLink);\n",
              "        }\n",
              "      </script>\n",
              "    </div>\n",
              "  </div>\n",
              "  "
            ],
            "text/plain": [
              "                    columns     weight\n",
              "7         curve_based_price  74.816509\n",
              "9         trade_price_last1  68.051885\n",
              "14        trade_price_last2  16.763005\n",
              "12  curve_based_price_last1  14.154680\n",
              "19        trade_price_last3  11.206213"
            ]
          },
          "execution_count": 52,
          "metadata": {},
          "output_type": "execute_result"
        }
      ],
      "source": [
        "weights_df.head()"
      ]
    },
    {
      "cell_type": "code",
      "execution_count": null,
      "metadata": {
        "colab": {
          "base_uri": "https://localhost:8080/"
        },
        "id": "CNSycm46EBik",
        "outputId": "c7f5a374-7d8f-4f62-f2c0-9fae70ee1fa5"
      },
      "outputs": [
        {
          "data": {
            "text/plain": [
              "1.3743361265446339"
            ]
          },
          "execution_count": 53,
          "metadata": {},
          "output_type": "execute_result"
        }
      ],
      "source": [
        "# b\n",
        "model.intercept_"
      ]
    },
    {
      "cell_type": "code",
      "execution_count": null,
      "metadata": {
        "colab": {
          "base_uri": "https://localhost:8080/",
          "height": 515
        },
        "id": "7BlPzd2SHomG",
        "outputId": "617f2df5-3944-46aa-e0d6-6108decfa111"
      },
      "outputs": [
        {
          "data": {
            "text/plain": [
              "<matplotlib.axes._subplots.AxesSubplot at 0x7f953649a610>"
            ]
          },
          "execution_count": 54,
          "metadata": {},
          "output_type": "execute_result"
        },
        {
          "data": {
            "image/png": "[encoded data removed]",
            "text/plain": [
              "<Figure size 864x576 with 1 Axes>"
            ]
          },
          "metadata": {
            "needs_background": "light"
          },
          "output_type": "display_data"
        }
      ],
      "source": [
        "plt.figure(figsize=(12,8))\n",
        "sns.set_style(\"darkgrid\")\n",
        "sns.barplot(data=weights_df.head(10),y='columns',x='weight')"
      ]
    },
    {
      "cell_type": "code",
      "execution_count": null,
      "metadata": {
        "colab": {
          "base_uri": "https://localhost:8080/",
          "height": 91
        },
        "id": "wc_o4fkrFYkF",
        "outputId": "7ae9822a-5cb5-4880-ddcd-085ba7205b08"
      },
      "outputs": [
        {
          "name": "stdout",
          "output_type": "stream",
          "text": [
            "[jovian] Detected Colab notebook...\u001b[0m\n",
            "[jovian] Uploading colab notebook to Jovian...\u001b[0m\n",
            "Committed successfully! https://jovian.ai/dhanasekar1620/bond-prediction\n"
          ]
        },
        {
          "data": {
            "application/vnd.google.colaboratory.intrinsic+json": {
              "type": "string"
            },
            "text/plain": [
              "'https://jovian.ai/dhanasekar1620/bond-prediction'"
            ]
          },
          "execution_count": 55,
          "metadata": {},
          "output_type": "execute_result"
        }
      ],
      "source": [
        "jovian.commit()"
      ]
    },
    {
      "cell_type": "markdown",
      "metadata": {
        "id": "k-FUSeImAVQM"
      },
      "source": [
        "##SGDRegressor"
      ]
    },
    {
      "cell_type": "code",
      "execution_count": null,
      "metadata": {
        "id": "MHqo0WJdAVAf"
      },
      "outputs": [],
      "source": [
        "from sklearn.linear_model import SGDRegressor"
      ]
    },
    {
      "cell_type": "code",
      "execution_count": null,
      "metadata": {
        "colab": {
          "base_uri": "https://localhost:8080/"
        },
        "id": "NyTsVAAoAU-O",
        "outputId": "5b962fc6-f99c-4371-d6b6-d278baade279"
      },
      "outputs": [
        {
          "data": {
            "text/plain": [
              "SGDRegressor()"
            ]
          },
          "execution_count": 57,
          "metadata": {},
          "output_type": "execute_result"
        }
      ],
      "source": [
        "model1 = SGDRegressor()\n",
        "# Fit the model using inputs and targets\n",
        "model1.fit(train_inputs,train_targets)"
      ]
    },
    {
      "cell_type": "code",
      "execution_count": null,
      "metadata": {
        "id": "ZuCL38nEAU8F"
      },
      "outputs": [],
      "source": [
        "train_preds1 = model1.predict(train_inputs)"
      ]
    },
    {
      "cell_type": "code",
      "execution_count": null,
      "metadata": {
        "colab": {
          "base_uri": "https://localhost:8080/"
        },
        "id": "iUu2RFDdAU5c",
        "outputId": "c27c4212-04d9-405e-b378-fbc8ec385406"
      },
      "outputs": [
        {
          "name": "stdout",
          "output_type": "stream",
          "text": [
            "The RMSE loss for the training set is $ 1.1433167897248206.\n"
          ]
        }
      ],
      "source": [
        "train_rmse1 = mean_squared_error(train_targets,train_preds1,squared=False)\n",
        "print('The RMSE loss for the training set is $ {}.'.format(train_rmse1))"
      ]
    },
    {
      "cell_type": "code",
      "execution_count": null,
      "metadata": {
        "colab": {
          "base_uri": "https://localhost:8080/"
        },
        "id": "UhgTcA5rAU2l",
        "outputId": "f23d9e6d-18b0-4b41-ff2c-c118f2fd7980"
      },
      "outputs": [
        {
          "name": "stdout",
          "output_type": "stream",
          "text": [
            "The RMSE loss for the validation set is $ 1.126417761614484.\n"
          ]
        }
      ],
      "source": [
        "val_preds1 = model1.predict(val_inputs)\n",
        "val_rmse1 = mean_squared_error(val_targets,val_preds1,squared=False)\n",
        "print('The RMSE loss for the validation set is $ {}.'.format(val_rmse1))"
      ]
    },
    {
      "cell_type": "code",
      "execution_count": null,
      "metadata": {
        "id": "44hj2gnzCSVs"
      },
      "outputs": [],
      "source": [
        "model1.coef_\n",
        "weights_df1 = pd.DataFrame({\n",
        "    'columns': train_inputs.columns,\n",
        "    'weight': model1.coef_\n",
        "}).sort_values('weight', ascending=False)"
      ]
    },
    {
      "cell_type": "code",
      "execution_count": null,
      "metadata": {
        "colab": {
          "base_uri": "https://localhost:8080/",
          "height": 206
        },
        "id": "PgPrFbUjCSSc",
        "outputId": "2d086f39-8d44-4bb1-9fe8-d94c14073775"
      },
      "outputs": [
        {
          "data": {
            "text/html": [
              "\n",
              "  <div id=\"df-714b83ad-80ff-4f34-82fe-fefe1d2a3c8c\">\n",
              "    <div class=\"colab-df-container\">\n",
              "      <div>\n",
              "<style scoped>\n",
              "    .dataframe tbody tr th:only-of-type {\n",
              "        vertical-align: middle;\n",
              "    }\n",
              "\n",
              "    .dataframe tbody tr th {\n",
              "        vertical-align: top;\n",
              "    }\n",
              "\n",
              "    .dataframe thead th {\n",
              "        text-align: right;\n",
              "    }\n",
              "</style>\n",
              "<table border=\"1\" class=\"dataframe\">\n",
              "  <thead>\n",
              "    <tr style=\"text-align: right;\">\n",
              "      <th></th>\n",
              "      <th>columns</th>\n",
              "      <th>weight</th>\n",
              "    </tr>\n",
              "  </thead>\n",
              "  <tbody>\n",
              "    <tr>\n",
              "      <th>9</th>\n",
              "      <td>trade_price_last1</td>\n",
              "      <td>33.053786</td>\n",
              "    </tr>\n",
              "    <tr>\n",
              "      <th>7</th>\n",
              "      <td>curve_based_price</td>\n",
              "      <td>22.279009</td>\n",
              "    </tr>\n",
              "    <tr>\n",
              "      <th>12</th>\n",
              "      <td>curve_based_price_last1</td>\n",
              "      <td>21.286257</td>\n",
              "    </tr>\n",
              "    <tr>\n",
              "      <th>14</th>\n",
              "      <td>trade_price_last2</td>\n",
              "      <td>20.699276</td>\n",
              "    </tr>\n",
              "    <tr>\n",
              "      <th>19</th>\n",
              "      <td>trade_price_last3</td>\n",
              "      <td>14.040728</td>\n",
              "    </tr>\n",
              "  </tbody>\n",
              "</table>\n",
              "</div>\n",
              "      <button class=\"colab-df-convert\" onclick=\"convertToInteractive('df-714b83ad-80ff-4f34-82fe-fefe1d2a3c8c')\"\n",
              "              title=\"Convert this dataframe to an interactive table.\"\n",
              "              style=\"display:none;\">\n",
              "        \n",
              "  <svg xmlns=\"http://www.w3.org/2000/svg\" height=\"24px\"viewBox=\"0 0 24 24\"\n",
              "       width=\"24px\">\n",
              "    <path d=\"M0 0h24v24H0V0z\" fill=\"none\"/>\n",
              "    <path d=\"M18.56 5.44l.94 2.06.94-2.06 2.06-.94-2.06-.94-.94-2.06-.94 2.06-2.06.94zm-11 1L8.5 8.5l.94-2.06 2.06-.94-2.06-.94L8.5 2.5l-.94 2.06-2.06.94zm10 10l.94 2.06.94-2.06 2.06-.94-2.06-.94-.94-2.06-.94 2.06-2.06.94z\"/><path d=\"M17.41 7.96l-1.37-1.37c-.4-.4-.92-.59-1.43-.59-.52 0-1.04.2-1.43.59L10.3 9.45l-7.72 7.72c-.78.78-.78 2.05 0 2.83L4 21.41c.39.39.9.59 1.41.59.51 0 1.02-.2 1.41-.59l7.78-7.78 2.81-2.81c.8-.78.8-2.07 0-2.86zM5.41 20L4 18.59l7.72-7.72 1.47 1.35L5.41 20z\"/>\n",
              "  </svg>\n",
              "      </button>\n",
              "      \n",
              "  <style>\n",
              "    .colab-df-container {\n",
              "      display:flex;\n",
              "      flex-wrap:wrap;\n",
              "      gap: 12px;\n",
              "    }\n",
              "\n",
              "    .colab-df-convert {\n",
              "      background-color: #E8F0FE;\n",
              "      border: none;\n",
              "      border-radius: 50%;\n",
              "      cursor: pointer;\n",
              "      display: none;\n",
              "      fill: #1967D2;\n",
              "      height: 32px;\n",
              "      padding: 0 0 0 0;\n",
              "      width: 32px;\n",
              "    }\n",
              "\n",
              "    .colab-df-convert:hover {\n",
              "      background-color: #E2EBFA;\n",
              "      box-shadow: 0px 1px 2px rgba(60, 64, 67, 0.3), 0px 1px 3px 1px rgba(60, 64, 67, 0.15);\n",
              "      fill: #174EA6;\n",
              "    }\n",
              "\n",
              "    [theme=dark] .colab-df-convert {\n",
              "      background-color: #3B4455;\n",
              "      fill: #D2E3FC;\n",
              "    }\n",
              "\n",
              "    [theme=dark] .colab-df-convert:hover {\n",
              "      background-color: #434B5C;\n",
              "      box-shadow: 0px 1px 3px 1px rgba(0, 0, 0, 0.15);\n",
              "      filter: drop-shadow(0px 1px 2px rgba(0, 0, 0, 0.3));\n",
              "      fill: #FFFFFF;\n",
              "    }\n",
              "  </style>\n",
              "\n",
              "      <script>\n",
              "        const buttonEl =\n",
              "          document.querySelector('#df-714b83ad-80ff-4f34-82fe-fefe1d2a3c8c button.colab-df-convert');\n",
              "        buttonEl.style.display =\n",
              "          google.colab.kernel.accessAllowed ? 'block' : 'none';\n",
              "\n",
              "        async function convertToInteractive(key) {\n",
              "          const element = document.querySelector('#df-714b83ad-80ff-4f34-82fe-fefe1d2a3c8c');\n",
              "          const dataTable =\n",
              "            await google.colab.kernel.invokeFunction('convertToInteractive',\n",
              "                                                     [key], {});\n",
              "          if (!dataTable) return;\n",
              "\n",
              "          const docLinkHtml = 'Like what you see? Visit the ' +\n",
              "            '<a target=\"_blank\" href=https://colab.research.google.com/notebooks/data_table.ipynb>data table notebook</a>'\n",
              "            + ' to learn more about interactive tables.';\n",
              "          element.innerHTML = '';\n",
              "          dataTable['output_type'] = 'display_data';\n",
              "          await google.colab.output.renderOutput(dataTable, element);\n",
              "          const docLink = document.createElement('div');\n",
              "          docLink.innerHTML = docLinkHtml;\n",
              "          element.appendChild(docLink);\n",
              "        }\n",
              "      </script>\n",
              "    </div>\n",
              "  </div>\n",
              "  "
            ],
            "text/plain": [
              "                    columns     weight\n",
              "9         trade_price_last1  33.053786\n",
              "7         curve_based_price  22.279009\n",
              "12  curve_based_price_last1  21.286257\n",
              "14        trade_price_last2  20.699276\n",
              "19        trade_price_last3  14.040728"
            ]
          },
          "execution_count": 62,
          "metadata": {},
          "output_type": "execute_result"
        }
      ],
      "source": [
        "weights_df1.head()"
      ]
    },
    {
      "cell_type": "code",
      "execution_count": null,
      "metadata": {
        "colab": {
          "base_uri": "https://localhost:8080/",
          "height": 515
        },
        "id": "PylCDLclIck3",
        "outputId": "5fc045c9-b029-47e5-a0b4-723215fff1f8"
      },
      "outputs": [
        {
          "data": {
            "text/plain": [
              "<matplotlib.axes._subplots.AxesSubplot at 0x7f9533c4a590>"
            ]
          },
          "execution_count": 63,
          "metadata": {},
          "output_type": "execute_result"
        },
        {
          "data": {
            "image/png": "[encoded data removed]",
            "text/plain": [
              "<Figure size 864x576 with 1 Axes>"
            ]
          },
          "metadata": {},
          "output_type": "display_data"
        }
      ],
      "source": [
        "plt.figure(figsize=(12,8))\n",
        "sns.set_style(\"darkgrid\")\n",
        "sns.barplot(data=weights_df1.head(10),y='columns',x='weight')"
      ]
    },
    {
      "cell_type": "code",
      "execution_count": null,
      "metadata": {
        "colab": {
          "base_uri": "https://localhost:8080/",
          "height": 91
        },
        "id": "n_bIPzoDFb8N",
        "outputId": "15db2edb-3b0d-4dfc-b75a-5ede573debb9"
      },
      "outputs": [
        {
          "name": "stdout",
          "output_type": "stream",
          "text": [
            "[jovian] Detected Colab notebook...\u001b[0m\n",
            "[jovian] Uploading colab notebook to Jovian...\u001b[0m\n",
            "Committed successfully! https://jovian.ai/dhanasekar1620/bond-prediction\n"
          ]
        },
        {
          "data": {
            "application/vnd.google.colaboratory.intrinsic+json": {
              "type": "string"
            },
            "text/plain": [
              "'https://jovian.ai/dhanasekar1620/bond-prediction'"
            ]
          },
          "execution_count": 64,
          "metadata": {},
          "output_type": "execute_result"
        }
      ],
      "source": [
        "jovian.commit()"
      ]
    },
    {
      "cell_type": "markdown",
      "metadata": {
        "id": "yC8LovhVDF-V"
      },
      "source": [
        "##RidgeRegression"
      ]
    },
    {
      "cell_type": "code",
      "execution_count": null,
      "metadata": {
        "colab": {
          "base_uri": "https://localhost:8080/"
        },
        "id": "KpcF72VTCSPs",
        "outputId": "e5cb8627-2513-4f37-870a-312a7dd3bc90"
      },
      "outputs": [
        {
          "data": {
            "text/plain": [
              "Ridge()"
            ]
          },
          "execution_count": 65,
          "metadata": {},
          "output_type": "execute_result"
        }
      ],
      "source": [
        "from sklearn.linear_model import Ridge\n",
        "model2=Ridge()\n",
        "# Fit the model using inputs and targets\n",
        "model2.fit(train_inputs,train_targets)"
      ]
    },
    {
      "cell_type": "code",
      "execution_count": null,
      "metadata": {
        "colab": {
          "base_uri": "https://localhost:8080/"
        },
        "id": "peQ3EzdNC-FQ",
        "outputId": "2a169dcd-a766-4b4a-a825-9a0cde6ebfac"
      },
      "outputs": [
        {
          "name": "stdout",
          "output_type": "stream",
          "text": [
            "The RMSE loss for the training set is $ 1.026588016663869.\n"
          ]
        }
      ],
      "source": [
        "train_preds2 = model2.predict(train_inputs)\n",
        "train_rmse2 = mean_squared_error(train_targets,train_preds2,squared=False)\n",
        "print('The RMSE loss for the training set is $ {}.'.format(train_rmse2))"
      ]
    },
    {
      "cell_type": "code",
      "execution_count": null,
      "metadata": {
        "colab": {
          "base_uri": "https://localhost:8080/"
        },
        "id": "m1Y8HrXYC-ES",
        "outputId": "40c0c0fb-2ece-48d5-ef65-cdc5c9901b3f"
      },
      "outputs": [
        {
          "name": "stdout",
          "output_type": "stream",
          "text": [
            "The RMSE loss for the validation set is $ 1.005131731998341.\n"
          ]
        }
      ],
      "source": [
        "val_preds2 = model2.predict(val_inputs)\n",
        "val_rmse2 = mean_squared_error(val_targets,val_preds2,squared=False)\n",
        "print('The RMSE loss for the validation set is $ {}.'.format(val_rmse2))"
      ]
    },
    {
      "cell_type": "code",
      "execution_count": null,
      "metadata": {
        "id": "4MR33GKxC-Ba"
      },
      "outputs": [],
      "source": [
        "model2.coef_\n",
        "weights_df2 = pd.DataFrame({\n",
        "    'columns': train_inputs.columns,\n",
        "    'weight': model2.coef_\n",
        "}).sort_values('weight', ascending=False)"
      ]
    },
    {
      "cell_type": "code",
      "execution_count": null,
      "metadata": {
        "colab": {
          "base_uri": "https://localhost:8080/",
          "height": 206
        },
        "id": "BdchNsKXC9-K",
        "outputId": "d0540b70-a9ae-4caf-d2f6-68aa9b47b2ea"
      },
      "outputs": [
        {
          "data": {
            "text/html": [
              "\n",
              "  <div id=\"df-a2cc7e04-23aa-44f7-b7e5-af798677cf8d\">\n",
              "    <div class=\"colab-df-container\">\n",
              "      <div>\n",
              "<style scoped>\n",
              "    .dataframe tbody tr th:only-of-type {\n",
              "        vertical-align: middle;\n",
              "    }\n",
              "\n",
              "    .dataframe tbody tr th {\n",
              "        vertical-align: top;\n",
              "    }\n",
              "\n",
              "    .dataframe thead th {\n",
              "        text-align: right;\n",
              "    }\n",
              "</style>\n",
              "<table border=\"1\" class=\"dataframe\">\n",
              "  <thead>\n",
              "    <tr style=\"text-align: right;\">\n",
              "      <th></th>\n",
              "      <th>columns</th>\n",
              "      <th>weight</th>\n",
              "    </tr>\n",
              "  </thead>\n",
              "  <tbody>\n",
              "    <tr>\n",
              "      <th>9</th>\n",
              "      <td>trade_price_last1</td>\n",
              "      <td>67.086387</td>\n",
              "    </tr>\n",
              "    <tr>\n",
              "      <th>7</th>\n",
              "      <td>curve_based_price</td>\n",
              "      <td>59.346963</td>\n",
              "    </tr>\n",
              "    <tr>\n",
              "      <th>12</th>\n",
              "      <td>curve_based_price_last1</td>\n",
              "      <td>26.812938</td>\n",
              "    </tr>\n",
              "    <tr>\n",
              "      <th>14</th>\n",
              "      <td>trade_price_last2</td>\n",
              "      <td>16.917495</td>\n",
              "    </tr>\n",
              "    <tr>\n",
              "      <th>19</th>\n",
              "      <td>trade_price_last3</td>\n",
              "      <td>11.229540</td>\n",
              "    </tr>\n",
              "  </tbody>\n",
              "</table>\n",
              "</div>\n",
              "      <button class=\"colab-df-convert\" onclick=\"convertToInteractive('df-a2cc7e04-23aa-44f7-b7e5-af798677cf8d')\"\n",
              "              title=\"Convert this dataframe to an interactive table.\"\n",
              "              style=\"display:none;\">\n",
              "        \n",
              "  <svg xmlns=\"http://www.w3.org/2000/svg\" height=\"24px\"viewBox=\"0 0 24 24\"\n",
              "       width=\"24px\">\n",
              "    <path d=\"M0 0h24v24H0V0z\" fill=\"none\"/>\n",
              "    <path d=\"M18.56 5.44l.94 2.06.94-2.06 2.06-.94-2.06-.94-.94-2.06-.94 2.06-2.06.94zm-11 1L8.5 8.5l.94-2.06 2.06-.94-2.06-.94L8.5 2.5l-.94 2.06-2.06.94zm10 10l.94 2.06.94-2.06 2.06-.94-2.06-.94-.94-2.06-.94 2.06-2.06.94z\"/><path d=\"M17.41 7.96l-1.37-1.37c-.4-.4-.92-.59-1.43-.59-.52 0-1.04.2-1.43.59L10.3 9.45l-7.72 7.72c-.78.78-.78 2.05 0 2.83L4 21.41c.39.39.9.59 1.41.59.51 0 1.02-.2 1.41-.59l7.78-7.78 2.81-2.81c.8-.78.8-2.07 0-2.86zM5.41 20L4 18.59l7.72-7.72 1.47 1.35L5.41 20z\"/>\n",
              "  </svg>\n",
              "      </button>\n",
              "      \n",
              "  <style>\n",
              "    .colab-df-container {\n",
              "      display:flex;\n",
              "      flex-wrap:wrap;\n",
              "      gap: 12px;\n",
              "    }\n",
              "\n",
              "    .colab-df-convert {\n",
              "      background-color: #E8F0FE;\n",
              "      border: none;\n",
              "      border-radius: 50%;\n",
              "      cursor: pointer;\n",
              "      display: none;\n",
              "      fill: #1967D2;\n",
              "      height: 32px;\n",
              "      padding: 0 0 0 0;\n",
              "      width: 32px;\n",
              "    }\n",
              "\n",
              "    .colab-df-convert:hover {\n",
              "      background-color: #E2EBFA;\n",
              "      box-shadow: 0px 1px 2px rgba(60, 64, 67, 0.3), 0px 1px 3px 1px rgba(60, 64, 67, 0.15);\n",
              "      fill: #174EA6;\n",
              "    }\n",
              "\n",
              "    [theme=dark] .colab-df-convert {\n",
              "      background-color: #3B4455;\n",
              "      fill: #D2E3FC;\n",
              "    }\n",
              "\n",
              "    [theme=dark] .colab-df-convert:hover {\n",
              "      background-color: #434B5C;\n",
              "      box-shadow: 0px 1px 3px 1px rgba(0, 0, 0, 0.15);\n",
              "      filter: drop-shadow(0px 1px 2px rgba(0, 0, 0, 0.3));\n",
              "      fill: #FFFFFF;\n",
              "    }\n",
              "  </style>\n",
              "\n",
              "      <script>\n",
              "        const buttonEl =\n",
              "          document.querySelector('#df-a2cc7e04-23aa-44f7-b7e5-af798677cf8d button.colab-df-convert');\n",
              "        buttonEl.style.display =\n",
              "          google.colab.kernel.accessAllowed ? 'block' : 'none';\n",
              "\n",
              "        async function convertToInteractive(key) {\n",
              "          const element = document.querySelector('#df-a2cc7e04-23aa-44f7-b7e5-af798677cf8d');\n",
              "          const dataTable =\n",
              "            await google.colab.kernel.invokeFunction('convertToInteractive',\n",
              "                                                     [key], {});\n",
              "          if (!dataTable) return;\n",
              "\n",
              "          const docLinkHtml = 'Like what you see? Visit the ' +\n",
              "            '<a target=\"_blank\" href=https://colab.research.google.com/notebooks/data_table.ipynb>data table notebook</a>'\n",
              "            + ' to learn more about interactive tables.';\n",
              "          element.innerHTML = '';\n",
              "          dataTable['output_type'] = 'display_data';\n",
              "          await google.colab.output.renderOutput(dataTable, element);\n",
              "          const docLink = document.createElement('div');\n",
              "          docLink.innerHTML = docLinkHtml;\n",
              "          element.appendChild(docLink);\n",
              "        }\n",
              "      </script>\n",
              "    </div>\n",
              "  </div>\n",
              "  "
            ],
            "text/plain": [
              "                    columns     weight\n",
              "9         trade_price_last1  67.086387\n",
              "7         curve_based_price  59.346963\n",
              "12  curve_based_price_last1  26.812938\n",
              "14        trade_price_last2  16.917495\n",
              "19        trade_price_last3  11.229540"
            ]
          },
          "execution_count": 69,
          "metadata": {},
          "output_type": "execute_result"
        }
      ],
      "source": [
        "weights_df2.head()"
      ]
    },
    {
      "cell_type": "code",
      "execution_count": null,
      "metadata": {
        "colab": {
          "base_uri": "https://localhost:8080/",
          "height": 515
        },
        "id": "3bW3tH2SIpB_",
        "outputId": "c49eb7bb-a8cb-4dbc-acc9-e67bca863e6e"
      },
      "outputs": [
        {
          "data": {
            "text/plain": [
              "<matplotlib.axes._subplots.AxesSubplot at 0x7f95371be190>"
            ]
          },
          "execution_count": 70,
          "metadata": {},
          "output_type": "execute_result"
        },
        {
          "data": {
            "image/png": "[encoded data removed]",
            "text/plain": [
              "<Figure size 864x576 with 1 Axes>"
            ]
          },
          "metadata": {},
          "output_type": "display_data"
        }
      ],
      "source": [
        "plt.figure(figsize=(12,8))\n",
        "sns.set_style(\"darkgrid\")\n",
        "sns.barplot(data=weights_df2.head(10),y='columns',x='weight')"
      ]
    },
    {
      "cell_type": "markdown",
      "metadata": {
        "id": "sjrl_56EHvKW"
      },
      "source": [
        "##Visualization of Linear, SGD and Ridge Regressors"
      ]
    },
    {
      "cell_type": "markdown",
      "metadata": {
        "id": "AxdWoAXJJoXe"
      },
      "source": [
        "###Top 10 Features Comparison"
      ]
    },
    {
      "cell_type": "code",
      "execution_count": null,
      "metadata": {
        "colab": {
          "base_uri": "https://localhost:8080/",
          "height": 729
        },
        "id": "cyUmwjT4IMkG",
        "outputId": "8b73b6bb-be31-4070-8aa3-e3d50bdcc143"
      },
      "outputs": [
        {
          "data": {
            "image/png": "[encoded data removed]",
            "text/plain": [
              "<Figure size 1296x720 with 3 Axes>"
            ]
          },
          "metadata": {},
          "output_type": "display_data"
        }
      ],
      "source": [
        "fig, axes=plt.subplots(3,figsize=(18, 10),sharex=True)\n",
        "sns.barplot(ax=axes[0],data=weights_df2.head(10), x='weight', y='columns',label=\"Ridge\");\n",
        "sns.barplot(ax=axes[1],data=weights_df1.head(10), x='weight', y='columns',label=\"SGD\");\n",
        "sns.barplot(ax=axes[2],data=weights_df.head(10), x='weight', y='columns',label=\"Linear\");\n",
        "\n",
        "axes[0].legend()\n",
        "axes[0].grid(False)\n",
        "axes[1].legend()\n",
        "axes[1].grid(False)\n",
        "axes[2].legend()\n",
        "axes[2].grid(False)\n",
        "fig.tight_layout()\n",
        "plt.show()"
      ]
    },
    {
      "cell_type": "markdown",
      "metadata": {
        "id": "nasXwaslJyhh"
      },
      "source": [
        "###Bottom 10 Features Comparison"
      ]
    },
    {
      "cell_type": "code",
      "execution_count": null,
      "metadata": {
        "colab": {
          "base_uri": "https://localhost:8080/",
          "height": 729
        },
        "id": "nZ60a6RRJvGK",
        "outputId": "64dd4579-f6be-4a14-d01f-55cdb92dd54d"
      },
      "outputs": [
        {
          "data": {
            "image/png": "[encoded data removed]",
            "text/plain": [
              "<Figure size 1296x720 with 3 Axes>"
            ]
          },
          "metadata": {},
          "output_type": "display_data"
        }
      ],
      "source": [
        "fig, axes=plt.subplots(3,figsize=(18, 10),sharex=True)\n",
        "sns.barplot(ax=axes[0],data=weights_df2.tail(10), x='weight', y='columns',label=\"Ridge\");\n",
        "sns.barplot(ax=axes[1],data=weights_df1.tail(10), x='weight', y='columns',label=\"SGD\");\n",
        "sns.barplot(ax=axes[2],data=weights_df.tail(10), x='weight', y='columns',label=\"Linear\");\n",
        "\n",
        "\n",
        "axes[0].legend()\n",
        "axes[0].grid(False)\n",
        "axes[1].legend()\n",
        "axes[1].grid(False)\n",
        "axes[2].legend()\n",
        "axes[2].grid(False)\n",
        "fig.tight_layout()\n",
        "plt.show()"
      ]
    },
    {
      "cell_type": "code",
      "execution_count": null,
      "metadata": {
        "colab": {
          "base_uri": "https://localhost:8080/",
          "height": 91
        },
        "id": "rnQJzqPPC6ei",
        "outputId": "8ba12bd5-fc95-4fd2-bef2-36873feb400d"
      },
      "outputs": [
        {
          "name": "stdout",
          "output_type": "stream",
          "text": [
            "[jovian] Detected Colab notebook...\u001b[0m\n",
            "[jovian] Uploading colab notebook to Jovian...\u001b[0m\n",
            "Committed successfully! https://jovian.ai/dhanasekar1620/bond-prediction\n"
          ]
        },
        {
          "data": {
            "application/vnd.google.colaboratory.intrinsic+json": {
              "type": "string"
            },
            "text/plain": [
              "'https://jovian.ai/dhanasekar1620/bond-prediction'"
            ]
          },
          "execution_count": 73,
          "metadata": {},
          "output_type": "execute_result"
        }
      ],
      "source": [
        "jovian.commit()"
      ]
    },
    {
      "cell_type": "markdown",
      "metadata": {
        "id": "eJI5dZBBK8w4"
      },
      "source": [
        "##Using the test data provided"
      ]
    },
    {
      "cell_type": "code",
      "execution_count": null,
      "metadata": {
        "id": "iz_VNyRaK7j_"
      },
      "outputs": [],
      "source": [
        "test_df=pd.read_csv('benchmark-bond-trade-price-challenge/test.csv')"
      ]
    },
    {
      "cell_type": "code",
      "execution_count": null,
      "metadata": {
        "colab": {
          "base_uri": "https://localhost:8080/"
        },
        "id": "JmN0xS4iMJ0m",
        "outputId": "33b044ea-b04e-45a2-eb17-46dfd1d1e5e2"
      },
      "outputs": [
        {
          "name": "stdout",
          "output_type": "stream",
          "text": [
            "<class 'pandas.core.frame.DataFrame'>\n",
            "RangeIndex: 61146 entries, 0 to 61145\n",
            "Data columns (total 59 columns):\n",
            " #   Column                     Non-Null Count  Dtype  \n",
            "---  ------                     --------------  -----  \n",
            " 0   id                         61146 non-null  int64  \n",
            " 1   weight                     61146 non-null  float64\n",
            " 2   current_coupon             61146 non-null  float64\n",
            " 3   time_to_maturity           61146 non-null  float64\n",
            " 4   is_callable                61146 non-null  int64  \n",
            " 5   reporting_delay            61146 non-null  float64\n",
            " 6   trade_size                 61146 non-null  int64  \n",
            " 7   trade_type                 61146 non-null  int64  \n",
            " 8   curve_based_price          61146 non-null  float64\n",
            " 9   received_time_diff_last1   61146 non-null  int64  \n",
            " 10  trade_price_last1          61146 non-null  float64\n",
            " 11  trade_size_last1           61146 non-null  int64  \n",
            " 12  trade_type_last1           61146 non-null  int64  \n",
            " 13  curve_based_price_last1    61142 non-null  float64\n",
            " 14  received_time_diff_last2   60968 non-null  float64\n",
            " 15  trade_price_last2          60968 non-null  float64\n",
            " 16  trade_size_last2           60968 non-null  float64\n",
            " 17  trade_type_last2           60968 non-null  float64\n",
            " 18  curve_based_price_last2    60960 non-null  float64\n",
            " 19  received_time_diff_last3   60792 non-null  float64\n",
            " 20  trade_price_last3          60792 non-null  float64\n",
            " 21  trade_size_last3           60792 non-null  float64\n",
            " 22  trade_type_last3           60792 non-null  float64\n",
            " 23  curve_based_price_last3    60783 non-null  float64\n",
            " 24  received_time_diff_last4   60631 non-null  float64\n",
            " 25  trade_price_last4          60631 non-null  float64\n",
            " 26  trade_size_last4           60631 non-null  float64\n",
            " 27  trade_type_last4           60631 non-null  float64\n",
            " 28  curve_based_price_last4    60616 non-null  float64\n",
            " 29  received_time_diff_last5   60471 non-null  float64\n",
            " 30  trade_price_last5          60471 non-null  float64\n",
            " 31  trade_size_last5           60471 non-null  float64\n",
            " 32  trade_type_last5           60471 non-null  float64\n",
            " 33  curve_based_price_last5    60454 non-null  float64\n",
            " 34  received_time_diff_last6   60310 non-null  float64\n",
            " 35  trade_price_last6          60310 non-null  float64\n",
            " 36  trade_size_last6           60310 non-null  float64\n",
            " 37  trade_type_last6           60310 non-null  float64\n",
            " 38  curve_based_price_last6    60291 non-null  float64\n",
            " 39  received_time_diff_last7   60171 non-null  float64\n",
            " 40  trade_price_last7          60171 non-null  float64\n",
            " 41  trade_size_last7           60171 non-null  float64\n",
            " 42  trade_type_last7           60171 non-null  float64\n",
            " 43  curve_based_price_last7    60146 non-null  float64\n",
            " 44  received_time_diff_last8   60015 non-null  float64\n",
            " 45  trade_price_last8          60015 non-null  float64\n",
            " 46  trade_size_last8           60015 non-null  float64\n",
            " 47  trade_type_last8           60015 non-null  float64\n",
            " 48  curve_based_price_last8    59989 non-null  float64\n",
            " 49  received_time_diff_last9   59878 non-null  float64\n",
            " 50  trade_price_last9          59878 non-null  float64\n",
            " 51  trade_size_last9           59878 non-null  float64\n",
            " 52  trade_type_last9           59878 non-null  float64\n",
            " 53  curve_based_price_last9    59851 non-null  float64\n",
            " 54  received_time_diff_last10  59724 non-null  float64\n",
            " 55  trade_price_last10         59724 non-null  float64\n",
            " 56  trade_size_last10          59724 non-null  float64\n",
            " 57  trade_type_last10          59724 non-null  float64\n",
            " 58  curve_based_price_last10   59688 non-null  float64\n",
            "dtypes: float64(52), int64(7)\n",
            "memory usage: 27.5 MB\n"
          ]
        }
      ],
      "source": [
        "test_df.info()"
      ]
    },
    {
      "cell_type": "code",
      "execution_count": null,
      "metadata": {
        "id": "DWdloR7sLigZ"
      },
      "outputs": [],
      "source": [
        "evaluate=test_df[input_cols].copy()"
      ]
    },
    {
      "cell_type": "code",
      "execution_count": null,
      "metadata": {
        "id": "8iaXmpj8MHAf"
      },
      "outputs": [],
      "source": [
        "imputer.fit(evaluate[numerical_cols]);\n",
        "evaluate[numerical_cols]=imputer.transform(evaluate[numerical_cols]);"
      ]
    },
    {
      "cell_type": "code",
      "execution_count": null,
      "metadata": {
        "id": "9nqimZcoLidx"
      },
      "outputs": [],
      "source": [
        "scaler.fit(evaluate[numerical_cols]);\n",
        "evaluate[numerical_cols]=scaler.transform(evaluate[numerical_cols])"
      ]
    },
    {
      "cell_type": "code",
      "execution_count": null,
      "metadata": {
        "id": "R5qZvfMULibI"
      },
      "outputs": [],
      "source": [
        "#Linear Regression\n",
        "evaluate_preds = model.predict(evaluate)"
      ]
    },
    {
      "cell_type": "code",
      "execution_count": null,
      "metadata": {
        "id": "cJI0FqqZLiYH"
      },
      "outputs": [],
      "source": [
        "#SGD Regression\n",
        "evaluate_preds1 = model1.predict(evaluate)"
      ]
    },
    {
      "cell_type": "code",
      "execution_count": null,
      "metadata": {
        "id": "Lc2K58vnOOnv"
      },
      "outputs": [],
      "source": [
        "#Ridge Regression\n",
        "evaluate_preds2 = model2.predict(evaluate)"
      ]
    },
    {
      "cell_type": "markdown",
      "metadata": {
        "id": "53aFWnHMNIf4"
      },
      "source": [
        "##Decision Trees"
      ]
    },
    {
      "cell_type": "code",
      "execution_count": null,
      "metadata": {
        "id": "B40odBmVefgH"
      },
      "outputs": [],
      "source": [
        "from sklearn.tree import DecisionTreeRegressor"
      ]
    },
    {
      "cell_type": "code",
      "execution_count": null,
      "metadata": {
        "id": "A6uopKh8NMv3"
      },
      "outputs": [],
      "source": [
        "# Create the model\n",
        "tree = DecisionTreeRegressor(random_state=42)"
      ]
    },
    {
      "cell_type": "code",
      "execution_count": null,
      "metadata": {
        "colab": {
          "base_uri": "https://localhost:8080/"
        },
        "id": "EcQcm2zHNOX1",
        "outputId": "60210cd7-69be-4a67-8803-57c7fce642b1"
      },
      "outputs": [
        {
          "data": {
            "text/plain": [
              "DecisionTreeRegressor(random_state=42)"
            ]
          },
          "execution_count": 87,
          "metadata": {},
          "output_type": "execute_result"
        }
      ],
      "source": [
        "# Fit the model to the training data\n",
        "tree.fit(train_inputs,train_targets)"
      ]
    },
    {
      "cell_type": "code",
      "execution_count": null,
      "metadata": {
        "colab": {
          "base_uri": "https://localhost:8080/"
        },
        "id": "VXRseAgANPjn",
        "outputId": "fe9a0e45-3dd8-481b-b39c-44a0ece8029c"
      },
      "outputs": [
        {
          "data": {
            "text/plain": [
              "array([101.7751, 106.75  , 109.01  , ..., 108.34  ,  84.5   , 100.032 ])"
            ]
          },
          "execution_count": 88,
          "metadata": {},
          "output_type": "execute_result"
        }
      ],
      "source": [
        "tree_train_preds = tree.predict(train_inputs)\n",
        "tree_train_preds"
      ]
    },
    {
      "cell_type": "code",
      "execution_count": null,
      "metadata": {
        "id": "1PyCcOvgNZaW"
      },
      "outputs": [],
      "source": [
        "tree_train_rmse = mean_squared_error(tree_train_preds,train_targets,squared=False)"
      ]
    },
    {
      "cell_type": "code",
      "execution_count": null,
      "metadata": {
        "id": "yYby8tk3NZXI"
      },
      "outputs": [],
      "source": [
        "tree_val_preds = tree.predict(val_inputs)"
      ]
    },
    {
      "cell_type": "code",
      "execution_count": null,
      "metadata": {
        "id": "G4NqxjNFNZSj"
      },
      "outputs": [],
      "source": [
        "tree_val_rmse = mean_squared_error(tree_val_preds,val_targets,squared=False)"
      ]
    },
    {
      "cell_type": "code",
      "execution_count": null,
      "metadata": {
        "colab": {
          "base_uri": "https://localhost:8080/"
        },
        "id": "yaFFb-JzNhBP",
        "outputId": "72a12250-c510-4b72-e3b2-df4452d57791"
      },
      "outputs": [
        {
          "name": "stdout",
          "output_type": "stream",
          "text": [
            "Train RMSE: 6.861540082373082e-09, Validation RMSE: 1.1637331593963993\n"
          ]
        }
      ],
      "source": [
        "print('Train RMSE: {}, Validation RMSE: {}'.format(tree_train_rmse, tree_val_rmse))"
      ]
    },
    {
      "cell_type": "code",
      "execution_count": null,
      "metadata": {
        "colab": {
          "base_uri": "https://localhost:8080/",
          "height": 91
        },
        "id": "KV9_eZaLNg_D",
        "outputId": "d345d8a6-f8df-406e-c313-820c33d8e25a"
      },
      "outputs": [
        {
          "name": "stdout",
          "output_type": "stream",
          "text": [
            "[jovian] Detected Colab notebook...\u001b[0m\n",
            "[jovian] Uploading colab notebook to Jovian...\u001b[0m\n",
            "Committed successfully! https://jovian.ai/dhanasekar1620/bond-prediction\n"
          ]
        },
        {
          "data": {
            "application/vnd.google.colaboratory.intrinsic+json": {
              "type": "string"
            },
            "text/plain": [
              "'https://jovian.ai/dhanasekar1620/bond-prediction'"
            ]
          },
          "execution_count": 93,
          "metadata": {},
          "output_type": "execute_result"
        }
      ],
      "source": [
        "jovian.commit()"
      ]
    },
    {
      "cell_type": "code",
      "execution_count": null,
      "metadata": {
        "id": "DHcwgiWQNg8f"
      },
      "outputs": [],
      "source": [
        "from sklearn.tree import plot_tree, export_text\n",
        "sns.set_style('darkgrid')\n",
        "%matplotlib inline"
      ]
    },
    {
      "cell_type": "code",
      "execution_count": null,
      "metadata": {
        "colab": {
          "base_uri": "https://localhost:8080/",
          "height": 832
        },
        "id": "X3lU_mG3NZPX",
        "outputId": "62c81e73-ead5-4a1c-d876-0f3edb29b08c"
      },
      "outputs": [
        {
          "data": {
            "text/plain": [
              "[Text(0.5, 0.8333333333333334, 'trade_price_last1 <= 0.636\\nsquared_error = 96.559\\nsamples = 572008\\nvalue = 103.453'),\n",
              " Text(0.25, 0.5, 'trade_price_last1 <= 0.475\\nsquared_error = 53.502\\nsamples = 433121\\nvalue = 99.765'),\n",
              " Text(0.125, 0.16666666666666666, '\\n  (...)  \\n'),\n",
              " Text(0.375, 0.16666666666666666, '\\n  (...)  \\n'),\n",
              " Text(0.75, 0.5, 'trade_price_last1 <= 0.706\\nsquared_error = 56.144\\nsamples = 138887\\nvalue = 114.954'),\n",
              " Text(0.625, 0.16666666666666666, '\\n  (...)  \\n'),\n",
              " Text(0.875, 0.16666666666666666, '\\n  (...)  \\n')]"
            ]
          },
          "execution_count": 95,
          "metadata": {},
          "output_type": "execute_result"
        },
        {
          "data": {
            "image/png": "[encoded data removed]",
            "text/plain": [
              "<Figure size 2160x1080 with 1 Axes>"
            ]
          },
          "metadata": {
            "needs_background": "light"
          },
          "output_type": "display_data"
        }
      ],
      "source": [
        "plt.figure(figsize=(30,15))\n",
        "# Visualize the tree graphically using plot_tree\n",
        "plot_tree(tree,feature_names=train_inputs.columns, max_depth=1, filled=True)"
      ]
    },
    {
      "cell_type": "code",
      "execution_count": null,
      "metadata": {
        "id": "uJhMluWYNxv1"
      },
      "outputs": [],
      "source": [
        "# Visualize the tree textually using export_text\n",
        "tree_text =export_text(tree, max_depth=10, feature_names=list(train_inputs.columns))"
      ]
    },
    {
      "cell_type": "code",
      "execution_count": null,
      "metadata": {
        "colab": {
          "base_uri": "https://localhost:8080/"
        },
        "id": "V6DMYK07N3Zd",
        "outputId": "80e70bcc-6a2c-432d-cf87-208b3ffdcb72"
      },
      "outputs": [
        {
          "name": "stdout",
          "output_type": "stream",
          "text": [
            "|--- trade_price_last1 <= 0.64\n",
            "|   |--- trade_price_last1 <= 0.48\n",
            "|   |   |--- curve_based_price <= 0.28\n",
            "|   |   |   |--- trade_price_last1 <= 0.15\n",
            "|   |   |   |   |--- curve_based_price_last8 <= 0.09\n",
            "|   |   |   |   |   |--- trade_price_last1 <= 0.03\n",
            "|   |   |   |   |   |   |--- curve_based_price_last4 <= 0.03\n",
            "|   |   |   |   |   |   |   |--- trade_price_last1 <= 0.01\n",
            "|   |   |   |   |   |   |   |   |--- trade_price_last1 <= 0.00\n",
            "|   |   |   |   |   |   |   |   |   |--- trade_size_last9 <= 0.04\n"
          ]
        }
      ],
      "source": [
        "# Display the first few lines\n",
        "print(tree_text[:500])"
      ]
    },
    {
      "cell_type": "code",
      "execution_count": null,
      "metadata": {
        "id": "UVOLyeBhN7nF"
      },
      "outputs": [],
      "source": [
        "# Check feature importance\n",
        "tree_importances = tree.feature_importances_"
      ]
    },
    {
      "cell_type": "code",
      "execution_count": null,
      "metadata": {
        "id": "YnoTi8RTOA5E"
      },
      "outputs": [],
      "source": [
        "tree_importance_df = pd.DataFrame({\n",
        "    'feature': train_inputs.columns,\n",
        "    'importance': tree_importances\n",
        "}).sort_values('importance', ascending=False)"
      ]
    },
    {
      "cell_type": "code",
      "execution_count": null,
      "metadata": {
        "colab": {
          "base_uri": "https://localhost:8080/",
          "height": 206
        },
        "id": "g0smXOD3OKw4",
        "outputId": "75f32f16-ad23-456e-9e16-b9c86bad1216"
      },
      "outputs": [
        {
          "data": {
            "text/html": [
              "\n",
              "  <div id=\"df-b8ba07a3-aa16-48c5-a78d-3a1ebb839207\">\n",
              "    <div class=\"colab-df-container\">\n",
              "      <div>\n",
              "<style scoped>\n",
              "    .dataframe tbody tr th:only-of-type {\n",
              "        vertical-align: middle;\n",
              "    }\n",
              "\n",
              "    .dataframe tbody tr th {\n",
              "        vertical-align: top;\n",
              "    }\n",
              "\n",
              "    .dataframe thead th {\n",
              "        text-align: right;\n",
              "    }\n",
              "</style>\n",
              "<table border=\"1\" class=\"dataframe\">\n",
              "  <thead>\n",
              "    <tr style=\"text-align: right;\">\n",
              "      <th></th>\n",
              "      <th>feature</th>\n",
              "      <th>importance</th>\n",
              "    </tr>\n",
              "  </thead>\n",
              "  <tbody>\n",
              "    <tr>\n",
              "      <th>9</th>\n",
              "      <td>trade_price_last1</td>\n",
              "      <td>0.916142</td>\n",
              "    </tr>\n",
              "    <tr>\n",
              "      <th>7</th>\n",
              "      <td>curve_based_price</td>\n",
              "      <td>0.070769</td>\n",
              "    </tr>\n",
              "    <tr>\n",
              "      <th>6</th>\n",
              "      <td>trade_type</td>\n",
              "      <td>0.002074</td>\n",
              "    </tr>\n",
              "    <tr>\n",
              "      <th>14</th>\n",
              "      <td>trade_price_last2</td>\n",
              "      <td>0.001549</td>\n",
              "    </tr>\n",
              "    <tr>\n",
              "      <th>47</th>\n",
              "      <td>curve_based_price_last8</td>\n",
              "      <td>0.000683</td>\n",
              "    </tr>\n",
              "  </tbody>\n",
              "</table>\n",
              "</div>\n",
              "      <button class=\"colab-df-convert\" onclick=\"convertToInteractive('df-b8ba07a3-aa16-48c5-a78d-3a1ebb839207')\"\n",
              "              title=\"Convert this dataframe to an interactive table.\"\n",
              "              style=\"display:none;\">\n",
              "        \n",
              "  <svg xmlns=\"http://www.w3.org/2000/svg\" height=\"24px\"viewBox=\"0 0 24 24\"\n",
              "       width=\"24px\">\n",
              "    <path d=\"M0 0h24v24H0V0z\" fill=\"none\"/>\n",
              "    <path d=\"M18.56 5.44l.94 2.06.94-2.06 2.06-.94-2.06-.94-.94-2.06-.94 2.06-2.06.94zm-11 1L8.5 8.5l.94-2.06 2.06-.94-2.06-.94L8.5 2.5l-.94 2.06-2.06.94zm10 10l.94 2.06.94-2.06 2.06-.94-2.06-.94-.94-2.06-.94 2.06-2.06.94z\"/><path d=\"M17.41 7.96l-1.37-1.37c-.4-.4-.92-.59-1.43-.59-.52 0-1.04.2-1.43.59L10.3 9.45l-7.72 7.72c-.78.78-.78 2.05 0 2.83L4 21.41c.39.39.9.59 1.41.59.51 0 1.02-.2 1.41-.59l7.78-7.78 2.81-2.81c.8-.78.8-2.07 0-2.86zM5.41 20L4 18.59l7.72-7.72 1.47 1.35L5.41 20z\"/>\n",
              "  </svg>\n",
              "      </button>\n",
              "      \n",
              "  <style>\n",
              "    .colab-df-container {\n",
              "      display:flex;\n",
              "      flex-wrap:wrap;\n",
              "      gap: 12px;\n",
              "    }\n",
              "\n",
              "    .colab-df-convert {\n",
              "      background-color: #E8F0FE;\n",
              "      border: none;\n",
              "      border-radius: 50%;\n",
              "      cursor: pointer;\n",
              "      display: none;\n",
              "      fill: #1967D2;\n",
              "      height: 32px;\n",
              "      padding: 0 0 0 0;\n",
              "      width: 32px;\n",
              "    }\n",
              "\n",
              "    .colab-df-convert:hover {\n",
              "      background-color: #E2EBFA;\n",
              "      box-shadow: 0px 1px 2px rgba(60, 64, 67, 0.3), 0px 1px 3px 1px rgba(60, 64, 67, 0.15);\n",
              "      fill: #174EA6;\n",
              "    }\n",
              "\n",
              "    [theme=dark] .colab-df-convert {\n",
              "      background-color: #3B4455;\n",
              "      fill: #D2E3FC;\n",
              "    }\n",
              "\n",
              "    [theme=dark] .colab-df-convert:hover {\n",
              "      background-color: #434B5C;\n",
              "      box-shadow: 0px 1px 3px 1px rgba(0, 0, 0, 0.15);\n",
              "      filter: drop-shadow(0px 1px 2px rgba(0, 0, 0, 0.3));\n",
              "      fill: #FFFFFF;\n",
              "    }\n",
              "  </style>\n",
              "\n",
              "      <script>\n",
              "        const buttonEl =\n",
              "          document.querySelector('#df-b8ba07a3-aa16-48c5-a78d-3a1ebb839207 button.colab-df-convert');\n",
              "        buttonEl.style.display =\n",
              "          google.colab.kernel.accessAllowed ? 'block' : 'none';\n",
              "\n",
              "        async function convertToInteractive(key) {\n",
              "          const element = document.querySelector('#df-b8ba07a3-aa16-48c5-a78d-3a1ebb839207');\n",
              "          const dataTable =\n",
              "            await google.colab.kernel.invokeFunction('convertToInteractive',\n",
              "                                                     [key], {});\n",
              "          if (!dataTable) return;\n",
              "\n",
              "          const docLinkHtml = 'Like what you see? Visit the ' +\n",
              "            '<a target=\"_blank\" href=https://colab.research.google.com/notebooks/data_table.ipynb>data table notebook</a>'\n",
              "            + ' to learn more about interactive tables.';\n",
              "          element.innerHTML = '';\n",
              "          dataTable['output_type'] = 'display_data';\n",
              "          await google.colab.output.renderOutput(dataTable, element);\n",
              "          const docLink = document.createElement('div');\n",
              "          docLink.innerHTML = docLinkHtml;\n",
              "          element.appendChild(docLink);\n",
              "        }\n",
              "      </script>\n",
              "    </div>\n",
              "  </div>\n",
              "  "
            ],
            "text/plain": [
              "                    feature  importance\n",
              "9         trade_price_last1    0.916142\n",
              "7         curve_based_price    0.070769\n",
              "6                trade_type    0.002074\n",
              "14        trade_price_last2    0.001549\n",
              "47  curve_based_price_last8    0.000683"
            ]
          },
          "execution_count": 100,
          "metadata": {},
          "output_type": "execute_result"
        }
      ],
      "source": [
        "tree_importance_df.head()"
      ]
    },
    {
      "cell_type": "code",
      "execution_count": null,
      "metadata": {
        "colab": {
          "base_uri": "https://localhost:8080/",
          "height": 295
        },
        "id": "M7A0HktoODON",
        "outputId": "0e697737-4497-4a98-d1c1-ec7918913ee0"
      },
      "outputs": [
        {
          "data": {
            "image/png": "[encoded data removed]",
            "text/plain": [
              "<Figure size 432x288 with 1 Axes>"
            ]
          },
          "metadata": {
            "needs_background": "light"
          },
          "output_type": "display_data"
        }
      ],
      "source": [
        "plt.title('Decision Tree Feature Importance')\n",
        "sns.barplot(data=tree_importance_df.head(), x='importance', y='feature');"
      ]
    },
    {
      "cell_type": "markdown",
      "metadata": {
        "id": "cmoaC3ooa--k"
      },
      "source": [
        "##RandomForestRegressor"
      ]
    },
    {
      "cell_type": "code",
      "execution_count": null,
      "metadata": {
        "id": "k7N18Br8a5Rr"
      },
      "outputs": [],
      "source": [
        "from sklearn.ensemble import RandomForestRegressor"
      ]
    },
    {
      "cell_type": "code",
      "execution_count": null,
      "metadata": {
        "id": "X2XeEo4aa-f0"
      },
      "outputs": [],
      "source": [
        "# Create the model\n",
        "rf1 = RandomForestRegressor(n_jobs=-1, random_state=42,n_estimators=30, max_depth=3)"
      ]
    },
    {
      "cell_type": "code",
      "execution_count": null,
      "metadata": {
        "colab": {
          "base_uri": "https://localhost:8080/"
        },
        "id": "EBjEYj45a-dc",
        "outputId": "857c4055-006a-4562-9e9b-3f69711b2b9a"
      },
      "outputs": [
        {
          "data": {
            "text/plain": [
              "RandomForestRegressor(max_depth=3, n_estimators=30, n_jobs=-1, random_state=42)"
            ]
          },
          "execution_count": 106,
          "metadata": {},
          "output_type": "execute_result"
        }
      ],
      "source": [
        "# Fit the model\n",
        "rf1.fit(train_inputs,train_targets)"
      ]
    },
    {
      "cell_type": "code",
      "execution_count": null,
      "metadata": {
        "id": "Kz8sXh8Ya-a8"
      },
      "outputs": [],
      "source": [
        "rf1_train_preds = rf1.predict(train_inputs)\n",
        "\n",
        "rf1_train_rmse = mean_squared_error(rf1_train_preds,train_targets,squared=False)"
      ]
    },
    {
      "cell_type": "code",
      "execution_count": null,
      "metadata": {
        "id": "n99SqKKpa-Yc"
      },
      "outputs": [],
      "source": [
        "rf1_val_preds = rf1.predict(val_inputs)\n",
        "\n",
        "rf1_val_rmse = mean_squared_error(rf1_val_preds,val_targets,squared=False)"
      ]
    },
    {
      "cell_type": "code",
      "execution_count": null,
      "metadata": {
        "colab": {
          "base_uri": "https://localhost:8080/"
        },
        "id": "iXsqhpFJa-WK",
        "outputId": "1667a740-937d-4d08-f250-9fd3c2301c51"
      },
      "outputs": [
        {
          "name": "stdout",
          "output_type": "stream",
          "text": [
            "Train RMSE: 2.893148154074947, Validation RMSE: 2.8956124905504366\n"
          ]
        }
      ],
      "source": [
        "print('Train RMSE: {}, Validation RMSE: {}'.format(rf1_train_rmse, rf1_val_rmse))"
      ]
    },
    {
      "cell_type": "markdown",
      "metadata": {
        "id": "E7oJMmtm43tM"
      },
      "source": [
        "## Random Forest Hyperparameter Tuning and Regularization\n",
        "\n",
        "####n_estimators,max_depth, max_leaf_nodes"
      ]
    },
    {
      "cell_type": "code",
      "execution_count": null,
      "metadata": {
        "id": "gq3swPUJ43e0"
      },
      "outputs": [],
      "source": [
        "def RFtest_params(**params):\n",
        "    Random_Forest_model = RandomForestRegressor(n_jobs=-1, random_state=42, **params)\n",
        "    Random_Forest_model.fit(train_inputs, train_targets)\n",
        "    RFtrain_rmse = mean_squared_error(Random_Forest_model.predict(train_inputs), train_targets)\n",
        "    RFval_rmse = mean_squared_error(Random_Forest_model.predict(val_inputs), val_targets)\n",
        "    print('Train RMSE: {}, Validation RMSE: {}'.format(RFtrain_rmse, RFval_rmse))"
      ]
    },
    {
      "cell_type": "code",
      "execution_count": null,
      "metadata": {
        "colab": {
          "base_uri": "https://localhost:8080/"
        },
        "id": "R13eKOlc43ag",
        "outputId": "824c6c1c-49e9-4e83-9c0d-6995d1a7219b"
      },
      "outputs": [
        {
          "name": "stdout",
          "output_type": "stream",
          "text": [
            "Train RMSE: 3.178884338665874, Validation RMSE: 3.1433963022637776\n"
          ]
        }
      ],
      "source": [
        "RFtest_params(max_depth=4,n_estimators=50,max_leaf_nodes=2**5)"
      ]
    },
    {
      "cell_type": "code",
      "execution_count": null,
      "metadata": {
        "colab": {
          "base_uri": "https://localhost:8080/"
        },
        "id": "fA9ngFvl43Ya",
        "outputId": "ccdc2113-f5cf-4323-e36c-ec69cceab817"
      },
      "outputs": [
        {
          "name": "stdout",
          "output_type": "stream",
          "text": [
            "Train RMSE: 1.652807713289686, Validation RMSE: 1.6045250924056265\n"
          ]
        }
      ],
      "source": [
        "RFtest_params(max_depth=5,n_estimators=60,max_leaf_nodes=2**10)"
      ]
    },
    {
      "cell_type": "code",
      "execution_count": null,
      "metadata": {
        "colab": {
          "base_uri": "https://localhost:8080/"
        },
        "id": "SQhwM0K043Vl",
        "outputId": "07639315-a032-49cf-cba1-17bfaf4553f9"
      },
      "outputs": [
        {
          "name": "stdout",
          "output_type": "stream",
          "text": [
            "Train RMSE: 1.651357519540944, Validation RMSE: 1.6025561970265925\n"
          ]
        }
      ],
      "source": [
        "RFtest_params(max_depth=5,n_estimators=80,max_leaf_nodes=2**10)"
      ]
    },
    {
      "cell_type": "code",
      "execution_count": null,
      "metadata": {
        "colab": {
          "base_uri": "https://localhost:8080/",
          "height": 91
        },
        "id": "dsCUw5ippOoa",
        "outputId": "e8febffd-b817-4b7d-9d5b-88d87c9962aa"
      },
      "outputs": [
        {
          "name": "stdout",
          "output_type": "stream",
          "text": [
            "[jovian] Detected Colab notebook...\u001b[0m\n",
            "[jovian] Uploading colab notebook to Jovian...\u001b[0m\n",
            "Committed successfully! https://jovian.ai/dhanasekar1620/bond-prediction\n"
          ]
        },
        {
          "data": {
            "application/vnd.google.colaboratory.intrinsic+json": {
              "type": "string"
            },
            "text/plain": [
              "'https://jovian.ai/dhanasekar1620/bond-prediction'"
            ]
          },
          "execution_count": 121,
          "metadata": {},
          "output_type": "execute_result"
        }
      ],
      "source": [
        "jovian.commit()"
      ]
    },
    {
      "cell_type": "markdown",
      "metadata": {
        "id": "YC1qfXjUgqsK"
      },
      "source": [
        "##XGBRegressor"
      ]
    },
    {
      "cell_type": "code",
      "execution_count": null,
      "metadata": {
        "id": "5wM6x8MdglPj"
      },
      "outputs": [],
      "source": [
        "from xgboost import XGBRegressor"
      ]
    },
    {
      "cell_type": "code",
      "execution_count": null,
      "metadata": {
        "id": "lWcQ7De_OFg-"
      },
      "outputs": [],
      "source": [
        "XGBmodel = XGBRegressor(random_state=42, n_jobs=-1, n_estimators=20, max_depth=4)"
      ]
    },
    {
      "cell_type": "code",
      "execution_count": null,
      "metadata": {
        "colab": {
          "base_uri": "https://localhost:8080/"
        },
        "id": "QYCR-nfLgvsp",
        "outputId": "d104f8e2-3208-4e68-ddf4-1132bc46fb4d"
      },
      "outputs": [
        {
          "name": "stdout",
          "output_type": "stream",
          "text": [
            "[14:06:19] WARNING: /workspace/src/objective/regression_obj.cu:152: reg:linear is now deprecated in favor of reg:squarederror.\n"
          ]
        },
        {
          "data": {
            "text/plain": [
              "XGBRegressor(max_depth=4, n_estimators=20, n_jobs=-1, random_state=42)"
            ]
          },
          "execution_count": 124,
          "metadata": {},
          "output_type": "execute_result"
        }
      ],
      "source": [
        "# Fit the model\n",
        "XGBmodel.fit(train_inputs,train_targets)"
      ]
    },
    {
      "cell_type": "code",
      "execution_count": null,
      "metadata": {
        "id": "2ix9ovGDgxt5"
      },
      "outputs": [],
      "source": [
        "preds = XGBmodel.predict(train_inputs)"
      ]
    },
    {
      "cell_type": "code",
      "execution_count": null,
      "metadata": {
        "id": "Se02jTSTo0H9"
      },
      "outputs": [],
      "source": [
        "def rmse(a, b):\n",
        "    return mean_squared_error(a, b, squared=False)"
      ]
    },
    {
      "cell_type": "code",
      "execution_count": null,
      "metadata": {
        "colab": {
          "base_uri": "https://localhost:8080/"
        },
        "id": "ydBhiIdBo5Y7",
        "outputId": "e6ed4cbd-bbcb-41cc-a441-5b0cfd2d6d79"
      },
      "outputs": [
        {
          "data": {
            "text/plain": [
              "12.624322649948803"
            ]
          },
          "execution_count": 127,
          "metadata": {},
          "output_type": "execute_result"
        }
      ],
      "source": [
        "rmse(preds, train_targets)"
      ]
    },
    {
      "cell_type": "code",
      "execution_count": null,
      "metadata": {
        "id": "2eQqdHV4o8Mj"
      },
      "outputs": [],
      "source": [
        "importance_df = pd.DataFrame({\n",
        "    'feature': train_inputs.columns,\n",
        "    'importance': XGBmodel.feature_importances_\n",
        "}).sort_values('importance', ascending=False)"
      ]
    },
    {
      "cell_type": "code",
      "execution_count": null,
      "metadata": {
        "colab": {
          "base_uri": "https://localhost:8080/",
          "height": 363
        },
        "id": "dfCkgoPbpD_d",
        "outputId": "b6125b01-91a1-4f74-b9af-ea0678856036"
      },
      "outputs": [
        {
          "data": {
            "text/html": [
              "\n",
              "  <div id=\"df-fb885fd8-a4e9-4f9e-850d-3b820c9d02fe\">\n",
              "    <div class=\"colab-df-container\">\n",
              "      <div>\n",
              "<style scoped>\n",
              "    .dataframe tbody tr th:only-of-type {\n",
              "        vertical-align: middle;\n",
              "    }\n",
              "\n",
              "    .dataframe tbody tr th {\n",
              "        vertical-align: top;\n",
              "    }\n",
              "\n",
              "    .dataframe thead th {\n",
              "        text-align: right;\n",
              "    }\n",
              "</style>\n",
              "<table border=\"1\" class=\"dataframe\">\n",
              "  <thead>\n",
              "    <tr style=\"text-align: right;\">\n",
              "      <th></th>\n",
              "      <th>feature</th>\n",
              "      <th>importance</th>\n",
              "    </tr>\n",
              "  </thead>\n",
              "  <tbody>\n",
              "    <tr>\n",
              "      <th>9</th>\n",
              "      <td>trade_price_last1</td>\n",
              "      <td>0.358125</td>\n",
              "    </tr>\n",
              "    <tr>\n",
              "      <th>12</th>\n",
              "      <td>curve_based_price_last1</td>\n",
              "      <td>0.254275</td>\n",
              "    </tr>\n",
              "    <tr>\n",
              "      <th>7</th>\n",
              "      <td>curve_based_price</td>\n",
              "      <td>0.213769</td>\n",
              "    </tr>\n",
              "    <tr>\n",
              "      <th>14</th>\n",
              "      <td>trade_price_last2</td>\n",
              "      <td>0.081057</td>\n",
              "    </tr>\n",
              "    <tr>\n",
              "      <th>19</th>\n",
              "      <td>trade_price_last3</td>\n",
              "      <td>0.020600</td>\n",
              "    </tr>\n",
              "    <tr>\n",
              "      <th>24</th>\n",
              "      <td>trade_price_last4</td>\n",
              "      <td>0.015770</td>\n",
              "    </tr>\n",
              "    <tr>\n",
              "      <th>17</th>\n",
              "      <td>curve_based_price_last2</td>\n",
              "      <td>0.013024</td>\n",
              "    </tr>\n",
              "    <tr>\n",
              "      <th>34</th>\n",
              "      <td>trade_price_last6</td>\n",
              "      <td>0.011476</td>\n",
              "    </tr>\n",
              "    <tr>\n",
              "      <th>47</th>\n",
              "      <td>curve_based_price_last8</td>\n",
              "      <td>0.011368</td>\n",
              "    </tr>\n",
              "    <tr>\n",
              "      <th>29</th>\n",
              "      <td>trade_price_last5</td>\n",
              "      <td>0.007514</td>\n",
              "    </tr>\n",
              "  </tbody>\n",
              "</table>\n",
              "</div>\n",
              "      <button class=\"colab-df-convert\" onclick=\"convertToInteractive('df-fb885fd8-a4e9-4f9e-850d-3b820c9d02fe')\"\n",
              "              title=\"Convert this dataframe to an interactive table.\"\n",
              "              style=\"display:none;\">\n",
              "        \n",
              "  <svg xmlns=\"http://www.w3.org/2000/svg\" height=\"24px\"viewBox=\"0 0 24 24\"\n",
              "       width=\"24px\">\n",
              "    <path d=\"M0 0h24v24H0V0z\" fill=\"none\"/>\n",
              "    <path d=\"M18.56 5.44l.94 2.06.94-2.06 2.06-.94-2.06-.94-.94-2.06-.94 2.06-2.06.94zm-11 1L8.5 8.5l.94-2.06 2.06-.94-2.06-.94L8.5 2.5l-.94 2.06-2.06.94zm10 10l.94 2.06.94-2.06 2.06-.94-2.06-.94-.94-2.06-.94 2.06-2.06.94z\"/><path d=\"M17.41 7.96l-1.37-1.37c-.4-.4-.92-.59-1.43-.59-.52 0-1.04.2-1.43.59L10.3 9.45l-7.72 7.72c-.78.78-.78 2.05 0 2.83L4 21.41c.39.39.9.59 1.41.59.51 0 1.02-.2 1.41-.59l7.78-7.78 2.81-2.81c.8-.78.8-2.07 0-2.86zM5.41 20L4 18.59l7.72-7.72 1.47 1.35L5.41 20z\"/>\n",
              "  </svg>\n",
              "      </button>\n",
              "      \n",
              "  <style>\n",
              "    .colab-df-container {\n",
              "      display:flex;\n",
              "      flex-wrap:wrap;\n",
              "      gap: 12px;\n",
              "    }\n",
              "\n",
              "    .colab-df-convert {\n",
              "      background-color: #E8F0FE;\n",
              "      border: none;\n",
              "      border-radius: 50%;\n",
              "      cursor: pointer;\n",
              "      display: none;\n",
              "      fill: #1967D2;\n",
              "      height: 32px;\n",
              "      padding: 0 0 0 0;\n",
              "      width: 32px;\n",
              "    }\n",
              "\n",
              "    .colab-df-convert:hover {\n",
              "      background-color: #E2EBFA;\n",
              "      box-shadow: 0px 1px 2px rgba(60, 64, 67, 0.3), 0px 1px 3px 1px rgba(60, 64, 67, 0.15);\n",
              "      fill: #174EA6;\n",
              "    }\n",
              "\n",
              "    [theme=dark] .colab-df-convert {\n",
              "      background-color: #3B4455;\n",
              "      fill: #D2E3FC;\n",
              "    }\n",
              "\n",
              "    [theme=dark] .colab-df-convert:hover {\n",
              "      background-color: #434B5C;\n",
              "      box-shadow: 0px 1px 3px 1px rgba(0, 0, 0, 0.15);\n",
              "      filter: drop-shadow(0px 1px 2px rgba(0, 0, 0, 0.3));\n",
              "      fill: #FFFFFF;\n",
              "    }\n",
              "  </style>\n",
              "\n",
              "      <script>\n",
              "        const buttonEl =\n",
              "          document.querySelector('#df-fb885fd8-a4e9-4f9e-850d-3b820c9d02fe button.colab-df-convert');\n",
              "        buttonEl.style.display =\n",
              "          google.colab.kernel.accessAllowed ? 'block' : 'none';\n",
              "\n",
              "        async function convertToInteractive(key) {\n",
              "          const element = document.querySelector('#df-fb885fd8-a4e9-4f9e-850d-3b820c9d02fe');\n",
              "          const dataTable =\n",
              "            await google.colab.kernel.invokeFunction('convertToInteractive',\n",
              "                                                     [key], {});\n",
              "          if (!dataTable) return;\n",
              "\n",
              "          const docLinkHtml = 'Like what you see? Visit the ' +\n",
              "            '<a target=\"_blank\" href=https://colab.research.google.com/notebooks/data_table.ipynb>data table notebook</a>'\n",
              "            + ' to learn more about interactive tables.';\n",
              "          element.innerHTML = '';\n",
              "          dataTable['output_type'] = 'display_data';\n",
              "          await google.colab.output.renderOutput(dataTable, element);\n",
              "          const docLink = document.createElement('div');\n",
              "          docLink.innerHTML = docLinkHtml;\n",
              "          element.appendChild(docLink);\n",
              "        }\n",
              "      </script>\n",
              "    </div>\n",
              "  </div>\n",
              "  "
            ],
            "text/plain": [
              "                    feature  importance\n",
              "9         trade_price_last1    0.358125\n",
              "12  curve_based_price_last1    0.254275\n",
              "7         curve_based_price    0.213769\n",
              "14        trade_price_last2    0.081057\n",
              "19        trade_price_last3    0.020600\n",
              "24        trade_price_last4    0.015770\n",
              "17  curve_based_price_last2    0.013024\n",
              "34        trade_price_last6    0.011476\n",
              "47  curve_based_price_last8    0.011368\n",
              "29        trade_price_last5    0.007514"
            ]
          },
          "execution_count": 129,
          "metadata": {},
          "output_type": "execute_result"
        }
      ],
      "source": [
        "importance_df.head(10)"
      ]
    },
    {
      "cell_type": "code",
      "execution_count": null,
      "metadata": {
        "colab": {
          "base_uri": "https://localhost:8080/",
          "height": 404
        },
        "id": "2UvYcwKipOp-",
        "outputId": "b6c05b7f-8e4c-43bf-ff47-bb1feae8d14d"
      },
      "outputs": [
        {
          "data": {
            "image/png": "[encoded data removed]",
            "text/plain": [
              "<Figure size 720x432 with 1 Axes>"
            ]
          },
          "metadata": {
            "needs_background": "light"
          },
          "output_type": "display_data"
        }
      ],
      "source": [
        "plt.figure(figsize=(10,6))\n",
        "plt.title('Feature Importance')\n",
        "sns.barplot(data=importance_df.head(10), x='importance', y='feature');"
      ]
    },
    {
      "cell_type": "markdown",
      "metadata": {
        "id": "GzXQC4yOpb2E"
      },
      "source": [
        "###XGB Hyperparameter Tuning and Regularization"
      ]
    },
    {
      "cell_type": "code",
      "execution_count": null,
      "metadata": {
        "id": "QujCaDthpOhN"
      },
      "outputs": [],
      "source": [
        "def test_params(**params):\n",
        "    XGBRegressor_model = XGBRegressor(n_jobs=-1, random_state=42, **params)\n",
        "    XGBRegressor_model.fit(train_inputs, train_targets)\n",
        "    train_rmse = rmse(XGBRegressor_model.predict(train_inputs), train_targets)\n",
        "    val_rmse = rmse(XGBRegressor_model.predict(val_inputs), val_targets)\n",
        "    print('Train RMSE: {}, Validation RMSE: {}'.format(train_rmse, val_rmse))"
      ]
    },
    {
      "cell_type": "markdown",
      "metadata": {
        "id": "qSnmt3OqCw8p"
      },
      "source": [
        "####Hyperparameter n_estimators"
      ]
    },
    {
      "cell_type": "code",
      "execution_count": null,
      "metadata": {
        "colab": {
          "base_uri": "https://localhost:8080/"
        },
        "id": "yarZLFHlHKWZ",
        "outputId": "efdfa170-3b90-47d9-900a-b4a92b568790"
      },
      "outputs": [
        {
          "name": "stdout",
          "output_type": "stream",
          "text": [
            "[14:07:18] WARNING: /workspace/src/objective/regression_obj.cu:152: reg:linear is now deprecated in favor of reg:squarederror.\n",
            "Train RMSE: 1.8425567034819768, Validation RMSE: 1.8347363094385565\n"
          ]
        }
      ],
      "source": [
        "test_params(n_estimators=40)"
      ]
    },
    {
      "cell_type": "code",
      "execution_count": null,
      "metadata": {
        "colab": {
          "base_uri": "https://localhost:8080/"
        },
        "id": "5C8d61aDJUtC",
        "outputId": "b32f8d21-9291-42e1-d44e-9a9f40bcc067"
      },
      "outputs": [
        {
          "name": "stdout",
          "output_type": "stream",
          "text": [
            "[14:08:22] WARNING: /workspace/src/objective/regression_obj.cu:152: reg:linear is now deprecated in favor of reg:squarederror.\n",
            "Train RMSE: 1.113890074798538, Validation RMSE: 1.1020523448899162\n"
          ]
        }
      ],
      "source": [
        "test_params(n_estimators=50)"
      ]
    },
    {
      "cell_type": "code",
      "execution_count": null,
      "metadata": {
        "colab": {
          "base_uri": "https://localhost:8080/"
        },
        "id": "wEoIqrUAKLGV",
        "outputId": "e42d1c57-0fab-4c01-e3e0-6c6312ad80ed"
      },
      "outputs": [
        {
          "name": "stdout",
          "output_type": "stream",
          "text": [
            "[14:09:39] WARNING: /workspace/src/objective/regression_obj.cu:152: reg:linear is now deprecated in favor of reg:squarederror.\n",
            "Train RMSE: 0.9671258341352644, Validation RMSE: 0.9545623143554444\n"
          ]
        }
      ],
      "source": [
        "test_params(n_estimators=60)"
      ]
    },
    {
      "cell_type": "code",
      "execution_count": null,
      "metadata": {
        "colab": {
          "base_uri": "https://localhost:8080/"
        },
        "id": "IyBV_GqLKs-6",
        "outputId": "d95e329f-4096-4715-c1bc-5506c053d838"
      },
      "outputs": [
        {
          "name": "stdout",
          "output_type": "stream",
          "text": [
            "[14:11:22] WARNING: /workspace/src/objective/regression_obj.cu:152: reg:linear is now deprecated in favor of reg:squarederror.\n",
            "Train RMSE: 0.9344956878061881, Validation RMSE: 0.9229751677121765\n"
          ]
        }
      ],
      "source": [
        "test_params(n_estimators=70)"
      ]
    },
    {
      "cell_type": "markdown",
      "metadata": {
        "id": "XZHjBVBaC4Wg"
      },
      "source": [
        "####Hyperparameter maxdepth"
      ]
    },
    {
      "cell_type": "code",
      "execution_count": null,
      "metadata": {
        "colab": {
          "base_uri": "https://localhost:8080/"
        },
        "id": "3UA4U1DxDABE",
        "outputId": "f25a7282-22a6-472e-bd26-c3e0d28dd91b"
      },
      "outputs": [
        {
          "name": "stdout",
          "output_type": "stream",
          "text": [
            "[14:14:08] WARNING: /workspace/src/objective/regression_obj.cu:152: reg:linear is now deprecated in favor of reg:squarederror.\n",
            "Train RMSE: 0.9813577503667666, Validation RMSE: 0.9694539493951796\n"
          ]
        }
      ],
      "source": [
        "test_params(max_depth=2)"
      ]
    },
    {
      "cell_type": "code",
      "execution_count": null,
      "metadata": {
        "colab": {
          "base_uri": "https://localhost:8080/"
        },
        "id": "AecqK3vvC_9P",
        "outputId": "0f0856b7-d2bd-43ea-9d44-2c1e9d71555e"
      },
      "outputs": [
        {
          "name": "stdout",
          "output_type": "stream",
          "text": [
            "[14:15:54] WARNING: /workspace/src/objective/regression_obj.cu:152: reg:linear is now deprecated in favor of reg:squarederror.\n",
            "Train RMSE: 0.8272102064004637, Validation RMSE: 0.8372527479972082\n"
          ]
        }
      ],
      "source": [
        "test_params(max_depth=5)"
      ]
    },
    {
      "cell_type": "code",
      "execution_count": null,
      "metadata": {
        "colab": {
          "base_uri": "https://localhost:8080/"
        },
        "id": "OvZhmcqMQn3O",
        "outputId": "5c4b4acc-8d44-4523-fe23-fa5a02af5b97"
      },
      "outputs": [
        {
          "name": "stdout",
          "output_type": "stream",
          "text": [
            "[14:20:06] WARNING: /workspace/src/objective/regression_obj.cu:152: reg:linear is now deprecated in favor of reg:squarederror.\n",
            "Train RMSE: 0.6310786222036282, Validation RMSE: 0.7786921582109955\n"
          ]
        }
      ],
      "source": [
        "test_params(max_depth=10)"
      ]
    },
    {
      "cell_type": "markdown",
      "metadata": {
        "id": "jxUL2cSVDg_Y"
      },
      "source": [
        "####Hyperparameter learning rate"
      ]
    },
    {
      "cell_type": "code",
      "execution_count": null,
      "metadata": {
        "colab": {
          "base_uri": "https://localhost:8080/"
        },
        "id": "_tVTKdkGC_zo",
        "outputId": "fe3bddc6-1ba6-4ae6-de32-6297a57292ff"
      },
      "outputs": [
        {
          "name": "stdout",
          "output_type": "stream",
          "text": [
            "[14:29:41] WARNING: /workspace/src/objective/regression_obj.cu:152: reg:linear is now deprecated in favor of reg:squarederror.\n",
            "Train RMSE: 37.901555721173885, Validation RMSE: 37.88312834709381\n"
          ]
        }
      ],
      "source": [
        "test_params(learning_rate=0.01)"
      ]
    },
    {
      "cell_type": "code",
      "execution_count": null,
      "metadata": {
        "colab": {
          "base_uri": "https://localhost:8080/"
        },
        "id": "ZX9vYikftnoH",
        "outputId": "af760c5e-f746-4d4f-de34-ba18356e7311"
      },
      "outputs": [
        {
          "name": "stdout",
          "output_type": "stream",
          "text": [
            "[14:32:00] WARNING: /workspace/src/objective/regression_obj.cu:152: reg:linear is now deprecated in favor of reg:squarederror.\n",
            "Train RMSE: 0.9077257901581114, Validation RMSE: 0.8988870989533401\n"
          ]
        }
      ],
      "source": [
        "test_params(learning_rate=0.1)"
      ]
    },
    {
      "cell_type": "code",
      "execution_count": null,
      "metadata": {
        "colab": {
          "base_uri": "https://localhost:8080/"
        },
        "id": "uZZGtTXrON37",
        "outputId": "793b73e3-15c2-466c-866d-fc4d0eef6b77"
      },
      "outputs": [
        {
          "name": "stdout",
          "output_type": "stream",
          "text": [
            "[14:34:21] WARNING: /workspace/src/objective/regression_obj.cu:152: reg:linear is now deprecated in favor of reg:squarederror.\n",
            "Train RMSE: 0.9154265444646993, Validation RMSE: 0.9161985883850818\n"
          ]
        }
      ],
      "source": [
        "test_params(learning_rate=0.2)"
      ]
    },
    {
      "cell_type": "markdown",
      "metadata": {
        "id": "gBi-hg9DYVZX"
      },
      "source": [
        "##Putting the parameters in the training *model*"
      ]
    },
    {
      "cell_type": "code",
      "execution_count": null,
      "metadata": {
        "id": "GWDgKTfYSFLE"
      },
      "outputs": [],
      "source": [
        "XGBRegressor_model = XGBRegressor(n_jobs=-1, random_state=42, n_estimators=60,learning_rate=0.1, max_depth=10)"
      ]
    },
    {
      "cell_type": "code",
      "execution_count": null,
      "metadata": {
        "colab": {
          "base_uri": "https://localhost:8080/"
        },
        "id": "v8fmgX_pTPa7",
        "outputId": "30c40e36-152b-4da3-8e02-a8dc55f99c2d"
      },
      "outputs": [
        {
          "name": "stdout",
          "output_type": "stream",
          "text": [
            "[14:36:59] WARNING: /workspace/src/objective/regression_obj.cu:152: reg:linear is now deprecated in favor of reg:squarederror.\n"
          ]
        },
        {
          "data": {
            "text/plain": [
              "XGBRegressor(max_depth=10, n_estimators=60, n_jobs=-1, random_state=42)"
            ]
          },
          "execution_count": 143,
          "metadata": {},
          "output_type": "execute_result"
        }
      ],
      "source": [
        "XGBRegressor_model.fit(train_inputs,train_targets)"
      ]
    },
    {
      "cell_type": "code",
      "execution_count": null,
      "metadata": {
        "id": "FqqPD8ZtU9QU"
      },
      "outputs": [],
      "source": [
        "XGB_train_preds = XGBRegressor_model.predict(train_inputs)"
      ]
    },
    {
      "cell_type": "code",
      "execution_count": null,
      "metadata": {
        "colab": {
          "base_uri": "https://localhost:8080/"
        },
        "id": "wRIDl3dLVat3",
        "outputId": "ba132619-9665-498d-9433-a7b402b48452"
      },
      "outputs": [
        {
          "name": "stdout",
          "output_type": "stream",
          "text": [
            "XGB_train_rmse :  0.7233299356698063\n"
          ]
        }
      ],
      "source": [
        "XGB_train_rmse = mean_squared_error(XGB_train_preds,train_targets,squared=False)\n",
        "\n",
        "print('XGB_train_rmse : ',XGB_train_rmse)"
      ]
    },
    {
      "cell_type": "markdown",
      "metadata": {
        "id": "sdqrpJn4Yf28"
      },
      "source": [
        "###Using the model with validation data"
      ]
    },
    {
      "cell_type": "code",
      "execution_count": null,
      "metadata": {
        "id": "EJL7Flc6VHRU"
      },
      "outputs": [],
      "source": [
        "XGB_val_preds = XGBRegressor_model.predict(val_inputs)"
      ]
    },
    {
      "cell_type": "code",
      "execution_count": null,
      "metadata": {
        "colab": {
          "base_uri": "https://localhost:8080/"
        },
        "id": "WytiXZp0Vaob",
        "outputId": "cb8d679c-43d7-4f42-ac1d-ba344307cb56"
      },
      "outputs": [
        {
          "name": "stdout",
          "output_type": "stream",
          "text": [
            "XGB_val_rmse :  0.8191189659253895\n"
          ]
        }
      ],
      "source": [
        "XGB_val_rmse = mean_squared_error(XGB_val_preds,val_targets,squared=False)\n",
        "\n",
        "print('XGB_val_rmse : ',XGB_val_rmse)"
      ]
    },
    {
      "cell_type": "markdown",
      "metadata": {
        "id": "UyWZTCQxYwHo"
      },
      "source": [
        "###Using the model with test data"
      ]
    },
    {
      "cell_type": "code",
      "execution_count": null,
      "metadata": {
        "id": "7MHElaXMTPQr"
      },
      "outputs": [],
      "source": [
        "XGB_test_preds = XGBRegressor_model.predict(evaluate)"
      ]
    },
    {
      "cell_type": "code",
      "execution_count": null,
      "metadata": {
        "colab": {
          "base_uri": "https://localhost:8080/"
        },
        "id": "jBtznytUWOoE",
        "outputId": "39f4c866-7083-4494-dc3b-f0a191ef6562"
      },
      "outputs": [
        {
          "name": "stdout",
          "output_type": "stream",
          "text": [
            "[ 84.29819  110.79086   93.17857  ... 116.396706  67.1268    83.05664 ]\n"
          ]
        }
      ],
      "source": [
        "print(XGB_test_preds)"
      ]
    },
    {
      "cell_type": "markdown",
      "metadata": {
        "id": "bqZZVUEET6pu"
      },
      "source": [
        "##Saving the model"
      ]
    },
    {
      "cell_type": "code",
      "execution_count": null,
      "metadata": {
        "id": "XJ__kHADUwQn"
      },
      "outputs": [],
      "source": [
        "import joblib"
      ]
    },
    {
      "cell_type": "code",
      "execution_count": null,
      "metadata": {
        "id": "O2e5FnS1UwOL"
      },
      "outputs": [],
      "source": [
        "bond_prices_prediction = {\n",
        "    'model': XGBRegressor_model,\n",
        "    'imputer': imputer,\n",
        "    'scaler': scaler,\n",
        "    'input_cols': input_cols,\n",
        "    'target_col': Target,\n",
        "    'numeric_cols': numerical_cols\n",
        "}"
      ]
    },
    {
      "cell_type": "code",
      "execution_count": null,
      "metadata": {
        "colab": {
          "base_uri": "https://localhost:8080/"
        },
        "id": "4ykmHwkIUwLl",
        "outputId": "1c157cb8-4c36-4fa9-aac1-24722730960b"
      },
      "outputs": [
        {
          "data": {
            "text/plain": [
              "['bond_prices_prediction.joblib']"
            ]
          },
          "execution_count": 152,
          "metadata": {},
          "output_type": "execute_result"
        }
      ],
      "source": [
        "joblib.dump(bond_prices_prediction, 'bond_prices_prediction.joblib')"
      ]
    },
    {
      "cell_type": "code",
      "execution_count": null,
      "metadata": {
        "colab": {
          "base_uri": "https://localhost:8080/",
          "height": 110
        },
        "id": "nS63kXplT6Sd",
        "outputId": "c0f5bddb-2e20-4e81-fa7a-8e07c4545713"
      },
      "outputs": [
        {
          "name": "stdout",
          "output_type": "stream",
          "text": [
            "[jovian] Detected Colab notebook...\u001b[0m\n",
            "[jovian] Uploading colab notebook to Jovian...\u001b[0m\n",
            "[jovian] Uploading additional outputs...\u001b[0m\n",
            "Committed successfully! https://jovian.ai/dhanasekar1620/bond-prediction\n"
          ]
        },
        {
          "data": {
            "application/vnd.google.colaboratory.intrinsic+json": {
              "type": "string"
            },
            "text/plain": [
              "'https://jovian.ai/dhanasekar1620/bond-prediction'"
            ]
          },
          "execution_count": 153,
          "metadata": {},
          "output_type": "execute_result"
        }
      ],
      "source": [
        "jovian.commit(outputs=['bond_prices_prediction.joblib'])"
      ]
    },
    {
      "cell_type": "markdown",
      "metadata": {
        "id": "cfN-ydpfY2AG"
      },
      "source": [
        "##Creating a Dataframe for submission"
      ]
    },
    {
      "cell_type": "code",
      "execution_count": null,
      "metadata": {
        "id": "yjasBlOWWaeI"
      },
      "outputs": [],
      "source": [
        "sub_series=test_df['id'].copy()"
      ]
    },
    {
      "cell_type": "code",
      "execution_count": null,
      "metadata": {
        "id": "Ih8xsWqMW-DT"
      },
      "outputs": [],
      "source": [
        "sub_df = sub_series.to_frame()"
      ]
    },
    {
      "cell_type": "code",
      "execution_count": null,
      "metadata": {
        "id": "O7ROSzA_W-BY"
      },
      "outputs": [],
      "source": [
        "sub_df['Predicted_price']=XGB_test_preds"
      ]
    },
    {
      "cell_type": "code",
      "execution_count": null,
      "metadata": {
        "colab": {
          "base_uri": "https://localhost:8080/",
          "height": 423
        },
        "id": "xuWezhlOW9_r",
        "outputId": "6d50a2a0-bafe-4b7a-92bf-514f749472ac"
      },
      "outputs": [
        {
          "data": {
            "text/html": [
              "\n",
              "  <div id=\"df-2136d92e-8000-4d41-8bf3-60e62a4264e1\">\n",
              "    <div class=\"colab-df-container\">\n",
              "      <div>\n",
              "<style scoped>\n",
              "    .dataframe tbody tr th:only-of-type {\n",
              "        vertical-align: middle;\n",
              "    }\n",
              "\n",
              "    .dataframe tbody tr th {\n",
              "        vertical-align: top;\n",
              "    }\n",
              "\n",
              "    .dataframe thead th {\n",
              "        text-align: right;\n",
              "    }\n",
              "</style>\n",
              "<table border=\"1\" class=\"dataframe\">\n",
              "  <thead>\n",
              "    <tr style=\"text-align: right;\">\n",
              "      <th></th>\n",
              "      <th>id</th>\n",
              "      <th>Predicted_price</th>\n",
              "    </tr>\n",
              "  </thead>\n",
              "  <tbody>\n",
              "    <tr>\n",
              "      <th>0</th>\n",
              "      <td>762679</td>\n",
              "      <td>84.298187</td>\n",
              "    </tr>\n",
              "    <tr>\n",
              "      <th>1</th>\n",
              "      <td>762680</td>\n",
              "      <td>110.790863</td>\n",
              "    </tr>\n",
              "    <tr>\n",
              "      <th>2</th>\n",
              "      <td>762681</td>\n",
              "      <td>93.178574</td>\n",
              "    </tr>\n",
              "    <tr>\n",
              "      <th>3</th>\n",
              "      <td>762682</td>\n",
              "      <td>96.282051</td>\n",
              "    </tr>\n",
              "    <tr>\n",
              "      <th>4</th>\n",
              "      <td>762683</td>\n",
              "      <td>89.936119</td>\n",
              "    </tr>\n",
              "    <tr>\n",
              "      <th>...</th>\n",
              "      <td>...</td>\n",
              "      <td>...</td>\n",
              "    </tr>\n",
              "    <tr>\n",
              "      <th>61141</th>\n",
              "      <td>823820</td>\n",
              "      <td>72.880821</td>\n",
              "    </tr>\n",
              "    <tr>\n",
              "      <th>61142</th>\n",
              "      <td>823821</td>\n",
              "      <td>88.023499</td>\n",
              "    </tr>\n",
              "    <tr>\n",
              "      <th>61143</th>\n",
              "      <td>823822</td>\n",
              "      <td>116.396706</td>\n",
              "    </tr>\n",
              "    <tr>\n",
              "      <th>61144</th>\n",
              "      <td>823823</td>\n",
              "      <td>67.126801</td>\n",
              "    </tr>\n",
              "    <tr>\n",
              "      <th>61145</th>\n",
              "      <td>823824</td>\n",
              "      <td>83.056641</td>\n",
              "    </tr>\n",
              "  </tbody>\n",
              "</table>\n",
              "<p>61146 rows × 2 columns</p>\n",
              "</div>\n",
              "      <button class=\"colab-df-convert\" onclick=\"convertToInteractive('df-2136d92e-8000-4d41-8bf3-60e62a4264e1')\"\n",
              "              title=\"Convert this dataframe to an interactive table.\"\n",
              "              style=\"display:none;\">\n",
              "        \n",
              "  <svg xmlns=\"http://www.w3.org/2000/svg\" height=\"24px\"viewBox=\"0 0 24 24\"\n",
              "       width=\"24px\">\n",
              "    <path d=\"M0 0h24v24H0V0z\" fill=\"none\"/>\n",
              "    <path d=\"M18.56 5.44l.94 2.06.94-2.06 2.06-.94-2.06-.94-.94-2.06-.94 2.06-2.06.94zm-11 1L8.5 8.5l.94-2.06 2.06-.94-2.06-.94L8.5 2.5l-.94 2.06-2.06.94zm10 10l.94 2.06.94-2.06 2.06-.94-2.06-.94-.94-2.06-.94 2.06-2.06.94z\"/><path d=\"M17.41 7.96l-1.37-1.37c-.4-.4-.92-.59-1.43-.59-.52 0-1.04.2-1.43.59L10.3 9.45l-7.72 7.72c-.78.78-.78 2.05 0 2.83L4 21.41c.39.39.9.59 1.41.59.51 0 1.02-.2 1.41-.59l7.78-7.78 2.81-2.81c.8-.78.8-2.07 0-2.86zM5.41 20L4 18.59l7.72-7.72 1.47 1.35L5.41 20z\"/>\n",
              "  </svg>\n",
              "      </button>\n",
              "      \n",
              "  <style>\n",
              "    .colab-df-container {\n",
              "      display:flex;\n",
              "      flex-wrap:wrap;\n",
              "      gap: 12px;\n",
              "    }\n",
              "\n",
              "    .colab-df-convert {\n",
              "      background-color: #E8F0FE;\n",
              "      border: none;\n",
              "      border-radius: 50%;\n",
              "      cursor: pointer;\n",
              "      display: none;\n",
              "      fill: #1967D2;\n",
              "      height: 32px;\n",
              "      padding: 0 0 0 0;\n",
              "      width: 32px;\n",
              "    }\n",
              "\n",
              "    .colab-df-convert:hover {\n",
              "      background-color: #E2EBFA;\n",
              "      box-shadow: 0px 1px 2px rgba(60, 64, 67, 0.3), 0px 1px 3px 1px rgba(60, 64, 67, 0.15);\n",
              "      fill: #174EA6;\n",
              "    }\n",
              "\n",
              "    [theme=dark] .colab-df-convert {\n",
              "      background-color: #3B4455;\n",
              "      fill: #D2E3FC;\n",
              "    }\n",
              "\n",
              "    [theme=dark] .colab-df-convert:hover {\n",
              "      background-color: #434B5C;\n",
              "      box-shadow: 0px 1px 3px 1px rgba(0, 0, 0, 0.15);\n",
              "      filter: drop-shadow(0px 1px 2px rgba(0, 0, 0, 0.3));\n",
              "      fill: #FFFFFF;\n",
              "    }\n",
              "  </style>\n",
              "\n",
              "      <script>\n",
              "        const buttonEl =\n",
              "          document.querySelector('#df-2136d92e-8000-4d41-8bf3-60e62a4264e1 button.colab-df-convert');\n",
              "        buttonEl.style.display =\n",
              "          google.colab.kernel.accessAllowed ? 'block' : 'none';\n",
              "\n",
              "        async function convertToInteractive(key) {\n",
              "          const element = document.querySelector('#df-2136d92e-8000-4d41-8bf3-60e62a4264e1');\n",
              "          const dataTable =\n",
              "            await google.colab.kernel.invokeFunction('convertToInteractive',\n",
              "                                                     [key], {});\n",
              "          if (!dataTable) return;\n",
              "\n",
              "          const docLinkHtml = 'Like what you see? Visit the ' +\n",
              "            '<a target=\"_blank\" href=https://colab.research.google.com/notebooks/data_table.ipynb>data table notebook</a>'\n",
              "            + ' to learn more about interactive tables.';\n",
              "          element.innerHTML = '';\n",
              "          dataTable['output_type'] = 'display_data';\n",
              "          await google.colab.output.renderOutput(dataTable, element);\n",
              "          const docLink = document.createElement('div');\n",
              "          docLink.innerHTML = docLinkHtml;\n",
              "          element.appendChild(docLink);\n",
              "        }\n",
              "      </script>\n",
              "    </div>\n",
              "  </div>\n",
              "  "
            ],
            "text/plain": [
              "           id  Predicted_price\n",
              "0      762679        84.298187\n",
              "1      762680       110.790863\n",
              "2      762681        93.178574\n",
              "3      762682        96.282051\n",
              "4      762683        89.936119\n",
              "...       ...              ...\n",
              "61141  823820        72.880821\n",
              "61142  823821        88.023499\n",
              "61143  823822       116.396706\n",
              "61144  823823        67.126801\n",
              "61145  823824        83.056641\n",
              "\n",
              "[61146 rows x 2 columns]"
            ]
          },
          "execution_count": 157,
          "metadata": {},
          "output_type": "execute_result"
        }
      ],
      "source": [
        "sub_df"
      ]
    },
    {
      "cell_type": "code",
      "execution_count": null,
      "metadata": {
        "colab": {
          "base_uri": "https://localhost:8080/",
          "height": 91
        },
        "id": "tU8cfINZr3G9",
        "outputId": "3e6abd62-74df-4b6b-a434-90e5bd38602d"
      },
      "outputs": [
        {
          "name": "stdout",
          "output_type": "stream",
          "text": [
            "[jovian] Detected Colab notebook...\u001b[0m\n",
            "[jovian] Uploading colab notebook to Jovian...\u001b[0m\n",
            "Committed successfully! https://jovian.ai/dhanasekar1620/bond-prediction\n"
          ]
        },
        {
          "data": {
            "application/vnd.google.colaboratory.intrinsic+json": {
              "type": "string"
            },
            "text/plain": [
              "'https://jovian.ai/dhanasekar1620/bond-prediction'"
            ]
          },
          "execution_count": 158,
          "metadata": {},
          "output_type": "execute_result"
        }
      ],
      "source": [
        "jovian.commit()"
      ]
    },
    {
      "cell_type": "code",
      "execution_count": null,
      "metadata": {
        "id": "1EBA7IILsSHT"
      },
      "outputs": [],
      "source": [
        "sub_df.to_csv('sub.csv', index=False)"
      ]
    },
    {
      "cell_type": "code",
      "execution_count": null,
      "metadata": {
        "colab": {
          "base_uri": "https://localhost:8080/",
          "height": 34
        },
        "id": "r06u4Bj1ecAb",
        "outputId": "919f9bde-90ea-411f-8ad4-056c77140677"
      },
      "outputs": [
        {
          "data": {
            "text/html": [
              "<a href='sub.csv' target='_blank'>sub.csv</a><br>"
            ],
            "text/plain": [
              "/content/sub.csv"
            ]
          },
          "execution_count": 160,
          "metadata": {},
          "output_type": "execute_result"
        }
      ],
      "source": [
        "from IPython.display import FileLink\n",
        "FileLink('sub.csv') # Doesn't work on Colab, use the file browser instead to download the file."
      ]
    },
    {
      "cell_type": "markdown",
      "metadata": {
        "id": "RUVNZ4BcLM92"
      },
      "source": [
        "##Summary\n",
        "\n",
        "- The input dataset was correlated with the target and the important features were identified and plotted.\n",
        "\n",
        "- The dataset had missing/Nan values which were imputed and Scaled.\n",
        "\n",
        "- The dataset is then split into training and validation sets.\n",
        "\n",
        "- The ML models were trained using the training datasets.\n",
        "\n",
        "- Hyperparameter tuning was done on the models to achieve best model.\n",
        "\n",
        "- Based on the output rmse values the most suitable model was selected considering the system capability.\n",
        "\n",
        "- The model was finally run with the test dataset and predictions were obtained.\n",
        "\n",
        "- The predictions were recorded in a dataframe and submitted in CSV format.\n"
      ]
    },
    {
      "cell_type": "markdown",
      "metadata": {
        "id": "mFRAnbpe-XN7"
      },
      "source": [
        "##References"
      ]
    },
    {
      "cell_type": "markdown",
      "metadata": {
        "id": "5ju7UV8r-aeL"
      },
      "source": [
        "Stack Overflow - https://stackoverflow.com/\n",
        "\n",
        "Geeksforgeeks -https://www.geeksforgeeks.org/   selecting-rows-in-pandas-dataframe-based-on-conditions/\n",
        "\n",
        "AnalyticsVidhya - https://www.analyticsvidhya.com/blog/2015/06/tuning-random-forest-model/\n",
        "\n",
        "XGBoost - https://xgboost.readthedocs.io/en/stable/parameter.html\n",
        "\n",
        "Hyperparameter Tuning - https://towardsdatascience.com/hyperparameter-tuning-the-random-forest-in-python-using-scikit-learn-28d2aa77dd74"
      ]
    },
    {
      "cell_type": "markdown",
      "metadata": {
        "id": "5XGkdnT5_QbL"
      },
      "source": [
        "##Submission"
      ]
    },
    {
      "cell_type": "code",
      "execution_count": null,
      "metadata": {
        "id": "ps1Qtn4Iehtn"
      },
      "outputs": [],
      "source": [
        "jovian.submit(assignment=\"zerotogbms-project\")"
      ]
    },
    {
      "cell_type": "code",
      "execution_count": null,
      "metadata": {
        "id": "Zz3hVEEvhR9F"
      },
      "outputs": [],
      "source": []
    }
  ],
  "metadata": {
    "colab": {
      "provenance": []
    },
    "kernelspec": {
      "display_name": "Python 3 (ipykernel)",
      "language": "python",
      "name": "python3"
    },
    "language_info": {
      "codemirror_mode": {
        "name": "ipython",
        "version": 3
      },
      "file_extension": ".py",
      "mimetype": "text/x-python",
      "name": "python",
      "nbconvert_exporter": "python",
      "pygments_lexer": "ipython3",
      "version": "3.9.6"
    }
  },
  "nbformat": 4,
  "nbformat_minor": 0
}